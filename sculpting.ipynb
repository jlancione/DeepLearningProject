{
 "cells": [
  {
   "cell_type": "markdown",
   "id": "81efb18b-2469-4c78-9113-1289cba7a310",
   "metadata": {},
   "source": [
    "# Manifold Sculpting"
   ]
  },
  {
   "cell_type": "code",
   "execution_count": 122,
   "id": "7288a54d-7e95-4ab4-a486-6a009644360b",
   "metadata": {},
   "outputs": [],
   "source": [
    "import matplotlib.pyplot as plt\n",
    "import torch\n",
    "from math import pi"
   ]
  },
  {
   "cell_type": "code",
   "execution_count": 76,
   "id": "7619254b-b03a-4370-a3fd-66fab2f6241e",
   "metadata": {},
   "outputs": [
    {
     "name": "stdout",
     "output_type": "stream",
     "text": [
      "tensor(6)\n",
      "tensor([2])\n"
     ]
    }
   ],
   "source": [
    "k = 2\n",
    "data = torch.Tensor([[1,1],[7,7],[9,9],[12,12], [5,5], [2,2]])\n",
    "p = data[2]\n",
    "sigma = 0.1\n",
    "n_dim = 1\n",
    "scale_factor = 1 # at first\n",
    "\n",
    "data_size = torch.tensor(data.size())\n",
    "m = data_size[0] # number of data points\n",
    "p_size = data_size[1:] # size of the single datapoint\n",
    "p_size0 = p_size - torch.ones_like(p_size) # to be used for indexing\n",
    "print(m)\n",
    "print(p_size)"
   ]
  },
  {
   "cell_type": "markdown",
   "id": "c6babfad-5bef-4b05-b46c-919e3f53acee",
   "metadata": {},
   "source": [
    "### Compute distances"
   ]
  },
  {
   "cell_type": "raw",
   "id": "4eec3c27-ece7-4562-9443-246d53f00962",
   "metadata": {},
   "source": [
    "Dumb way\n",
    "# troviamo i 1i k vicini\n",
    "scarti = p*torch.ones_like(data) - data\n",
    "dist_sq = scarti*scarti\n",
    "dist_sq = dist_sq.sum(dim=p_size_idx)\n",
    "\n",
    "# sort the points\n",
    "dist_sq, indices = torch.sort(dist_sq)\n",
    "print(dist_sq)\n",
    "# keep the first k (without the point itself)\n",
    "kneighb = indices[1:k+1]\n",
    "dist = torch.sqrt(dist_sq[1:k+1])\n",
    "\n",
    "print(kneighb)\n",
    "print(dist_sq[1:k+1])\n",
    "print(dist)\n",
    "# tutto qsto va in 1 ciclo sui .i"
   ]
  },
  {
   "cell_type": "code",
   "execution_count": 6,
   "id": "e791aadd-2316-4ce8-a705-e22f8c4f6d7c",
   "metadata": {},
   "outputs": [
    {
     "name": "stdout",
     "output_type": "stream",
     "text": [
      "tensor([[ 0.0000,  8.4853, 11.3137, 15.5563,  5.6569,  1.4142],\n",
      "        [ 8.4853,  0.0000,  2.8284,  7.0711,  2.8284,  7.0711],\n",
      "        [11.3137,  2.8284,  0.0000,  4.2426,  5.6569,  9.8995],\n",
      "        [15.5563,  7.0711,  4.2426,  0.0000,  9.8995, 14.1421],\n",
      "        [ 5.6569,  2.8284,  5.6569,  9.8995,  0.0000,  4.2426],\n",
      "        [ 1.4142,  7.0711,  9.8995, 14.1421,  4.2426,  0.0000]])\n"
     ]
    }
   ],
   "source": [
    "def neighbor_distance(data):\n",
    "    x2 = data * data\n",
    "    x2 = x2.sum(axis=1)\n",
    "    # print(x2)\n",
    "    data_t = torch.transpose(data, 0, 1) # pb in dim >i (es foto...), credo funzioni cmq\n",
    "    xx = data@data_t\n",
    "    # print(xx)\n",
    "    # print(x2.unsqueeze(dim=1))\n",
    "    dist = torch.sqrt( x2 - 2*xx + x2.unsqueeze(dim=1) )\n",
    "    # print(dist)\n",
    "    return dist\n",
    "\n",
    "\n",
    "def avg_neighb_distance(data):\n",
    "    dist = neighbor_distance(data)\n",
    "    avg_dist /= data.size()[0] # che sarebbe m\n",
    "    return avg_dist\n",
    "\n",
    "dist = neighbor_distance(data)"
   ]
  },
  {
   "cell_type": "code",
   "execution_count": 39,
   "id": "41f6ee16-0c73-4ac0-a3ea-93bc0c00e342",
   "metadata": {},
   "outputs": [],
   "source": [
    "# extract the neighbours\n",
    "_, indices = torch.sort(dist)\n",
    "# print(indices)\n",
    "# print(dist)\n",
    "# keep the first k (without the point itself)\n",
    "kneighb = indices[:, 1:k+1]\n",
    "kdist   = torch.zeros_like(kneighb)\n",
    "\n",
    "a = []\n",
    "for i in range(m):\n",
    "    # per qlche motivo nn si riesce a farlo direttamente con i torch.tensor\n",
    "    a.append( dist[kneighb[i][:], i] )\n",
    "# print(a)\n",
    "kdist = torch.reshape( torch.cat( a, 0 ), (-1, k) )\n",
    "del a\n",
    "\n",
    "# print(kdist)"
   ]
  },
  {
   "cell_type": "code",
   "execution_count": null,
   "id": "d4f60ba3-7072-485c-a4fd-049ed463b0e8",
   "metadata": {},
   "outputs": [],
   "source": [
    "# Compute angles\n",
    "# Loop over points\n",
    "# Variables with _idx run from 0 to m-1, they select points from `data`\n",
    "# Variables without _idx run from 0 to k-1\n",
    "\n",
    "# Entry i,j hosts the info (angle theta, kindex with respect to the neighborhood of j)\n",
    "# about the most colinear point of the couple i-j ie i-j-l\n",
    "theta = torch.ones((m,k))\n",
    "colinear = torch.ones((m,k))\n",
    "# Loop over data points\n",
    "for i_idx in range(m):\n",
    "    # Loop over neighbor points of i\n",
    "    for j_kidx, j_idx in enumerate(kneighb[i_idx]): # che me ne faccio dl'enumerate\n",
    "        p2nj = data[i_idx] - data[j_idx]\n",
    "        p2nj /= torch.norm(p2nj)\n",
    "\n",
    "        # angle = torch.ones(k)\n",
    "        colinear_kidx =  torch.ones(k)\n",
    "        # Loop over neighbor points of j\n",
    "        for l_kidx, l_indx in enumerate(kneighb[j_idx]):\n",
    "            p2nl = data[l_idx] - data[j_idx]\n",
    "            p2nl /= torch.norm(p2nl)\n",
    "\n",
    "            cos, cos_kidx = torch.sort(p2nl@c2nj, descending=True)\n",
    "            # extract the collinear angle and neighbor, 0 is the maximum\n",
    "            colinear[i, j_kidx] = cos_kidx[0] \n",
    "            theta[i, j_kidx] = torch.acos(cos[0]).item()\n",
    "            # colinear_kidx[l_kidx] = cos_kidx[0] \n",
    "            # angle[l_kidx] = torch.acos(cos[0]).item()\n",
    "\n",
    "dist_avg = torch.mean(kdist)"
   ]
  },
  {
   "cell_type": "code",
   "execution_count": 50,
   "id": "0a07a21b-14ad-4252-aa1b-b12f3cd976d1",
   "metadata": {},
   "outputs": [
    {
     "data": {
      "text/plain": [
       "tensor(1.)"
      ]
     },
     "execution_count": 50,
     "metadata": {},
     "output_type": "execute_result"
    }
   ],
   "source": [
    "## Test cell\n",
    "a = torch.Tensor([1,2])\n",
    "b = torch.Tensor([2,3])\n",
    "c = a@b\n",
    "d = c.item()\n",
    "a.tolist()\n",
    "a[0]"
   ]
  },
  {
   "cell_type": "code",
   "execution_count": 65,
   "id": "3271f0a4-bd63-47f4-9f52-e61e09f1c3cd",
   "metadata": {},
   "outputs": [
    {
     "name": "stdout",
     "output_type": "stream",
     "text": [
      "tensor([0.7071, 0.7071])\n"
     ]
    },
    {
     "data": {
      "text/plain": [
       "tensor(0.7854)"
      ]
     },
     "execution_count": 65,
     "metadata": {},
     "output_type": "execute_result"
    }
   ],
   "source": [
    "from math import acos\n",
    "a = torch.Tensor([0,1])\n",
    "b = torch.Tensor([1,1])\n",
    "a /= torch.norm(a)\n",
    "b /= torch.norm(b)\n",
    "print(b)\n",
    "c = torch.acos(a@b)\n",
    "c"
   ]
  },
  {
   "cell_type": "code",
   "execution_count": null,
   "id": "81d528ff-a177-4ae5-b33b-35eed33ddafb",
   "metadata": {},
   "outputs": [],
   "source": [
    "# PCA\n",
    "cov = torch.cov(data)\n",
    "eigenval, eigenvec = torch.linalg.eigh(-cov) # li ordina già in vista dla pca!\n",
    "eigenval = -eigenval  # pké li ordina decrescenti\n",
    "pca_data = eigenvec@data # è qla giusta o è qla trasposta?\n",
    "\n",
    "preserv_dim = torch.tensor(list(range(n_dim)))\n",
    "scaled_dim  = torch.tensor(list(range(n_dim, p_size)))"
   ]
  },
  {
   "cell_type": "code",
   "execution_count": 75,
   "id": "134da2b7-f53a-4f60-a2e9-d7b3369eba21",
   "metadata": {},
   "outputs": [
    {
     "name": "stdout",
     "output_type": "stream",
     "text": [
      "tensor([4.3028, 3.0000, 0.6972])\n",
      "tensor([[ 0.2898,  0.0000, -0.9571],\n",
      "        [ 0.9571,  0.0000,  0.2898],\n",
      "        [ 0.0000,  1.0000,  0.0000]])\n"
     ]
    }
   ],
   "source": [
    "## Test cell\n",
    "a = torch.Tensor([[1,1,0],\n",
    "                  [1,4,0],\n",
    "                  [0,0,3]])\n",
    "eigenval, eigenvec = torch.linalg.eigh(-a)\n",
    "eigenval = -eigenval\n",
    "print(eigenval)\n",
    "print(eigenvec)"
   ]
  },
  {
   "cell_type": "code",
   "execution_count": 110,
   "id": "ad665670-05be-456e-acce-f624e3b566be",
   "metadata": {},
   "outputs": [
    {
     "name": "stdout",
     "output_type": "stream",
     "text": [
      "che tavanata\n",
      "ush\n",
      "ush\n"
     ]
    }
   ],
   "source": [
    "a = [1,2]\n",
    "if [0]:\n",
    "    print(\"che tavanata\")\n",
    "while a:\n",
    "    a.pop(0)\n",
    "    print(\"ush\")\n"
   ]
  },
  {
   "cell_type": "code",
   "execution_count": null,
   "id": "c9ec0eb9-d81e-4f22-bc89-2489975d66ce",
   "metadata": {},
   "outputs": [],
   "source": []
  },
  {
   "cell_type": "code",
   "execution_count": null,
   "id": "4e31bb2d-14ca-47cb-a60f-7ae2f4ebaccb",
   "metadata": {},
   "outputs": [],
   "source": [
    "## Part 4 (core)\n",
    "## Untested (ma basta 1 cfr con il codice dl fratello)\n",
    "while (stopping criterion):\n",
    "    # Punto a\n",
    "    # downscale the unwanted dimensions\n",
    "    scale_factor *= sigma\n",
    "    pca_data[:, scaled_dim] *= sigma\n",
    "    \n",
    "    while (avg_neighb_distance(pca_data) > dist_avg):\n",
    "        pca_data[:, preserv_dim] /= sigma\n",
    "        \n",
    "    # Punto b\n",
    "    rand_indx = torch.multinomial(torch.ones(m), num_samples=1)\n",
    "    pr = data[rand_indx,:]\n",
    "    \n",
    "    q = []\n",
    "    q.append(pr)\n",
    "    visited = []\n",
    "\n",
    "    steps = 0\n",
    "    mean_error = 0  # mi sfugge a cosa serva...\n",
    "    counter = 0 # mi sfugge a cosa serva...\n",
    "    while q:  # while there are elements in q\n",
    "        p = q.pop(0)\n",
    "        if p in visited:\n",
    "            continue\n",
    "\n",
    "        # Add p's neighbors in the queue\n",
    "        for n in kneighb[p]:\n",
    "            q.append(n)\n",
    "            \n",
    "        # ADJUST POINT missing\n",
    "        # s, err = _adjust_point(p,visited) \n",
    "\n",
    "        step += s\n",
    "        mean_error += err\n",
    "        counter += 1\n",
    "        visited.append(p)\n",
    "\n",
    "    mean_error /= counter\n",
    "\n",
    "    # numbers from author (1 rozzo weight decay, sembra)\n",
    "    # if step < m:\n",
    "    #     learning_rate *= 0.87\n",
    "    # else:\n",
    "    #     learning_rate /= 0.91\n",
    "        "
   ]
  },
  {
   "cell_type": "code",
   "execution_count": 121,
   "id": "8657c5fe-44e5-4d26-9583-7e2ca09d17c3",
   "metadata": {},
   "outputs": [
    {
     "name": "stdout",
     "output_type": "stream",
     "text": [
      "tensor([[2],\n",
      "        [3]])\n",
      "tensor([3.])\n",
      "tensor([8.])\n"
     ]
    }
   ],
   "source": [
    "## Test cell\n",
    "a = torch.Tensor([[1,2,3,4],[5,6,7,8]])\n",
    "indx = torch.multinomial(a, num_samples=1) # replacement?\n",
    "print(indx)\n",
    "print(a[0,indx[0]])\n",
    "print(a[1,indx[1]])"
   ]
  },
  {
   "cell_type": "code",
   "execution_count": null,
   "id": "58a9e7c7-6e3e-4222-bb3d-fae30d3a1ef9",
   "metadata": {},
   "outputs": [],
   "source": [
    "def compute_error(p, neighb, colinear, visited):\n",
    "\n",
    "    w = torch.ones(k)\n",
    "    for j in range(k):\n",
    "        # chi è p? è 1 indice o è proprio 1 .? Direi che è 1 indice\n",
    "        w[j] = 10 if neighb[p,j] in visited else 1\n",
    "\n",
    "    total_error = 0\n",
    "    for i in range(k):\n",
    "        n = neighb[p,i]\n",
    "        c = colinear[p,i]\n",
    "\n",
    "        p2n = data[p] - data[n]\n",
    "        c2n = data[c] - data[n]\n",
    "        p2n /= torch.norm(p2n)\n",
    "        c2n /= torch.norm(c2n)\n",
    "        theta = torch.acos(p2n@c2n) # qua fa dei giochi con min e max...\n",
    "\n",
    "        cos, cos_kidx = torch.sort(p2nl@c2nj, descending=True)\n",
    "\n",
    "        err_dist = .5*(p2n - dist[p,i]) / avg_dist\n",
    "        err_theta = (theta - self.theta0[p,i])/pi   # tnto dovremo far tutto come 1 classe alla fine, qndi piuttosto che inventarmi 1 nome...\n",
    "        total_err += w[i] * (err_dist*err_dist + err_theta*err_theta)\n",
    "        \n",
    "    return total_err"
   ]
  },
  {
   "cell_type": "markdown",
   "id": "6b4b5e6f-1626-4d4c-8fba-8565e05da692",
   "metadata": {},
   "source": [
    "# Programma dla mattina:\n",
    "- Parti leggendo il pezzo che manca dl paper\n",
    "- controlla che qlo che hai già scritto funzioni \n",
    "    (cfr con il bro per il senso generale, che le funzioni facciano qlo che ti aspetti con dle test cells)\n",
    "- bisogna finire fit\n",
    "- scrivere adjust point\n",
    "- organizzare tutto in 1 classe\n",
    "\n",
    "## Poi incrociare forte le dita pké funzioni su MNIST"
   ]
  }
 ],
 "metadata": {
  "kernelspec": {
   "display_name": "Python 3 (ipykernel)",
   "language": "python",
   "name": "python3"
  },
  "language_info": {
   "codemirror_mode": {
    "name": "ipython",
    "version": 3
   },
   "file_extension": ".py",
   "mimetype": "text/x-python",
   "name": "python",
   "nbconvert_exporter": "python",
   "pygments_lexer": "ipython3",
   "version": "3.12.11"
  }
 },
 "nbformat": 4,
 "nbformat_minor": 5
}
