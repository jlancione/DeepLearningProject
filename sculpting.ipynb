{
 "cells": [
  {
   "cell_type": "markdown",
   "id": "81efb18b-2469-4c78-9113-1289cba7a310",
   "metadata": {},
   "source": [
    "# Manifold Sculpting"
   ]
  },
  {
   "cell_type": "code",
   "execution_count": 1,
   "id": "7288a54d-7e95-4ab4-a486-6a009644360b",
   "metadata": {},
   "outputs": [],
   "source": [
    "import matplotlib.pyplot as plt\n",
    "import torch"
   ]
  },
  {
   "cell_type": "code",
   "execution_count": 73,
   "id": "7619254b-b03a-4370-a3fd-66fab2f6241e",
   "metadata": {},
   "outputs": [
    {
     "name": "stdout",
     "output_type": "stream",
     "text": [
      "tensor([1])\n"
     ]
    }
   ],
   "source": [
    "k = 2\n",
    "data = torch.Tensor([[1,1],[7,7],[9,9],[12,12], [5,5], [2,2]])\n",
    "p = data[2]\n",
    "\n",
    "data_size = torch.tensor(data.size())\n",
    "m = data_dim[0] # number of data points\n",
    "p_size = data_dim[1:] # size of the single datapoint\n",
    "p_size0 = p_size - torch.ones_like(p_size) # to be used for indexing\n",
    "print(p_size0)"
   ]
  },
  {
   "cell_type": "code",
   "execution_count": null,
   "id": "e002419b-5aa4-46cc-8bf5-b6b33a36e58a",
   "metadata": {},
   "outputs": [],
   "source": [
    "def euclidean_dist(x,y):\n",
    "    dist_sq = (x - y)*(x - y)\n",
    "    return torch.sqrt(dist_sq)"
   ]
  },
  {
   "cell_type": "code",
   "execution_count": 59,
   "id": "3046099b-6f3b-4c0f-8812-f516fc424864",
   "metadata": {},
   "outputs": [
    {
     "name": "stdout",
     "output_type": "stream",
     "text": [
      "tensor([  0.,   8.,  18.,  32.,  98., 128.])\n",
      "tensor([1, 3])\n",
      "tensor([ 8., 18.])\n",
      "tensor([2.8284, 4.2426])\n"
     ]
    }
   ],
   "source": [
    "# troviamo i 1i k vicini\n",
    "scarti = p*torch.ones_like(data) - data\n",
    "dist_sq = scarti*scarti\n",
    "dist_sq = dist_sq.sum(dim=p_size_idx)\n",
    "\n",
    "# sort the points\n",
    "dist_sq, indices = torch.sort(dist_sq)\n",
    "print(dist_sq)\n",
    "# keep the first k (without the point itself)\n",
    "kneighb = indices[1:k+1]\n",
    "dist = torch.sqrt(dist_sq[1:k+1])\n",
    "\n",
    "print(kneighb)\n",
    "print(dist_sq[1:k+1])\n",
    "print(dist)\n",
    "# tutto qsto va in 1 ciclo sui .i"
   ]
  },
  {
   "cell_type": "code",
   "execution_count": 89,
   "id": "e791aadd-2316-4ce8-a705-e22f8c4f6d7c",
   "metadata": {},
   "outputs": [
    {
     "name": "stdout",
     "output_type": "stream",
     "text": [
      "tensor([[ 0.0000,  8.4853, 11.3137, 15.5563,  5.6569,  1.4142],\n",
      "        [ 8.4853,  0.0000,  2.8284,  7.0711,  2.8284,  7.0711],\n",
      "        [11.3137,  2.8284,  0.0000,  4.2426,  5.6569,  9.8995],\n",
      "        [15.5563,  7.0711,  4.2426,  0.0000,  9.8995, 14.1421],\n",
      "        [ 5.6569,  2.8284,  5.6569,  9.8995,  0.0000,  4.2426],\n",
      "        [ 1.4142,  7.0711,  9.8995, 14.1421,  4.2426,  0.0000]])\n"
     ]
    }
   ],
   "source": [
    "x2 = data * data\n",
    "x2 = x2.sum(axis=1)\n",
    "# print(x2)\n",
    "data_t = torch.transpose(data, 0, 1) # pb in dim >i (es foto...), credo funzioni cmq\n",
    "xx = data@data_t\n",
    "# print(xx)\n",
    "# print(x2.unsqueeze(dim=1))\n",
    "dist = torch.sqrt( x2 - 2*xx + x2.unsqueeze(dim=1) )\n",
    "print(dist)"
   ]
  },
  {
   "cell_type": "code",
   "execution_count": 90,
   "id": "d827f651-ad6a-4ffa-96b4-803cd2d9505d",
   "metadata": {},
   "outputs": [
    {
     "name": "stdout",
     "output_type": "stream",
     "text": [
      "[  2  98 162 288  50   8]\n",
      "[[  2]\n",
      " [ 98]\n",
      " [162]\n",
      " [288]\n",
      " [ 50]\n",
      " [  8]]\n",
      "xx = \n",
      " [[  2  14  18  24  10   4]\n",
      " [ 14  98 126 168  70  28]\n",
      " [ 18 126 162 216  90  36]\n",
      " [ 24 168 216 288 120  48]\n",
      " [ 10  70  90 120  50  20]\n",
      " [  4  28  36  48  20   8]]\n",
      "dist = \n",
      " [[ 0.          8.48528137 11.3137085  15.55634919  5.65685425  1.41421356]\n",
      " [ 8.48528137  0.          2.82842712  7.07106781  2.82842712  7.07106781]\n",
      " [11.3137085   2.82842712  0.          4.24264069  5.65685425  9.89949494]\n",
      " [15.55634919  7.07106781  4.24264069  0.          9.89949494 14.14213562]\n",
      " [ 5.65685425  2.82842712  5.65685425  9.89949494  0.          4.24264069]\n",
      " [ 1.41421356  7.07106781  9.89949494 14.14213562  4.24264069  0.        ]]\n"
     ]
    }
   ],
   "source": [
    "import numpy as np\n",
    "data = np.array([[1,1],[7,7],[9,9],[12,12], [5,5], [2,2]])\n",
    "x2 = np.sum(data*data,axis = 1)\n",
    "print(x2)\n",
    "print(x2.reshape((-1,1)))\n",
    "data_t = np.copy(data.T)\n",
    "#print(data_t)\n",
    "xx = data@data_t\n",
    "print(\"xx = \\n\",xx)\n",
    "dist = np.sqrt(np.abs(x2.reshape((-1,1))-2*xx+x2))\n",
    "# dist = np.abs(x2.reshape((-1,1))-2*xx+x2)\n",
    "\n",
    "print(\"dist = \\n\", dist)"
   ]
  }
 ],
 "metadata": {
  "kernelspec": {
   "display_name": "Python 3 (ipykernel)",
   "language": "python",
   "name": "python3"
  },
  "language_info": {
   "codemirror_mode": {
    "name": "ipython",
    "version": 3
   },
   "file_extension": ".py",
   "mimetype": "text/x-python",
   "name": "python",
   "nbconvert_exporter": "python",
   "pygments_lexer": "ipython3",
   "version": "3.12.11"
  }
 },
 "nbformat": 4,
 "nbformat_minor": 5
}
