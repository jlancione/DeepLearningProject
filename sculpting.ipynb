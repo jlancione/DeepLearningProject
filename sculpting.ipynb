{
 "cells": [
  {
   "cell_type": "markdown",
   "id": "81efb18b-2469-4c78-9113-1289cba7a310",
   "metadata": {},
   "source": [
    "# Manifold Sculpting"
   ]
  },
  {
   "cell_type": "code",
   "execution_count": 1,
   "id": "7288a54d-7e95-4ab4-a486-6a009644360b",
   "metadata": {},
   "outputs": [],
   "source": [
    "import matplotlib.pyplot as plt\n",
    "import torch"
   ]
  },
  {
   "cell_type": "code",
   "execution_count": 5,
   "id": "7619254b-b03a-4370-a3fd-66fab2f6241e",
   "metadata": {},
   "outputs": [
    {
     "name": "stdout",
     "output_type": "stream",
     "text": [
      "tensor(6)\n",
      "tensor([2])\n"
     ]
    }
   ],
   "source": [
    "k = 2\n",
    "data = torch.Tensor([[1,1],[7,7],[9,9],[12,12], [5,5], [2,2]])\n",
    "p = data[2]\n",
    "\n",
    "data_size = torch.tensor(data.size())\n",
    "m = data_size[0] # number of data points\n",
    "p_size = data_size[1:] # size of the single datapoint\n",
    "p_size0 = p_size - torch.ones_like(p_size) # to be used for indexing\n",
    "print(m)\n",
    "print(p_size)"
   ]
  },
  {
   "cell_type": "markdown",
   "id": "c6babfad-5bef-4b05-b46c-919e3f53acee",
   "metadata": {},
   "source": [
    "### Compute distances"
   ]
  },
  {
   "cell_type": "raw",
   "id": "4eec3c27-ece7-4562-9443-246d53f00962",
   "metadata": {},
   "source": [
    "Dumb way\n",
    "# troviamo i 1i k vicini\n",
    "scarti = p*torch.ones_like(data) - data\n",
    "dist_sq = scarti*scarti\n",
    "dist_sq = dist_sq.sum(dim=p_size_idx)\n",
    "\n",
    "# sort the points\n",
    "dist_sq, indices = torch.sort(dist_sq)\n",
    "print(dist_sq)\n",
    "# keep the first k (without the point itself)\n",
    "kneighb = indices[1:k+1]\n",
    "dist = torch.sqrt(dist_sq[1:k+1])\n",
    "\n",
    "print(kneighb)\n",
    "print(dist_sq[1:k+1])\n",
    "print(dist)\n",
    "# tutto qsto va in 1 ciclo sui .i"
   ]
  },
  {
   "cell_type": "code",
   "execution_count": 6,
   "id": "e791aadd-2316-4ce8-a705-e22f8c4f6d7c",
   "metadata": {},
   "outputs": [
    {
     "name": "stdout",
     "output_type": "stream",
     "text": [
      "tensor([[ 0.0000,  8.4853, 11.3137, 15.5563,  5.6569,  1.4142],\n",
      "        [ 8.4853,  0.0000,  2.8284,  7.0711,  2.8284,  7.0711],\n",
      "        [11.3137,  2.8284,  0.0000,  4.2426,  5.6569,  9.8995],\n",
      "        [15.5563,  7.0711,  4.2426,  0.0000,  9.8995, 14.1421],\n",
      "        [ 5.6569,  2.8284,  5.6569,  9.8995,  0.0000,  4.2426],\n",
      "        [ 1.4142,  7.0711,  9.8995, 14.1421,  4.2426,  0.0000]])\n"
     ]
    }
   ],
   "source": [
    "x2 = data * data\n",
    "x2 = x2.sum(axis=1)\n",
    "# print(x2)\n",
    "data_t = torch.transpose(data, 0, 1) # pb in dim >i (es foto...), credo funzioni cmq\n",
    "xx = data@data_t\n",
    "# print(xx)\n",
    "# print(x2.unsqueeze(dim=1))\n",
    "dist = torch.sqrt( x2 - 2*xx + x2.unsqueeze(dim=1) )\n",
    "print(dist)"
   ]
  },
  {
   "cell_type": "code",
   "execution_count": 38,
   "id": "41f6ee16-0c73-4ac0-a3ea-93bc0c00e342",
   "metadata": {},
   "outputs": [
    {
     "name": "stdout",
     "output_type": "stream",
     "text": [
      "tensor([[0, 5, 4, 1, 2, 3],\n",
      "        [1, 2, 4, 3, 5, 0],\n",
      "        [2, 1, 3, 4, 5, 0],\n",
      "        [3, 2, 1, 4, 5, 0],\n",
      "        [4, 1, 5, 0, 2, 3],\n",
      "        [5, 0, 4, 1, 2, 3]])\n",
      "[tensor([1.4142, 5.6569]), tensor([2.8284, 2.8284]), tensor([2.8284, 4.2426]), tensor([4.2426, 7.0711]), tensor([2.8284, 4.2426]), tensor([1.4142, 4.2426])]\n",
      "tensor([[1.4142, 5.6569],\n",
      "        [2.8284, 2.8284],\n",
      "        [2.8284, 4.2426],\n",
      "        [4.2426, 7.0711],\n",
      "        [2.8284, 4.2426],\n",
      "        [1.4142, 4.2426]])\n"
     ]
    }
   ],
   "source": [
    "# extract the neighbours\n",
    "_, indices = torch.sort(dist)\n",
    "print(indices)\n",
    "#print(dist)\n",
    "# keep the first k (without the point itself)\n",
    "kneighb = indices[:, 1:k+1]\n",
    "kdist   = torch.zeros_like(kneighb)\n",
    "\n",
    "a = []\n",
    "for i in range(m):\n",
    "    a.append( dist[kneighb[i][:], i] )\n",
    "print(a)\n",
    "kdist = torch.reshape( torch.cat( a, 0 ), (-1, k) )\n",
    "del a\n",
    "\n",
    "print(kdist)"
   ]
  },
  {
   "cell_type": "code",
   "execution_count": null,
   "id": "11a63771-bb3e-42dc-88ea-f1c49ae2f2cc",
   "metadata": {},
   "outputs": [],
   "source": []
  },
  {
   "cell_type": "code",
   "execution_count": null,
   "id": "f00b8e9e-8ad8-4cb8-92a5-190b24221563",
   "metadata": {},
   "outputs": [],
   "source": []
  }
 ],
 "metadata": {
  "kernelspec": {
   "display_name": "Python 3 (ipykernel)",
   "language": "python",
   "name": "python3"
  },
  "language_info": {
   "codemirror_mode": {
    "name": "ipython",
    "version": 3
   },
   "file_extension": ".py",
   "mimetype": "text/x-python",
   "name": "python",
   "nbconvert_exporter": "python",
   "pygments_lexer": "ipython3",
   "version": "3.12.11"
  }
 },
 "nbformat": 4,
 "nbformat_minor": 5
}
