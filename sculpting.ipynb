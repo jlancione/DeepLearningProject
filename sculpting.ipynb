{
 "cells": [
  {
   "cell_type": "markdown",
   "id": "81efb18b-2469-4c78-9113-1289cba7a310",
   "metadata": {},
   "source": [
    "# Manifold Sculpting"
   ]
  },
  {
   "cell_type": "code",
   "execution_count": 1,
   "id": "7288a54d-7e95-4ab4-a486-6a009644360b",
   "metadata": {},
   "outputs": [],
   "source": [
    "import matplotlib.pyplot as plt\n",
    "import torch"
   ]
  },
  {
   "cell_type": "code",
   "execution_count": 5,
   "id": "7619254b-b03a-4370-a3fd-66fab2f6241e",
   "metadata": {},
   "outputs": [
    {
     "name": "stdout",
     "output_type": "stream",
     "text": [
      "tensor(6)\n",
      "tensor([2])\n"
     ]
    }
   ],
   "source": [
    "k = 2\n",
    "data = torch.Tensor([[1,1],[7,7],[9,9],[12,12], [5,5], [2,2]])\n",
    "p = data[2]\n",
    "\n",
    "data_size = torch.tensor(data.size())\n",
    "m = data_size[0] # number of data points\n",
    "p_size = data_size[1:] # size of the single datapoint\n",
    "p_size0 = p_size - torch.ones_like(p_size) # to be used for indexing\n",
    "print(m)\n",
    "print(p_size)"
   ]
  },
  {
   "cell_type": "markdown",
   "id": "c6babfad-5bef-4b05-b46c-919e3f53acee",
   "metadata": {},
   "source": [
    "### Compute distances"
   ]
  },
  {
   "cell_type": "raw",
   "id": "4eec3c27-ece7-4562-9443-246d53f00962",
   "metadata": {},
   "source": [
    "Dumb way\n",
    "# troviamo i 1i k vicini\n",
    "scarti = p*torch.ones_like(data) - data\n",
    "dist_sq = scarti*scarti\n",
    "dist_sq = dist_sq.sum(dim=p_size_idx)\n",
    "\n",
    "# sort the points\n",
    "dist_sq, indices = torch.sort(dist_sq)\n",
    "print(dist_sq)\n",
    "# keep the first k (without the point itself)\n",
    "kneighb = indices[1:k+1]\n",
    "dist = torch.sqrt(dist_sq[1:k+1])\n",
    "\n",
    "print(kneighb)\n",
    "print(dist_sq[1:k+1])\n",
    "print(dist)\n",
    "# tutto qsto va in 1 ciclo sui .i"
   ]
  },
  {
   "cell_type": "code",
   "execution_count": 6,
   "id": "e791aadd-2316-4ce8-a705-e22f8c4f6d7c",
   "metadata": {},
   "outputs": [
    {
     "name": "stdout",
     "output_type": "stream",
     "text": [
      "tensor([[ 0.0000,  8.4853, 11.3137, 15.5563,  5.6569,  1.4142],\n",
      "        [ 8.4853,  0.0000,  2.8284,  7.0711,  2.8284,  7.0711],\n",
      "        [11.3137,  2.8284,  0.0000,  4.2426,  5.6569,  9.8995],\n",
      "        [15.5563,  7.0711,  4.2426,  0.0000,  9.8995, 14.1421],\n",
      "        [ 5.6569,  2.8284,  5.6569,  9.8995,  0.0000,  4.2426],\n",
      "        [ 1.4142,  7.0711,  9.8995, 14.1421,  4.2426,  0.0000]])\n"
     ]
    }
   ],
   "source": [
    "x2 = data * data\n",
    "x2 = x2.sum(axis=1)\n",
    "# print(x2)\n",
    "data_t = torch.transpose(data, 0, 1) # pb in dim >i (es foto...), credo funzioni cmq\n",
    "xx = data@data_t\n",
    "# print(xx)\n",
    "# print(x2.unsqueeze(dim=1))\n",
    "dist = torch.sqrt( x2 - 2*xx + x2.unsqueeze(dim=1) )\n",
    "print(dist)"
   ]
  },
  {
   "cell_type": "code",
   "execution_count": 39,
   "id": "41f6ee16-0c73-4ac0-a3ea-93bc0c00e342",
   "metadata": {},
   "outputs": [],
   "source": [
    "# extract the neighbours\n",
    "_, indices = torch.sort(dist)\n",
    "# print(indices)\n",
    "# print(dist)\n",
    "# keep the first k (without the point itself)\n",
    "kneighb = indices[:, 1:k+1]\n",
    "kdist   = torch.zeros_like(kneighb)\n",
    "\n",
    "a = []\n",
    "for i in range(m):\n",
    "    # per qlche motivo nn si riesce a farlo direttamente con i torch.tensor\n",
    "    a.append( dist[kneighb[i][:], i] )\n",
    "# print(a)\n",
    "kdist = torch.reshape( torch.cat( a, 0 ), (-1, k) )\n",
    "del a\n",
    "\n",
    "# print(kdist)"
   ]
  },
  {
   "cell_type": "code",
   "execution_count": null,
   "id": "d4f60ba3-7072-485c-a4fd-049ed463b0e8",
   "metadata": {},
   "outputs": [],
   "source": [
    "# Compute angles\n",
    "# Loop over points\n",
    "# Variables with _idx run from 0 to m-1, they select points from `data`\n",
    "# Variables without _idx run from 0 to k-1\n",
    "\n",
    "# Entry i,j hosts the info (angle theta, kindex with respect to the neighborhood of j)\n",
    "# about the most colinear point of the couple i-j ie i-j-l\n",
    "theta = torch.ones((m,k))\n",
    "colinear = torch.ones((m,k))\n",
    "# Loop over data points\n",
    "for i_idx in range(m):\n",
    "    # Loop over neighbor points of i\n",
    "    for j_kidx, j_idx in enumerate(kneighb[i_idx]): # che me ne faccio dl'enumerate\n",
    "        p2nj = data[i_idx] - data[j_idx]\n",
    "        p2nj /= torch.norm(p2nj)\n",
    "\n",
    "        # angle = torch.ones(k)\n",
    "        colinear_kidx =  torch.ones(k)\n",
    "        # Loop over neighbor points of j\n",
    "        for l_kidx, l_indx in enumerate(kneighb[j_idx]):\n",
    "            p2nl = data[l_idx] - data[j_idx]\n",
    "            p2nl /= torch.norm(p2nl)\n",
    "\n",
    "            cos, cos_kidx = torch.sort(p2nl@c2nj, descending=True)\n",
    "            # extract the collinear angle and neighbor, 0 is the maximum\n",
    "            colinear[i, j_kidx] = cos_kidx[0] \n",
    "            theta[i, j_kidx] = torch.acos(cos[0]).item()\n",
    "            # colinear_kidx[l_kidx] = cos_kidx[0] \n",
    "            # angle[l_kidx] = torch.acos(cos[0]).item()\n",
    "\n",
    "dist_ave = torch.mean(kdist)"
   ]
  },
  {
   "cell_type": "code",
   "execution_count": 50,
   "id": "0a07a21b-14ad-4252-aa1b-b12f3cd976d1",
   "metadata": {},
   "outputs": [
    {
     "data": {
      "text/plain": [
       "tensor(1.)"
      ]
     },
     "execution_count": 50,
     "metadata": {},
     "output_type": "execute_result"
    }
   ],
   "source": [
    "a = torch.Tensor([1,2])\n",
    "b = torch.Tensor([2,3])\n",
    "c = a@b\n",
    "d = c.item()\n",
    "a.tolist()\n",
    "a[0]"
   ]
  },
  {
   "cell_type": "code",
   "execution_count": 65,
   "id": "3271f0a4-bd63-47f4-9f52-e61e09f1c3cd",
   "metadata": {},
   "outputs": [
    {
     "name": "stdout",
     "output_type": "stream",
     "text": [
      "tensor([0.7071, 0.7071])\n"
     ]
    },
    {
     "data": {
      "text/plain": [
       "tensor(0.7854)"
      ]
     },
     "execution_count": 65,
     "metadata": {},
     "output_type": "execute_result"
    }
   ],
   "source": [
    "from math import acos\n",
    "a = torch.Tensor([0,1])\n",
    "b = torch.Tensor([1,1])\n",
    "a /= torch.norm(a)\n",
    "b /= torch.norm(b)\n",
    "print(b)\n",
    "c = torch.acos(a@b)\n",
    "c"
   ]
  },
  {
   "cell_type": "code",
   "execution_count": null,
   "id": "f00b8e9e-8ad8-4cb8-92a5-190b24221563",
   "metadata": {},
   "outputs": [],
   "source": [
    "# PCA\n",
    "cov = torch.cov(data)\n",
    "eigenval, eigenvec = torch.linalg.eigh(-cov) # li ordina già in vista dla pca!\n",
    "eigenval = -eigenval  # pké li ordina decrescenti\n",
    "pca_basis = eigenvec@data"
   ]
  },
  {
   "cell_type": "code",
   "execution_count": 75,
   "id": "134da2b7-f53a-4f60-a2e9-d7b3369eba21",
   "metadata": {},
   "outputs": [
    {
     "name": "stdout",
     "output_type": "stream",
     "text": [
      "tensor([4.3028, 3.0000, 0.6972])\n",
      "tensor([[ 0.2898,  0.0000, -0.9571],\n",
      "        [ 0.9571,  0.0000,  0.2898],\n",
      "        [ 0.0000,  1.0000,  0.0000]])\n"
     ]
    }
   ],
   "source": [
    "a = torch.Tensor([[1,1,0],\n",
    "                  [1,4,0],\n",
    "                  [0,0,3]])\n",
    "eigenval, eigenvec = torch.linalg.eigh(-a)\n",
    "eigenval = -eigenval\n",
    "print(eigenval)\n",
    "print(eigenvec)"
   ]
  }
 ],
 "metadata": {
  "kernelspec": {
   "display_name": "Python 3 (ipykernel)",
   "language": "python",
   "name": "python3"
  },
  "language_info": {
   "codemirror_mode": {
    "name": "ipython",
    "version": 3
   },
   "file_extension": ".py",
   "mimetype": "text/x-python",
   "name": "python",
   "nbconvert_exporter": "python",
   "pygments_lexer": "ipython3",
   "version": "3.12.11"
  }
 },
 "nbformat": 4,
 "nbformat_minor": 5
}
