{
 "cells": [
  {
   "cell_type": "markdown",
   "id": "7715c744-1538-4246-b55c-fcebf9d7e29d",
   "metadata": {},
   "source": [
    "# Variational AutoEncoder (VAE)"
   ]
  },
  {
   "cell_type": "code",
   "execution_count": 1,
   "id": "521ed264-5cfd-468a-a7c3-92d8b4c609e6",
   "metadata": {},
   "outputs": [],
   "source": [
    "# Bisogna testare tutto passo passo\n",
    "# Train Validation Test? Intendo, ci interessa la performance su dati Mai Visti?\n",
    "# Indagare #e loss e ottimizzatori\n",
    "# Il modo in cui hanno fatto l'autoencoder al tutorato NN ha prior sl latent space..."
   ]
  },
  {
   "cell_type": "code",
   "execution_count": 2,
   "id": "6d52a816-a225-44b8-b7e5-f0ea2e702229",
   "metadata": {},
   "outputs": [],
   "source": [
    "import torch\n",
    "from torch import nn\n",
    "from torch import optim\n",
    "\n",
    "import torchvision\n",
    "import torchvision.transforms as transforms\n",
    "\n",
    "import matplotlib.pyplot as plt"
   ]
  },
  {
   "cell_type": "markdown",
   "id": "03989ba0-5406-4ff2-b95d-d31bc4bb7fba",
   "metadata": {},
   "source": [
    "## Hyperparameters"
   ]
  },
  {
   "cell_type": "code",
   "execution_count": 3,
   "id": "50c24ad1-dcef-4758-a938-8856ebf8022b",
   "metadata": {},
   "outputs": [],
   "source": [
    "BATCH_SIZE = 32\n",
    "\n",
    "## Architecture parameters\n",
    "IMAGE_DIM = 28*28\n",
    "LATENT_DIM = 2\n",
    "HIDDEN_DIM = 256\n",
    "\n",
    "## Training setup\n",
    "LR = 1e-4\n",
    "WEIGHT_DECAY = 1e-6\n",
    "EPOCHS = 20"
   ]
  },
  {
   "cell_type": "markdown",
   "id": "b505f71b-f565-4f0f-8461-7532f29efe56",
   "metadata": {},
   "source": [
    "## Dataset download and setup"
   ]
  },
  {
   "cell_type": "code",
   "execution_count": 4,
   "id": "37425c3d-3b1a-4fee-804d-742fa486f609",
   "metadata": {},
   "outputs": [
    {
     "name": "stdout",
     "output_type": "stream",
     "text": [
      "cpu\n"
     ]
    }
   ],
   "source": [
    "# work on GPUs\n",
    "DEVICE = torch.device(\"cuda:0\" if torch.cuda.is_available() else \"cpu\")\n",
    "print(DEVICE)"
   ]
  },
  {
   "cell_type": "code",
   "execution_count": 5,
   "id": "26a34a70-af27-4864-80cf-02d5e9758dcd",
   "metadata": {},
   "outputs": [],
   "source": [
    "## Import Dataset (MNIST)\n",
    "transform = transforms.Compose([\n",
    "    transforms.ToTensor(),                             \n",
    "    # <-- we dont normalize here, can you guess why?\n",
    "])\n",
    "\n",
    "train_dataset = torchvision.datasets.MNIST(root='./Data', train=True, download=True, transform=transform)\n",
    "validation_dataset = torchvision.datasets.MNIST(root='./Data', train=False, download=True, transform=transform)"
   ]
  },
  {
   "cell_type": "code",
   "execution_count": 6,
   "id": "114f3771-16d0-468c-ae4e-553078d0793f",
   "metadata": {},
   "outputs": [],
   "source": [
    "## Reduce dataset size\n",
    "# N_TRAIN = 1000\n",
    "# train_dataset.data, train_dataset.targets = train_dataset.data[:N_TRAIN], train_dataset.targets[:N_TRAIN]\n",
    "# validation_dataset.data, validation_dataset.targets = validation_dataset.data[:N_TRAIN], validation_dataset.targets[:N_TRAIN]\n",
    "\n",
    "train_loader = torch.utils.data.DataLoader(train_dataset, batch_size=BATCH_SIZE, shuffle=True)\n",
    "validation_loader = torch.utils.data.DataLoader(validation_dataset, batch_size=len(validation_dataset), shuffle=False)"
   ]
  },
  {
   "cell_type": "markdown",
   "id": "f345c179-3dce-47f1-a170-43ac5921f9fb",
   "metadata": {},
   "source": [
    "## Dataset visualization"
   ]
  },
  {
   "cell_type": "code",
   "execution_count": 7,
   "id": "b4334014-ce7e-4c89-b01f-d08c3f866c42",
   "metadata": {},
   "outputs": [
    {
     "data": {
      "image/png": "[encoded data removed]",
      "text/plain": [
       "<Figure size 800x400 with 8 Axes>"
      ]
     },
     "metadata": {},
     "output_type": "display_data"
    }
   ],
   "source": [
    "## Plotting utility\n",
    "def plot_images(images, title):\n",
    "    plt.figure(figsize=(8, 4)) # they're inches...\n",
    "    for i in range(8):\n",
    "        plt.subplot(2, 4, i + 1)\n",
    "        plt.imshow(images[i].cpu().squeeze().numpy(), cmap='gray')\n",
    "        plt.axis('off')\n",
    "    plt.suptitle(title, y=1.05)\n",
    "    plt.tight_layout()\n",
    "\n",
    "\n",
    "## Visualize sample from dataset\n",
    "with torch.no_grad():\n",
    "    idx, (images, _) = next(enumerate(train_loader))\n",
    "\n",
    "plot_images(images, title=\"Original Images\")\n",
    "plt.show()"
   ]
  },
  {
   "cell_type": "markdown",
   "id": "633ef9f7-7fa8-4566-8bec-f4091f261838",
   "metadata": {},
   "source": [
    "## Model and Training"
   ]
  },
  {
   "cell_type": "code",
   "execution_count": 8,
   "id": "1e158d3e-88a4-4474-ad82-36312728071a",
   "metadata": {},
   "outputs": [],
   "source": [
    "## Build model\n",
    "class VAE(nn.Module):\n",
    "    def __init__(self, input_dim, out_dim, latent_dim, hidden_dim=200):\n",
    "        super().__init__()\n",
    "\n",
    "        self.latent_dim = latent_dim\n",
    "        \n",
    "        ## Utilities\n",
    "        self.flatten = nn.Flatten(1,3)\n",
    "        self.activation = nn.ReLU()\n",
    "\n",
    "        ## Encoder\n",
    "        self.input2encoder_hid = nn.Linear(input_dim, hidden_dim)\n",
    "        self.encoder_hid2mu = nn.Linear(hidden_dim, latent_dim)\n",
    "        self.encoder_hid2sigma = nn.Linear(hidden_dim, latent_dim)\n",
    "        \n",
    "        ## Decoder\n",
    "        self.latent2decoder_hid = nn.Linear(latent_dim, hidden_dim)\n",
    "        self.decoder_hid2sigm = nn.Linear(hidden_dim, out_dim)\n",
    "\n",
    "        ## Out\n",
    "        self.sigmoid = nn.Sigmoid()\n",
    "        self.unflatten = nn.Unflatten(1, (1, 28, 28)) ## qua è rimasto 28...\n",
    "\n",
    "    def encode(self, x):\n",
    "        x = self.flatten(x)\n",
    "        x = self.input2encoder_hid(x)\n",
    "        x = self.activation(x)\n",
    "        \n",
    "        ## mu e sigma nn prendono nessuna activation (?)\n",
    "        mu    = self.encoder_hid2mu(x)\n",
    "        sigma = self.encoder_hid2sigma(x)\n",
    "        \n",
    "        ## DEBUG\n",
    "        # print(latent_param.size())\n",
    "        # print(latent_param)\n",
    "        \n",
    "        return mu, sigma\n",
    "\n",
    "    def decode(self, mu, sigma):\n",
    "        ## Sampling from a gaussian\n",
    "        eps = torch.randn(self.latent_dim, requires_grad=False)\n",
    "        \n",
    "        ## Reparametrization\n",
    "        z = mu + sigma*eps  \n",
    "\n",
    "        ## Decode\n",
    "        z = self.latent2decoder_hid(z)\n",
    "        z = self.activation(z)\n",
    "        z = self.decoder_hid2sigm(z)\n",
    "        x_gen = self.sigmoid(z)\n",
    "        x_gen = self.unflatten(x_gen)\n",
    "\n",
    "        return x_gen\n",
    "\n",
    "    def forward(self, x):\n",
    "        mu, sigma = self.encode(x)\n",
    "        x_gen = self.decode(mu, sigma)\n",
    "\n",
    "        return x_gen, mu, sigma"
   ]
  },
  {
   "cell_type": "code",
   "execution_count": 9,
   "id": "69b30cdc-b304-4b07-ae4f-392bfc5290b8",
   "metadata": {},
   "outputs": [],
   "source": [
    "## Loss definition\n",
    "def loss(x, x_gen, mu, sigma):\n",
    "    D_kl = torch.log(sigma*sigma) - mu*mu - sigma*sigma\n",
    "    mse  = (x-x_gen)*(x-x_gen)\n",
    "\n",
    "    ## DEBUG\n",
    "    # print(D_kl.size())\n",
    "    # print(mse.size())\n",
    "    \n",
    "    ## Average on minibatch, sum over latent dimenions\n",
    "    D_kl = D_kl.mean(dim=0)\n",
    "    D_kl = D_kl.sum()\n",
    "    \n",
    "    ## Average on minibatch, Sum over pixels\n",
    "    mse  = mse.mean(dim=0)\n",
    "    mse  = mse.sum() \n",
    "    # mse /= len(mse)\n",
    "    \n",
    "    return mse - D_kl \n",
    "\n"
   ]
  },
  {
   "cell_type": "code",
   "execution_count": 10,
   "id": "73ac0583-4bd4-4c10-a4a9-c5097635b820",
   "metadata": {},
   "outputs": [],
   "source": [
    "model = VAE(IMAGE_DIM, IMAGE_DIM, LATENT_DIM)\n",
    "model = model.to(DEVICE)\n",
    "\n",
    "## Optimizer choice\n",
    "optimizer = optim.Adam(model.parameters(),\n",
    "                      lr = LR,\n",
    "                      weight_decay=WEIGHT_DECAY)\n",
    "\n",
    "## Model summary\n",
    "# print(model.parameters)"
   ]
  },
  {
   "cell_type": "markdown",
   "id": "cbbe99c7-62cc-4961-9695-69d9c5f17fd3",
   "metadata": {},
   "source": [
    "### Training"
   ]
  },
  {
   "cell_type": "code",
   "execution_count": null,
   "id": "a153ad0e-fa43-44b1-96a7-86641d6bd736",
   "metadata": {},
   "outputs": [
    {
     "name": "stdout",
     "output_type": "stream",
     "text": [
      "Epoch:  1 -- Train loss = 53.84575 -- Val loss = 55.36156\n",
      "Epoch:  2 -- Train loss = 53.16031 -- Val loss = 50.83107\n",
      "Epoch:  3 -- Train loss = 49.64509 -- Val loss = 48.89457\n",
      "Epoch:  4 -- Train loss = 57.25161 -- Val loss = 47.31519\n",
      "Epoch:  5 -- Train loss = 47.56900 -- Val loss = 48.61487\n",
      "Epoch:  6 -- Train loss = 43.16004 -- Val loss = 47.25612\n",
      "Epoch:  7 -- Train loss = 45.23670 -- Val loss = 49.44234\n",
      "Epoch:  8 -- Train loss = 43.14000 -- Val loss = 46.07226\n",
      "Epoch:  9 -- Train loss = 45.86998 -- Val loss = 45.80396\n",
      "Epoch: 10 -- Train loss = 49.46217 -- Val loss = 48.25381\n",
      "Epoch: 11 -- Train loss = 48.93005 -- Val loss = 48.14844\n",
      "Epoch: 12 -- Train loss = 49.18661 -- Val loss = 49.86371\n",
      "Epoch: 13 -- Train loss = 43.64188 -- Val loss = 45.97247\n",
      "Epoch: 14 -- Train loss = 53.67721 -- Val loss = 49.13425\n",
      "Epoch: 15 -- Train loss = 45.29675 -- Val loss = 46.01184\n",
      "Epoch: 16 -- Train loss = 51.95596 -- Val loss = 46.68651\n"
     ]
    }
   ],
   "source": [
    "# train loop\n",
    "loss_train = []\n",
    "loss_validation = []\n",
    "\n",
    "for epoch in range(EPOCHS):\n",
    "    loss_epoch = 0.0\n",
    "    for x_train, _ in train_loader:\n",
    "        x_train = x_train.to(DEVICE)\n",
    "        \n",
    "        x_gen, mu, sigma = model(x_train) # in qlche modo qua sa che deve andare a prendere .forward()\n",
    "        computed_loss = loss(x_gen, x_train, mu=mu, sigma=sigma)\n",
    "        loss_epoch += computed_loss.detach()\n",
    "        \n",
    "        optimizer.zero_grad()\n",
    "        computed_loss.backward()\n",
    "        optimizer.step()\n",
    "\n",
    "    ## Loss record\n",
    "    loss_epoch /= len(train_loader)\n",
    "    loss_train.append(loss_epoch)\n",
    "\n",
    "    with torch.no_grad():\n",
    "        for x_val, _ in validation_loader:\n",
    "            x_val = x_val.to(DEVICE)\n",
    "            \n",
    "            x_gen_val, mu, sigma = model(x_val)\n",
    "            val_computed_loss = loss(x_gen_val, x_val, mu=mu, sigma=sigma)\n",
    "            loss_validation.append(val_computed_loss.detach())\n",
    "            \n",
    "    print(f\"Epoch: {epoch+1:2.0f} -- Train loss = {computed_loss:.5f} -- Val loss = {val_computed_loss:.5f}\")"
   ]
  },
  {
   "cell_type": "markdown",
   "id": "50b01afa-373b-406e-b963-8eb72e36aa43",
   "metadata": {},
   "source": [
    "### Visualization"
   ]
  },
  {
   "cell_type": "code",
   "execution_count": null,
   "id": "b5955dd6-e8e1-4325-9c2a-e6ee083eaac9",
   "metadata": {},
   "outputs": [],
   "source": [
    "## Train and validation loss curves\n",
    "plt.plot(loss_train, label = \"Train\")\n",
    "plt.plot(loss_validation, label = \"Validation\")\n",
    "\n",
    "plt.xlabel(\"Epochs\")\n",
    "plt.ylabel(\"Loss\")\n",
    "\n",
    "plt.legend()\n",
    "\n",
    "plt.show()"
   ]
  },
  {
   "cell_type": "code",
   "execution_count": null,
   "id": "8067b26d-18c9-4871-b511-1ccf27cfbac3",
   "metadata": {},
   "outputs": [],
   "source": [
    "image_iterator = enumerate(train_loader)"
   ]
  },
  {
   "cell_type": "code",
   "execution_count": null,
   "id": "0d507bd3-f1e2-4a41-98b1-0016dc2d7f1f",
   "metadata": {},
   "outputs": [],
   "source": [
    "## Compare actual figures\n",
    "with torch.no_grad():\n",
    "    idx, (images, _) = next(image_iterator)\n",
    "    images_gen, mu, sigma = model(images)\n",
    "    \n",
    "\n",
    "plot_images(images, title=\"Original Images\")\n",
    "plot_images(images_gen, title=\"Generated Images\")\n",
    "plt.show()"
   ]
  },
  {
   "cell_type": "code",
   "execution_count": null,
   "id": "9812d948-ec18-4e53-8935-b640b33743c8",
   "metadata": {},
   "outputs": [],
   "source": [
    "## Sample from latent space\n",
    "## Generate"
   ]
  }
 ],
 "metadata": {
  "kernelspec": {
   "display_name": "Python 3 (ipykernel)",
   "language": "python",
   "name": "python3"
  },
  "language_info": {
   "codemirror_mode": {
    "name": "ipython",
    "version": 3
   },
   "file_extension": ".py",
   "mimetype": "text/x-python",
   "name": "python",
   "nbconvert_exporter": "python",
   "pygments_lexer": "ipython3",
   "version": "3.12.11"
  }
 },
 "nbformat": 4,
 "nbformat_minor": 5
}
