{
 "cells": [
  {
   "cell_type": "markdown",
   "id": "7715c744-1538-4246-b55c-fcebf9d7e29d",
   "metadata": {},
   "source": [
    "# Variational AutoEncoder (VAE)"
   ]
  },
  {
   "cell_type": "code",
   "execution_count": null,
   "id": "6d52a816-a225-44b8-b7e5-f0ea2e702229",
   "metadata": {},
   "outputs": [],
   "source": [
    "import torch\n",
    "from torch import nn\n",
    "from torch import optim\n",
    "\n",
    "import torchvision\n",
    "import torchvision.transforms as transforms"
   ]
  },
  {
   "cell_type": "code",
   "execution_count": null,
   "id": "37425c3d-3b1a-4fee-804d-742fa486f609",
   "metadata": {},
   "outputs": [],
   "source": [
    "# work on GPUs?"
   ]
  },
  {
   "cell_type": "code",
   "execution_count": null,
   "id": "26a34a70-af27-4864-80cf-02d5e9758dcd",
   "metadata": {},
   "outputs": [],
   "source": [
    "# import Dataset (MNIST)\n",
    "transform = transforms.Compose([\n",
    "    transforms.ToTensor(),                             \n",
    "    # <-- we dont normalize here, can you guess why?\n",
    "])\n",
    "\n",
    "train_dataset = torchvision.datasets.MNIST(root='./Data', train=True, download=True, transform=transform)\n",
    "test_dataset = torchvision.datasets.MNIST(root='./Data', train=False, download=True, transform=transform)\n",
    "\n",
    "BATCH_SIZE = 128\n",
    "train_loader = torch.utils.data.DataLoader(train_dataset, batch_size=BATCH_SIZE, shuffle=True)\n",
    "test_loader = torch.utils.data.DataLoader(test_dataset, batch_size=BATCH_SIZE, shuffle=False)"
   ]
  },
  {
   "cell_type": "code",
   "execution_count": null,
   "id": "1e158d3e-88a4-4474-ad82-36312728071a",
   "metadata": {},
   "outputs": [],
   "source": [
    "# build model\n",
    "class VAE(nn.Module):\n",
    "    def __init__(self, input_dim, out_dim, latent_dim):\n",
    "        super().__init__()\n",
    "        self.flatten = nn.Flatten(1,3)\n",
    "        self.layer_1 = nn.Linear(input_dim, latent_dim)\n",
    "        self.activation = nn.ReLU()\n",
    "        self.layer_2 = nn.Linear(latent_dim, out_dim)\n",
    "        self.soft = nn.Softmax(dim=1)\n",
    "\n",
    "    def encode(self, x):\n",
    "        x = self.flatten(x)\n",
    "        x = self.layer_1(x)\n",
    "        z = self.activation(x)\n",
    "\n",
    "        return z\n",
    "\n",
    "    def decode(self, z):\n",
    "        z = self.layer_2(z)\n",
    "        x = self.soft(z)\n",
    "\n",
    "        return x\n",
    "\n",
    "latent_dim = 2\n",
    "model = VAE(28*28, 28*28, latent_dim)\n",
    "# model = model.to(device)"
   ]
  },
  {
   "cell_type": "code",
   "execution_count": null,
   "id": "a153ad0e-fa43-44b1-96a7-86641d6bd736",
   "metadata": {},
   "outputs": [],
   "source": [
    "# train loop"
   ]
  },
  {
   "cell_type": "code",
   "execution_count": null,
   "id": "e9cdff58-b377-4fe8-af70-93661216c467",
   "metadata": {},
   "outputs": [],
   "source": [
    "# evaluation and visualization"
   ]
  }
 ],
 "metadata": {
  "kernelspec": {
   "display_name": "Python 3 (ipykernel)",
   "language": "python",
   "name": "python3"
  },
  "language_info": {
   "codemirror_mode": {
    "name": "ipython",
    "version": 3
   },
   "file_extension": ".py",
   "mimetype": "text/x-python",
   "name": "python",
   "nbconvert_exporter": "python",
   "pygments_lexer": "ipython3",
   "version": "3.12.11"
  }
 },
 "nbformat": 4,
 "nbformat_minor": 5
}
