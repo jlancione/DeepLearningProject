{
 "cells": [
  {
   "cell_type": "markdown",
   "id": "7715c744-1538-4246-b55c-fcebf9d7e29d",
   "metadata": {},
   "source": [
    "# Variational AutoEncoder (VAE)"
   ]
  },
  {
   "cell_type": "code",
   "execution_count": null,
   "id": "521ed264-5cfd-468a-a7c3-92d8b4c609e6",
   "metadata": {},
   "outputs": [],
   "source": [
    "# Bisogna testare tutto passo passo\n",
    "# Train Validation Test? Intendo, ci interessa la performance su dati Mai Visti?\n",
    "# Plottare le qntà interessanti durante l'allenamento\n",
    "# indagare #e loss e ottimizzatori"
   ]
  },
  {
   "cell_type": "code",
   "execution_count": 1,
   "id": "6d52a816-a225-44b8-b7e5-f0ea2e702229",
   "metadata": {},
   "outputs": [],
   "source": [
    "import torch\n",
    "from torch import nn\n",
    "from torch import optim\n",
    "\n",
    "import torchvision\n",
    "import torchvision.transforms as transforms"
   ]
  },
  {
   "cell_type": "code",
   "execution_count": null,
   "id": "37425c3d-3b1a-4fee-804d-742fa486f609",
   "metadata": {},
   "outputs": [],
   "source": [
    "# work on GPUs?\n",
    "# device = torch.device(\"cuda:0\" if torch.cuda_is_available() alse \"cpu\")"
   ]
  },
  {
   "cell_type": "code",
   "execution_count": 2,
   "id": "26a34a70-af27-4864-80cf-02d5e9758dcd",
   "metadata": {},
   "outputs": [
    {
     "name": "stderr",
     "output_type": "stream",
     "text": [
      "100.0%\n",
      "100.0%\n",
      "100.0%\n",
      "100.0%\n"
     ]
    }
   ],
   "source": [
    "# import Dataset (MNIST)\n",
    "transform = transforms.Compose([\n",
    "    transforms.ToTensor(),                             \n",
    "    # <-- we dont normalize here, can you guess why?\n",
    "])\n",
    "\n",
    "train_dataset = torchvision.datasets.MNIST(root='./Data', train=True, download=True, transform=transform)\n",
    "test_dataset = torchvision.datasets.MNIST(root='./Data', train=False, download=True, transform=transform)"
   ]
  },
  {
   "cell_type": "code",
   "execution_count": 3,
   "id": "114f3771-16d0-468c-ae4e-553078d0793f",
   "metadata": {},
   "outputs": [],
   "source": [
    "BATCH_SIZE = 128\n",
    "train_loader = torch.utils.data.DataLoader(train_dataset, batch_size=BATCH_SIZE, shuffle=True)\n",
    "test_loader = torch.utils.data.DataLoader(test_dataset, batch_size=BATCH_SIZE, shuffle=False)"
   ]
  },
  {
   "cell_type": "code",
   "execution_count": 5,
   "id": "1e158d3e-88a4-4474-ad82-36312728071a",
   "metadata": {},
   "outputs": [],
   "source": [
    "# build model\n",
    "# adesso è 1 autoencoder e basta, va reso probabilistico\n",
    "class VAE(nn.Module):\n",
    "    def __init__(self, input_dim, out_dim, latent_dim):\n",
    "        super().__init__()\n",
    "        self.flatten = nn.Flatten(1,3)\n",
    "        self.layer_1 = nn.Linear(input_dim, latent_dim)\n",
    "        self.activation = nn.ReLU()\n",
    "        self.layer_2 = nn.Linear(latent_dim, out_dim)\n",
    "        self.sigmoid = nn.Sigmoid()\n",
    "        self.unflatten = nn.Unflatten(1, (1, 28, 28))\n",
    "\n",
    "    def encode(self, x):\n",
    "        x = self.flatten(x)\n",
    "        x = self.layer_1(x)\n",
    "        z = self.activation(x)\n",
    "\n",
    "        return z\n",
    "\n",
    "    def decode(self, z):\n",
    "        z = self.layer_2(z)\n",
    "        x_gen = self.soft(z)\n",
    "\n",
    "        return x_gen\n",
    "\n",
    "    def forward(self, x):\n",
    "        z = encode(x)\n",
    "        x_gen = decode(z)\n",
    "\n",
    "        return x_gen\n",
    "\n",
    "latent_dim = 2\n",
    "model = VAE(28*28, 28*28, latent_dim)\n",
    "# model = model.to(device)"
   ]
  },
  {
   "cell_type": "code",
   "execution_count": 6,
   "id": "3c74aeba-851e-47ec-9739-36ad6caaf9b4",
   "metadata": {},
   "outputs": [],
   "source": [
    "# train setup\n",
    "loss = nn.MSELoss()\n",
    "optimizer = optim.Adam(model.parameters(),\n",
    "                      lr = 1e-2,\n",
    "                      weight_decay=1e-6)"
   ]
  },
  {
   "cell_type": "code",
   "execution_count": null,
   "id": "a153ad0e-fa43-44b1-96a7-86641d6bd736",
   "metadata": {},
   "outputs": [],
   "source": [
    "# train loop\n",
    "EPOCHS = 10\n",
    "loss_train = []\n",
    "loss_test = []\n",
    "\n",
    "for epoch in range(EPOCHS):\n",
    "    "
   ]
  },
  {
   "cell_type": "code",
   "execution_count": null,
   "id": "e9cdff58-b377-4fe8-af70-93661216c467",
   "metadata": {},
   "outputs": [],
   "source": [
    "# evaluation and visualization"
   ]
  }
 ],
 "metadata": {
  "kernelspec": {
   "display_name": "Python 3 (ipykernel)",
   "language": "python",
   "name": "python3"
  },
  "language_info": {
   "codemirror_mode": {
    "name": "ipython",
    "version": 3
   },
   "file_extension": ".py",
   "mimetype": "text/x-python",
   "name": "python",
   "nbconvert_exporter": "python",
   "pygments_lexer": "ipython3",
   "version": "3.12.11"
  }
 },
 "nbformat": 4,
 "nbformat_minor": 5
}
