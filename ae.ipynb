{
 "cells": [
  {
   "cell_type": "markdown",
   "id": "7715c744-1538-4246-b55c-fcebf9d7e29d",
   "metadata": {},
   "source": [
    "# Variational AutoEncoder (VAE)"
   ]
  },
  {
   "cell_type": "code",
   "execution_count": 1,
   "id": "521ed264-5cfd-468a-a7c3-92d8b4c609e6",
   "metadata": {},
   "outputs": [],
   "source": [
    "# Bisogna testare tutto passo passo\n",
    "# Train Validation Test? Intendo, ci interessa la performance su dati Mai Visti?\n",
    "# Indagare #e loss e ottimizzatori\n",
    "# Il modo in cui hanno fatto l'autoencoder al tutorato NN ha prior sl latent space..."
   ]
  },
  {
   "cell_type": "code",
   "execution_count": 1,
   "id": "6d52a816-a225-44b8-b7e5-f0ea2e702229",
   "metadata": {},
   "outputs": [],
   "source": [
    "import torch\n",
    "from torch import nn\n",
    "from torch import optim\n",
    "\n",
    "import torchvision\n",
    "import torchvision.transforms as transforms\n",
    "\n",
    "import matplotlib.pyplot as plt"
   ]
  },
  {
   "cell_type": "markdown",
   "id": "03989ba0-5406-4ff2-b95d-d31bc4bb7fba",
   "metadata": {},
   "source": [
    "## Hyperparameters"
   ]
  },
  {
   "cell_type": "code",
   "execution_count": 2,
   "id": "50c24ad1-dcef-4758-a938-8856ebf8022b",
   "metadata": {},
   "outputs": [],
   "source": [
    "BATCH_SIZE = 16\n",
    "\n",
    "## Architecture parameters\n",
    "IMAGE_DIM = 28*28\n",
    "LATENT_DIM = 2\n",
    "HIDDEN_DIM = 256\n",
    "\n",
    "## Training setup\n",
    "LR = 1e-4\n",
    "WEIGHT_DECAY = 1e-6\n",
    "EPOCHS = 30"
   ]
  },
  {
   "cell_type": "markdown",
   "id": "b505f71b-f565-4f0f-8461-7532f29efe56",
   "metadata": {},
   "source": [
    "## Dataset download and setup"
   ]
  },
  {
   "cell_type": "code",
   "execution_count": 3,
   "id": "37425c3d-3b1a-4fee-804d-742fa486f609",
   "metadata": {},
   "outputs": [
    {
     "name": "stdout",
     "output_type": "stream",
     "text": [
      "cpu\n"
     ]
    }
   ],
   "source": [
    "# work on GPUs\n",
    "DEVICE = torch.device(\"cuda:0\" if torch.cuda.is_available() else \"cpu\")\n",
    "print(DEVICE)"
   ]
  },
  {
   "cell_type": "code",
   "execution_count": 10,
   "id": "26a34a70-af27-4864-80cf-02d5e9758dcd",
   "metadata": {},
   "outputs": [
    {
     "name": "stdout",
     "output_type": "stream",
     "text": [
      "51000\n",
      "9000\n",
      "10000\n"
     ]
    }
   ],
   "source": [
    "## Import Dataset (MNIST)\n",
    "transform = transforms.Compose([\n",
    "    transforms.ToTensor(),                             \n",
    "])\n",
    "\n",
    "train_val_data = torchvision.datasets.MNIST(root='./Data', train=True, download=True, transform=transform)\n",
    "test_data = torchvision.datasets.MNIST(root='./Data', train=False, download=True, transform=transform)\n",
    "\n",
    "frac = 0.85\n",
    "train_data, val_data = torch.utils.data.random_split(train_val_data, [frac, 1-frac], generator=torch.Generator().manual_seed(42))\n",
    "print(len(train_data))\n",
    "print(len(  val_data))\n",
    "print(len( test_data))"
   ]
  },
  {
   "cell_type": "code",
   "execution_count": 11,
   "id": "114f3771-16d0-468c-ae4e-553078d0793f",
   "metadata": {},
   "outputs": [],
   "source": [
    "## Reduce train set size\n",
    "# N_TRAIN = 10000\n",
    "# train_data.data, train_data.targets = train_data.data[:N_TRAIN], train_data.targets[:N_TRAIN]\n",
    "\n",
    "train_loader = torch.utils.data.DataLoader(train_data, batch_size=BATCH_SIZE,    shuffle=True)\n",
    "val_loader   = torch.utils.data.DataLoader(val_data,   batch_size=len(val_data), shuffle=False)\n",
    "test_loader  = torch.utils.data.DataLoader(test_data,  batch_size=len(test_data),shuffle=False)"
   ]
  },
  {
   "cell_type": "markdown",
   "id": "f345c179-3dce-47f1-a170-43ac5921f9fb",
   "metadata": {},
   "source": [
    "## Dataset visualization"
   ]
  },
  {
   "cell_type": "code",
   "execution_count": 13,
   "id": "b4334014-ce7e-4c89-b01f-d08c3f866c42",
   "metadata": {
    "scrolled": true
   },
   "outputs": [
    {
     "data": {
      "image/png": "[encoded data removed]",
      "text/plain": [
       "<Figure size 800x400 with 8 Axes>"
      ]
     },
     "metadata": {},
     "output_type": "display_data"
    },
    {
     "name": "stdout",
     "output_type": "stream",
     "text": [
      "tensor([[[0.0000, 0.0000, 0.0000, 0.0000, 0.0000, 0.0000, 0.0000, 0.0000,\n",
      "          0.0000, 0.0000, 0.0000, 0.0000, 0.0000, 0.0000, 0.0000, 0.0000,\n",
      "          0.0000, 0.0000, 0.0000, 0.0000, 0.0000, 0.0000, 0.0000, 0.0000,\n",
      "          0.0000, 0.0000, 0.0000, 0.0000],\n",
      "         [0.0000, 0.0000, 0.0000, 0.0000, 0.0000, 0.0000, 0.0000, 0.0000,\n",
      "          0.0000, 0.0000, 0.0000, 0.0000, 0.0000, 0.0000, 0.0000, 0.0000,\n",
      "          0.0000, 0.0000, 0.0000, 0.0000, 0.0000, 0.0000, 0.0000, 0.0000,\n",
      "          0.0000, 0.0000, 0.0000, 0.0000],\n",
      "         [0.0000, 0.0000, 0.0000, 0.0000, 0.0000, 0.0000, 0.0000, 0.0000,\n",
      "          0.0000, 0.0000, 0.0000, 0.0000, 0.0000, 0.0000, 0.0000, 0.0000,\n",
      "          0.0000, 0.0000, 0.0000, 0.0000, 0.0000, 0.0000, 0.0000, 0.0000,\n",
      "          0.0000, 0.0000, 0.0000, 0.0000],\n",
      "         [0.0000, 0.0000, 0.0000, 0.0000, 0.0000, 0.0000, 0.0000, 0.0000,\n",
      "          0.0000, 0.0000, 0.0000, 0.0000, 0.0000, 0.0000, 0.0000, 0.0000,\n",
      "          0.0000, 0.0000, 0.0000, 0.0000, 0.0000, 0.0000, 0.0000, 0.0000,\n",
      "          0.0000, 0.0000, 0.0000, 0.0000],\n",
      "         [0.0000, 0.0000, 0.0000, 0.0000, 0.0000, 0.0000, 0.0000, 0.0000,\n",
      "          0.0000, 0.0000, 0.0000, 0.0000, 0.0000, 0.0000, 0.0000, 0.0000,\n",
      "          0.0000, 0.0000, 0.0000, 0.0000, 0.0000, 0.0000, 0.0000, 0.0000,\n",
      "          0.0000, 0.0000, 0.0000, 0.0000],\n",
      "         [0.0000, 0.0000, 0.0000, 0.0000, 0.0000, 0.0000, 0.0000, 0.0000,\n",
      "          0.0000, 0.0000, 0.0000, 0.0000, 0.0000, 0.0000, 0.0000, 0.0000,\n",
      "          0.0000, 0.0000, 0.0000, 0.0000, 0.0000, 0.0000, 0.0000, 0.0000,\n",
      "          0.0000, 0.0000, 0.0000, 0.0000],\n",
      "         [0.0000, 0.0000, 0.0000, 0.0000, 0.0000, 0.0000, 0.0000, 0.0000,\n",
      "          0.0000, 0.0000, 0.0000, 0.0000, 0.0000, 0.0000, 0.0000, 0.0000,\n",
      "          0.0000, 0.0000, 0.0000, 0.0000, 0.0000, 0.0000, 0.0000, 0.0000,\n",
      "          0.0000, 0.0000, 0.0000, 0.0000],\n",
      "         [0.0000, 0.0000, 0.0000, 0.0000, 0.0000, 0.8431, 0.7294, 0.2314,\n",
      "          0.7608, 0.6118, 0.0941, 0.0000, 0.0000, 0.0000, 0.0000, 0.0000,\n",
      "          0.0000, 0.0000, 0.0000, 0.0000, 0.0000, 0.0000, 0.0000, 0.0000,\n",
      "          0.0000, 0.0000, 0.0000, 0.0000],\n",
      "         [0.0000, 0.0000, 0.0000, 0.0000, 0.0000, 0.6627, 0.9922, 0.9333,\n",
      "          0.9608, 0.4471, 0.0235, 0.0000, 0.0000, 0.0000, 0.0000, 0.0000,\n",
      "          0.0000, 0.0000, 0.0000, 0.0000, 0.0000, 0.0000, 0.0000, 0.0000,\n",
      "          0.0000, 0.0000, 0.0000, 0.0000],\n",
      "         [0.0000, 0.0000, 0.0000, 0.0000, 0.0000, 0.1961, 0.9922, 0.9922,\n",
      "          0.7255, 0.0000, 0.0000, 0.0000, 0.0000, 0.0000, 0.0000, 0.0000,\n",
      "          0.0000, 0.0000, 0.0000, 0.0000, 0.0275, 0.3098, 0.1412, 0.0000,\n",
      "          0.0000, 0.0000, 0.0000, 0.0000],\n",
      "         [0.0000, 0.0000, 0.0000, 0.0000, 0.0000, 0.4941, 0.9922, 0.9922,\n",
      "          0.9922, 0.8314, 0.5059, 0.1569, 0.1569, 0.0941, 0.0000, 0.0000,\n",
      "          0.0000, 0.0863, 0.3020, 0.5373, 0.8667, 0.9922, 0.4588, 0.0000,\n",
      "          0.0000, 0.0000, 0.0000, 0.0000],\n",
      "         [0.0000, 0.0000, 0.0000, 0.0000, 0.0000, 0.8392, 0.9922, 0.2824,\n",
      "          0.5216, 0.9961, 0.9922, 0.9922, 0.9922, 0.9020, 0.7686, 0.7647,\n",
      "          0.7647, 0.8863, 0.9922, 0.9961, 0.9922, 0.9922, 0.1608, 0.0000,\n",
      "          0.0000, 0.0000, 0.0000, 0.0000],\n",
      "         [0.0000, 0.0000, 0.0000, 0.0000, 0.0000, 0.8431, 0.9961, 0.0745,\n",
      "          0.0000, 0.0000, 0.3255, 0.3843, 0.3843, 0.5294, 0.7686, 0.7647,\n",
      "          0.7647, 0.7059, 0.3843, 0.4706, 0.9961, 0.6863, 0.0000, 0.0000,\n",
      "          0.0000, 0.0000, 0.0000, 0.0000],\n",
      "         [0.0000, 0.0000, 0.0000, 0.0000, 0.0000, 0.8392, 0.9922, 0.0745,\n",
      "          0.0000, 0.0000, 0.0000, 0.0000, 0.0000, 0.0000, 0.0000, 0.0000,\n",
      "          0.0000, 0.0000, 0.0000, 0.6392, 0.9922, 0.3608, 0.0000, 0.0000,\n",
      "          0.0000, 0.0000, 0.0000, 0.0000],\n",
      "         [0.0000, 0.0000, 0.0000, 0.0000, 0.0000, 0.8392, 0.8941, 0.0510,\n",
      "          0.0000, 0.0000, 0.0000, 0.0000, 0.0000, 0.0000, 0.0000, 0.0000,\n",
      "          0.0000, 0.0000, 0.0000, 0.9961, 0.9686, 0.2118, 0.0000, 0.0000,\n",
      "          0.0000, 0.0000, 0.0000, 0.0000],\n",
      "         [0.0000, 0.0000, 0.0000, 0.0000, 0.0000, 0.3882, 0.3176, 0.0000,\n",
      "          0.0000, 0.0000, 0.0000, 0.0000, 0.0000, 0.0000, 0.0000, 0.0000,\n",
      "          0.0000, 0.0000, 0.0000, 0.9961, 0.7059, 0.0000, 0.0000, 0.0000,\n",
      "          0.0000, 0.0000, 0.0000, 0.0000],\n",
      "         [0.0000, 0.0000, 0.0000, 0.0000, 0.0000, 0.0000, 0.0000, 0.0000,\n",
      "          0.0000, 0.0000, 0.0000, 0.0000, 0.0000, 0.0000, 0.0000, 0.0000,\n",
      "          0.0000, 0.0000, 0.1490, 0.9961, 0.5294, 0.0000, 0.0000, 0.0000,\n",
      "          0.0000, 0.0000, 0.0000, 0.0000],\n",
      "         [0.0000, 0.0000, 0.0000, 0.0000, 0.0000, 0.0000, 0.0000, 0.0000,\n",
      "          0.0000, 0.0000, 0.0000, 0.0000, 0.0000, 0.0000, 0.0000, 0.0000,\n",
      "          0.0000, 0.0000, 0.3882, 1.0000, 0.5333, 0.0000, 0.0000, 0.0000,\n",
      "          0.0000, 0.0000, 0.0000, 0.0000],\n",
      "         [0.0000, 0.0000, 0.0000, 0.0000, 0.0000, 0.0000, 0.0000, 0.0000,\n",
      "          0.0000, 0.0000, 0.0000, 0.0000, 0.0000, 0.0000, 0.0000, 0.0000,\n",
      "          0.0000, 0.0000, 0.4157, 0.9961, 0.5294, 0.0000, 0.0000, 0.0000,\n",
      "          0.0000, 0.0000, 0.0000, 0.0000],\n",
      "         [0.0000, 0.0000, 0.0000, 0.0000, 0.0000, 0.0000, 0.0000, 0.0000,\n",
      "          0.0000, 0.0000, 0.0000, 0.0000, 0.0000, 0.0000, 0.0000, 0.0000,\n",
      "          0.0000, 0.0000, 0.7647, 0.9961, 0.4157, 0.0000, 0.0000, 0.0000,\n",
      "          0.0000, 0.0000, 0.0000, 0.0000],\n",
      "         [0.0000, 0.0000, 0.0000, 0.0000, 0.0000, 0.0000, 0.0000, 0.0000,\n",
      "          0.0000, 0.0000, 0.0000, 0.0000, 0.0000, 0.0000, 0.0000, 0.0000,\n",
      "          0.0000, 0.0000, 0.7647, 0.9961, 0.1529, 0.0000, 0.0000, 0.0000,\n",
      "          0.0000, 0.0000, 0.0000, 0.0000],\n",
      "         [0.0000, 0.0000, 0.0000, 0.0000, 0.0000, 0.0000, 0.0000, 0.0000,\n",
      "          0.0000, 0.0000, 0.0000, 0.0000, 0.0000, 0.0000, 0.0000, 0.0000,\n",
      "          0.0000, 0.1216, 0.9373, 0.9961, 0.1529, 0.0000, 0.0000, 0.0000,\n",
      "          0.0000, 0.0000, 0.0000, 0.0000],\n",
      "         [0.0000, 0.0000, 0.0000, 0.0000, 0.0000, 0.0000, 0.0000, 0.0000,\n",
      "          0.0000, 0.0000, 0.0000, 0.0000, 0.0000, 0.0000, 0.0000, 0.0000,\n",
      "          0.0000, 0.1569, 0.9961, 1.0000, 0.1529, 0.0000, 0.0000, 0.0000,\n",
      "          0.0000, 0.0000, 0.0000, 0.0000],\n",
      "         [0.0000, 0.0000, 0.0000, 0.0000, 0.0000, 0.0000, 0.0000, 0.0000,\n",
      "          0.0000, 0.0000, 0.0000, 0.0000, 0.0000, 0.0000, 0.0000, 0.0000,\n",
      "          0.0000, 0.1569, 0.9922, 0.9961, 0.1529, 0.0000, 0.0000, 0.0000,\n",
      "          0.0000, 0.0000, 0.0000, 0.0000],\n",
      "         [0.0000, 0.0000, 0.0000, 0.0000, 0.0000, 0.0000, 0.0000, 0.0000,\n",
      "          0.0000, 0.0000, 0.0000, 0.0000, 0.0000, 0.0000, 0.0000, 0.0000,\n",
      "          0.0000, 0.1569, 0.9922, 0.9961, 0.1529, 0.0000, 0.0000, 0.0000,\n",
      "          0.0000, 0.0000, 0.0000, 0.0000],\n",
      "         [0.0000, 0.0000, 0.0000, 0.0000, 0.0000, 0.0000, 0.0000, 0.0000,\n",
      "          0.0000, 0.0000, 0.0000, 0.0000, 0.0000, 0.0000, 0.0000, 0.0000,\n",
      "          0.0000, 0.0118, 0.7804, 0.9961, 0.1529, 0.0000, 0.0000, 0.0000,\n",
      "          0.0000, 0.0000, 0.0000, 0.0000],\n",
      "         [0.0000, 0.0000, 0.0000, 0.0000, 0.0000, 0.0000, 0.0000, 0.0000,\n",
      "          0.0000, 0.0000, 0.0000, 0.0000, 0.0000, 0.0000, 0.0000, 0.0000,\n",
      "          0.0000, 0.0000, 0.7647, 0.9961, 0.1529, 0.0000, 0.0000, 0.0000,\n",
      "          0.0000, 0.0000, 0.0000, 0.0000],\n",
      "         [0.0000, 0.0000, 0.0000, 0.0000, 0.0000, 0.0000, 0.0000, 0.0000,\n",
      "          0.0000, 0.0000, 0.0000, 0.0000, 0.0000, 0.0000, 0.0000, 0.0000,\n",
      "          0.0000, 0.0000, 0.0000, 0.0000, 0.0000, 0.0000, 0.0000, 0.0000,\n",
      "          0.0000, 0.0000, 0.0000, 0.0000]]])\n"
     ]
    }
   ],
   "source": [
    "## Plotting utility\n",
    "def plot_images(images, title):\n",
    "    plt.figure(figsize=(8, 4)) # they're inches...\n",
    "    for i in range(8):\n",
    "        plt.subplot(2, 4, i + 1)\n",
    "        plt.imshow(images[i].cpu().squeeze().numpy(), cmap='gray')\n",
    "        plt.axis('off')\n",
    "    plt.suptitle(title, y=1.05)\n",
    "    plt.tight_layout()\n",
    "\n",
    "\n",
    "## Visualize sample from dataset\n",
    "with torch.no_grad():\n",
    "    idx, (images, _) = next(enumerate(train_loader))\n",
    "\n",
    "plot_images(images, title=\"Original Images\")\n",
    "plt.show()\n",
    "print(images[0]) # grey scale in [0,1]"
   ]
  },
  {
   "cell_type": "markdown",
   "id": "633ef9f7-7fa8-4566-8bec-f4091f261838",
   "metadata": {},
   "source": [
    "## Model and Training"
   ]
  },
  {
   "cell_type": "code",
   "execution_count": 8,
   "id": "1e158d3e-88a4-4474-ad82-36312728071a",
   "metadata": {},
   "outputs": [],
   "source": [
    "## Build model\n",
    "class AE(nn.Module):\n",
    "    def __init__(self, input_dim, out_dim, latent_dim, hidden_dim=200):\n",
    "        super().__init__()\n",
    "\n",
    "        self.latent_dim = latent_dim\n",
    "        \n",
    "        ## Utilities\n",
    "        self.flatten = nn.Flatten(1,3)\n",
    "        self.activation = nn.ReLU()\n",
    "\n",
    "        ## Encoder\n",
    "        self.input2encoder_hid = nn.Linear(input_dim, hidden_dim)\n",
    "        self.encoder_hid2latent = nn.Linear(hidden_dim, latent_dim)\n",
    "        \n",
    "        ## Decoder\n",
    "        self.latent2decoder_hid = nn.Linear(latent_dim, hidden_dim)\n",
    "        self.decoder_hid2sigm = nn.Linear(hidden_dim, out_dim)\n",
    "\n",
    "        ## Out\n",
    "        self.sigmoid = nn.Sigmoid()\n",
    "        self.unflatten = nn.Unflatten(1, (1, 28, 28)) ## qua è rimasto 28...\n",
    "\n",
    "    def encode(self, x):\n",
    "        x = self.flatten(x)\n",
    "        x = self.input2encoder_hid(x)\n",
    "        x = self.activation(x)\n",
    "        \n",
    "        z = self.encoder_hid2latent(x)\n",
    "        \n",
    "        ## DEBUG\n",
    "        # print(latent_param.size())\n",
    "        # print(latent_param)\n",
    "        \n",
    "        return z\n",
    "\n",
    "    def decode(self, z):\n",
    "        ## Decode\n",
    "        z = self.latent2decoder_hid(z)\n",
    "        z = self.activation(z)\n",
    "        z = self.decoder_hid2sigm(z)\n",
    "        x_gen = self.sigmoid(z)\n",
    "        x_gen = self.unflatten(x_gen)\n",
    "\n",
    "        return x_gen\n",
    "\n",
    "    def forward(self, x):\n",
    "        z     = self.encode(x)\n",
    "        x_gen = self.decode(z)\n",
    "\n",
    "        return x_gen, z "
   ]
  },
  {
   "cell_type": "code",
   "execution_count": 9,
   "id": "69b30cdc-b304-4b07-ae4f-392bfc5290b8",
   "metadata": {},
   "outputs": [],
   "source": [
    "## Loss definition\n",
    "def loss(x, x_gen, z):  # qua va ripensata 1 attimo\n",
    "    mse  = (x-x_gen)*(x-x_gen)\n",
    "\n",
    "    ## DEBUG\n",
    "    # print(mse.size())\n",
    "    \n",
    "    return ...\n",
    "\n"
   ]
  },
  {
   "cell_type": "code",
   "execution_count": 10,
   "id": "73ac0583-4bd4-4c10-a4a9-c5097635b820",
   "metadata": {},
   "outputs": [],
   "source": [
    "model = AE(IMAGE_DIM, IMAGE_DIM, LATENT_DIM)\n",
    "model = model.to(DEVICE)\n",
    "\n",
    "## Optimizer choice\n",
    "optimizer = optim.Adam(model.parameters(),\n",
    "                      lr = LR,\n",
    "                      weight_decay=WEIGHT_DECAY)\n",
    "\n",
    "## Model summary\n",
    "# print(model.parameters)"
   ]
  },
  {
   "cell_type": "markdown",
   "id": "cbbe99c7-62cc-4961-9695-69d9c5f17fd3",
   "metadata": {},
   "source": [
    "### Training"
   ]
  },
  {
   "cell_type": "code",
   "execution_count": 11,
   "id": "a153ad0e-fa43-44b1-96a7-86641d6bd736",
   "metadata": {},
   "outputs": [
    {
     "name": "stdout",
     "output_type": "stream",
     "text": [
      "Epoch:  1 -- Loss = 60.18830\n",
      "Epoch:  2 -- Loss = 49.14826\n",
      "Epoch:  3 -- Loss = 48.13260\n",
      "Epoch:  4 -- Loss = 47.73387\n",
      "Epoch:  5 -- Loss = 47.34848\n",
      "Epoch:  6 -- Loss = 47.14180\n",
      "Epoch:  7 -- Loss = 46.81679\n",
      "Epoch:  8 -- Loss = 46.66425\n",
      "Epoch:  9 -- Loss = 46.47108\n",
      "Epoch: 10 -- Loss = 46.33874\n",
      "Epoch: 11 -- Loss = 46.26227\n",
      "Epoch: 12 -- Loss = 46.16163\n",
      "Epoch: 13 -- Loss = 46.02993\n",
      "Epoch: 14 -- Loss = 45.95102\n",
      "Epoch: 15 -- Loss = 45.83682\n",
      "Epoch: 16 -- Loss = 45.86269\n",
      "Epoch: 17 -- Loss = 45.74421\n",
      "Epoch: 18 -- Loss = 45.70572\n",
      "Epoch: 19 -- Loss = 45.56795\n",
      "Epoch: 20 -- Loss = 45.53529\n",
      "Epoch: 21 -- Loss = 45.47213\n",
      "Epoch: 22 -- Loss = 45.42708\n",
      "Epoch: 23 -- Loss = 45.37634\n",
      "Epoch: 24 -- Loss = 45.29372\n",
      "Epoch: 25 -- Loss = 45.27764\n",
      "Epoch: 26 -- Loss = 45.23559\n",
      "Epoch: 27 -- Loss = 45.14073\n",
      "Epoch: 28 -- Loss = 45.19615\n",
      "Epoch: 29 -- Loss = 45.07758\n",
      "Epoch: 30 -- Loss = 45.10027\n"
     ]
    }
   ],
   "source": [
    "# train loop\n",
    "loss_train = []\n",
    "# loss_validation = []\n",
    "\n",
    "for epoch in range(EPOCHS):\n",
    "    loss_epoch = 0.0\n",
    "    for x_train, _ in train_loader:\n",
    "        x_train = x_train.to(DEVICE)\n",
    "        \n",
    "        x_gen, z = model(x_train) # in qlche modo qua sa che deve andare a prendere .forward()\n",
    "        computed_loss = loss(x_gen, x_train, z)\n",
    "        loss_epoch += computed_loss.detach()\n",
    "        \n",
    "        optimizer.zero_grad()\n",
    "        computed_loss.backward()\n",
    "        optimizer.step()\n",
    "\n",
    "    ## Loss record\n",
    "    loss_epoch /= len(train_loader)\n",
    "    loss_train.append(loss_epoch)\n",
    "\n",
    "#   with torch.no_grad():\n",
    "#       for x_val, _ in validation_loader:\n",
    "#           x_val = x_val.to(DEVICE)\n",
    "#           \n",
    "#           x_gen_val, mu, sigma = model(x_val)\n",
    "#           val_computed_loss = loss(x_gen_val, x_val, mu=mu, sigma=sigma)\n",
    "#           loss_validation.append(val_computed_loss.detach())\n",
    "            \n",
    "    print(f\"Epoch: {epoch+1:2.0f} -- Loss = {loss_epoch:.5f}\") # -- Val loss = {val_computed_loss:.5f}\")"
   ]
  },
  {
   "cell_type": "markdown",
   "id": "50b01afa-373b-406e-b963-8eb72e36aa43",
   "metadata": {},
   "source": [
    "### Visualization"
   ]
  },
  {
   "cell_type": "code",
   "execution_count": 12,
   "id": "b5955dd6-e8e1-4325-9c2a-e6ee083eaac9",
   "metadata": {},
   "outputs": [
    {
     "data": {
      "image/png": "[encoded data removed]",
      "text/plain": [
       "<Figure size 640x480 with 1 Axes>"
      ]
     },
     "metadata": {},
     "output_type": "display_data"
    }
   ],
   "source": [
    "## Train and validation loss curves\n",
    "plt.plot(loss_train, label = \"Train\")\n",
    "# plt.plot(loss_validation, label = \"Validation\")\n",
    "\n",
    "plt.xlabel(\"Epochs\")\n",
    "plt.ylabel(\"Loss\")\n",
    "\n",
    "plt.legend()\n",
    "\n",
    "plt.show()"
   ]
  },
  {
   "cell_type": "code",
   "execution_count": 13,
   "id": "8067b26d-18c9-4871-b511-1ccf27cfbac3",
   "metadata": {},
   "outputs": [],
   "source": [
    "image_iterator = enumerate(train_loader)"
   ]
  },
  {
   "cell_type": "code",
   "execution_count": 14,
   "id": "0d507bd3-f1e2-4a41-98b1-0016dc2d7f1f",
   "metadata": {},
   "outputs": [
    {
     "data": {
      "image/png": "[encoded data removed]",
      "text/plain": [
       "<Figure size 800x400 with 8 Axes>"
      ]
     },
     "metadata": {},
     "output_type": "display_data"
    },
    {
     "data": {
      "image/png": "[encoded data removed]",
      "text/plain": [
       "<Figure size 800x400 with 8 Axes>"
      ]
     },
     "metadata": {},
     "output_type": "display_data"
    }
   ],
   "source": [
    "## Compare actual figures\n",
    "with torch.no_grad():\n",
    "    idx, (images, _) = next(image_iterator)\n",
    "    images_gen, z = model(images)\n",
    "    \n",
    "\n",
    "plot_images(images, title=\"Original Images\")\n",
    "plot_images(images_gen, title=\"Generated Images\")\n",
    "plt.show()"
   ]
  },
  {
   "cell_type": "code",
   "execution_count": 15,
   "id": "9812d948-ec18-4e53-8935-b640b33743c8",
   "metadata": {},
   "outputs": [],
   "source": [
    "## Sample from latent space\n",
    "## Generate"
   ]
  }
 ],
 "metadata": {
  "kernelspec": {
   "display_name": "Python 3 (ipykernel)",
   "language": "python",
   "name": "python3"
  },
  "language_info": {
   "codemirror_mode": {
    "name": "ipython",
    "version": 3
   },
   "file_extension": ".py",
   "mimetype": "text/x-python",
   "name": "python",
   "nbconvert_exporter": "python",
   "pygments_lexer": "ipython3",
   "version": "3.12.11"
  }
 },
 "nbformat": 4,
 "nbformat_minor": 5
}
