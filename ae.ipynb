{
 "cells": [
  {
   "cell_type": "markdown",
   "id": "7715c744-1538-4246-b55c-fcebf9d7e29d",
   "metadata": {},
   "source": [
    "# AutoEncoder (AE)"
   ]
  },
  {
   "cell_type": "code",
   "execution_count": 1,
   "id": "6d52a816-a225-44b8-b7e5-f0ea2e702229",
   "metadata": {},
   "outputs": [],
   "source": [
    "import torch\n",
    "from torch import nn\n",
    "from torch import optim\n",
    "\n",
    "import torchvision\n",
    "import torchvision.transforms as transforms\n",
    "\n",
    "import matplotlib.pyplot as plt"
   ]
  },
  {
   "cell_type": "markdown",
   "id": "03989ba0-5406-4ff2-b95d-d31bc4bb7fba",
   "metadata": {},
   "source": [
    "## Hyperparameters"
   ]
  },
  {
   "cell_type": "code",
   "execution_count": 2,
   "id": "50c24ad1-dcef-4758-a938-8856ebf8022b",
   "metadata": {},
   "outputs": [],
   "source": [
    "BATCH_SIZE = 8\n",
    "\n",
    "DENOISING = False\n",
    "\n",
    "## Architecture parameters\n",
    "IMAGE_DIM = 28*28\n",
    "LATENT_DIM = 2\n",
    "HIDDEN_DIM = [2]\n",
    "TIED_WEIGHTS = False\n",
    "LINEAR = True\n",
    "\n",
    "## Training setup\n",
    "LR = 1e-2\n",
    "WEIGHT_DECAY = 1e-6\n",
    "EPOCHS = 25\n",
    "\n",
    "DIGITS = [1,7] # with 0 it breaks somewhere"
   ]
  },
  {
   "cell_type": "markdown",
   "id": "b505f71b-f565-4f0f-8461-7532f29efe56",
   "metadata": {},
   "source": [
    "## Dataset download and setup"
   ]
  },
  {
   "cell_type": "code",
   "execution_count": 3,
   "id": "37425c3d-3b1a-4fee-804d-742fa486f609",
   "metadata": {},
   "outputs": [
    {
     "name": "stdout",
     "output_type": "stream",
     "text": [
      "cpu\n"
     ]
    }
   ],
   "source": [
    "# work on GPUs\n",
    "DEVICE = torch.device(\"cuda:0\" if torch.cuda.is_available() else \"cpu\")\n",
    "print(DEVICE)"
   ]
  },
  {
   "cell_type": "code",
   "execution_count": 4,
   "id": "26a34a70-af27-4864-80cf-02d5e9758dcd",
   "metadata": {},
   "outputs": [
    {
     "name": "stdout",
     "output_type": "stream",
     "text": [
      "60000\n",
      "10000\n"
     ]
    }
   ],
   "source": [
    "## Import Dataset (MNIST)\n",
    "transform = transforms.Compose([\n",
    "    transforms.ToTensor(),                             \n",
    "])\n",
    "\n",
    "# train_test_data = torchvision.datasets.MNIST(root='./Data', train=True, download=True, transform=transform)\n",
    "train_data = torchvision.datasets.MNIST(root='./Data', train=True, download=True, transform=transform)\n",
    "val_data  = torchvision.datasets.MNIST(root='./Data', train=False, download=True, transform=transform)\n",
    "\n",
    "#frac = 0.98\n",
    "#train_data, test_data = torch.utils.data.random_split(train_test_data, [frac, 1-frac], generator=torch.Generator().manual_seed(42))\n",
    "print(len(train_data))\n",
    "print(len(  val_data))\n",
    "#print(len( test_data))"
   ]
  },
  {
   "cell_type": "code",
   "execution_count": 5,
   "id": "d0b6742a-d628-4286-a451-e770bfab4d12",
   "metadata": {},
   "outputs": [
    {
     "name": "stdout",
     "output_type": "stream",
     "text": [
      "Train set:  1759 samples \n",
      "Val   set:  861 samples\n"
     ]
    }
   ],
   "source": [
    "# Filter out images with labels 1 and 2 from the training dataset\n",
    "indices = (train_data.targets == DIGITS[0]) + (train_data.targets == DIGITS[1]) # this has the same length as train_data.targets, filled with 1 and 0s\n",
    "indices[8000:] = False  # Limit the number of images with labels 1 and 7\n",
    "train_data.data, train_data.targets = train_data.data[indices], train_data.targets[indices]\n",
    "\n",
    "# Same thing for the Validation dataset\n",
    "indices = (val_data.targets == DIGITS[0]) + (val_data.targets == DIGITS[1])\n",
    "indices[4000:] = False\n",
    "val_data.data, val_data.targets = val_data.data[indices], val_data.targets[indices]\n",
    "\n",
    "# Same thing for the Test dataset\n",
    "#indices = (test_data.targets == DIGITS[0]) + (test_data.targets == DIGITS[1])\n",
    "#indices[4000:] = False\n",
    "#test_data.data, test_data.targets = test_data.data[indices], test_data.targets[indices]\n",
    "\n",
    "print(\"Train set: \", len(train_data.targets), \"samples \\nVal   set: \", len(val_data.targets), \"samples\")\n",
    "#print(\"Train set: \", len(train_data.targets), \"samples \\nVal set: \", len(val_data.targets), \"samples \\nTest set: \", len(test_data.targets), \"samples\")"
   ]
  },
  {
   "cell_type": "code",
   "execution_count": 6,
   "id": "a610356e-3f1f-44d5-a6c9-bad93b0b6392",
   "metadata": {},
   "outputs": [
    {
     "name": "stdout",
     "output_type": "stream",
     "text": [
      "tensor(853)\n",
      "879.5\n"
     ]
    },
    {
     "data": {
      "text/plain": [
       "tensor(0.9415)"
      ]
     },
     "execution_count": 6,
     "metadata": {},
     "output_type": "execute_result"
    }
   ],
   "source": [
    "num_1 = torch.count_nonzero(train_data.targets == DIGITS[0])\n",
    "num_2 = torch.count_nonzero(train_data.targets == DIGITS[1])\n",
    "print(num_2)\n",
    "print(len(train_data.targets)/2)\n",
    "num_2/num_1"
   ]
  },
  {
   "cell_type": "code",
   "execution_count": 7,
   "id": "114f3771-16d0-468c-ae4e-553078d0793f",
   "metadata": {},
   "outputs": [],
   "source": [
    "train_loader = torch.utils.data.DataLoader(train_data, batch_size=BATCH_SIZE,    shuffle=True)\n",
    "val_loader   = torch.utils.data.DataLoader(val_data,   batch_size=len(val_data), shuffle=False)\n",
    "#test_loader  = torch.utils.data.DataLoader(test_data,  batch_size=len(test_data),shuffle=False)"
   ]
  },
  {
   "cell_type": "code",
   "execution_count": 8,
   "id": "7f9b57d5-5b16-495f-9067-68453062f445",
   "metadata": {},
   "outputs": [],
   "source": [
    "def add_noise(data, noise_factor = .3):\n",
    "    noise = noise_factor*torch.randn_like(data)\n",
    "    noisy_data = torch.clip(data + noise, 0, 1)\n",
    "    return noisy_data"
   ]
  },
  {
   "cell_type": "markdown",
   "id": "f345c179-3dce-47f1-a170-43ac5921f9fb",
   "metadata": {},
   "source": [
    "## Dataset visualization"
   ]
  },
  {
   "cell_type": "code",
   "execution_count": 9,
   "id": "b4334014-ce7e-4c89-b01f-d08c3f866c42",
   "metadata": {
    "scrolled": true
   },
   "outputs": [
    {
     "data": {
      "image/png": "[encoded data removed]",
      "text/plain": [
       "<Figure size 800x400 with 8 Axes>"
      ]
     },
     "metadata": {},
     "output_type": "display_data"
    },
    {
     "name": "stdout",
     "output_type": "stream",
     "text": [
      "tensor([[[0.0000, 0.0000, 0.0000, 0.0000, 0.0000, 0.0000, 0.0000, 0.0000,\n",
      "          0.0000, 0.0000, 0.0000, 0.0000, 0.0000, 0.0000, 0.0000, 0.0000,\n",
      "          0.0000, 0.0000, 0.0000, 0.0000, 0.0000, 0.0000, 0.0000, 0.0000,\n",
      "          0.0000, 0.0000, 0.0000, 0.0000],\n",
      "         [0.0000, 0.0000, 0.0000, 0.0000, 0.0000, 0.0000, 0.0000, 0.0000,\n",
      "          0.0000, 0.0000, 0.0000, 0.0000, 0.0000, 0.0000, 0.0000, 0.0000,\n",
      "          0.0000, 0.0000, 0.0000, 0.0000, 0.0000, 0.0000, 0.0000, 0.0000,\n",
      "          0.0000, 0.0000, 0.0000, 0.0000],\n",
      "         [0.0000, 0.0000, 0.0000, 0.0000, 0.0000, 0.0000, 0.0000, 0.0000,\n",
      "          0.0000, 0.0000, 0.0000, 0.0000, 0.0000, 0.0000, 0.0000, 0.0000,\n",
      "          0.0000, 0.0000, 0.0000, 0.0000, 0.0000, 0.0000, 0.0000, 0.0000,\n",
      "          0.0000, 0.0000, 0.0000, 0.0000],\n",
      "         [0.0000, 0.0000, 0.0000, 0.0000, 0.0000, 0.0000, 0.0000, 0.0000,\n",
      "          0.0000, 0.0000, 0.0000, 0.0000, 0.0000, 0.0000, 0.0000, 0.0000,\n",
      "          0.0000, 0.0000, 0.0000, 0.0000, 0.0000, 0.0000, 0.0000, 0.0000,\n",
      "          0.0000, 0.0000, 0.0000, 0.0000],\n",
      "         [0.0000, 0.0000, 0.0000, 0.0000, 0.0000, 0.0000, 0.0000, 0.0000,\n",
      "          0.0000, 0.0000, 0.0000, 0.0000, 0.0000, 0.0000, 0.0000, 0.0000,\n",
      "          0.0000, 0.0000, 0.0000, 0.0000, 0.0000, 0.0000, 0.0000, 0.0000,\n",
      "          0.0000, 0.0000, 0.0000, 0.0000],\n",
      "         [0.0000, 0.0000, 0.0000, 0.0000, 0.0000, 0.0000, 0.0000, 0.0000,\n",
      "          0.0000, 0.0000, 0.0000, 0.0000, 0.0000, 0.0000, 0.0000, 0.0000,\n",
      "          0.0000, 0.0000, 0.0000, 0.0000, 0.0000, 0.0000, 0.0000, 0.0000,\n",
      "          0.0000, 0.0000, 0.0000, 0.0000],\n",
      "         [0.0000, 0.0000, 0.0000, 0.0000, 0.0000, 0.0000, 0.0000, 0.0588,\n",
      "          0.7451, 0.9961, 1.0000, 0.7804, 0.0000, 0.0000, 0.0000, 0.0000,\n",
      "          0.0000, 0.0000, 0.0000, 0.0000, 0.0000, 0.0000, 0.0000, 0.0000,\n",
      "          0.0000, 0.0000, 0.0000, 0.0000],\n",
      "         [0.0000, 0.0000, 0.0000, 0.0000, 0.0000, 0.0000, 0.0000, 0.2706,\n",
      "          0.9961, 0.9961, 0.9961, 0.9569, 0.4941, 0.4941, 0.4941, 0.2353,\n",
      "          0.1137, 0.0667, 0.0000, 0.0000, 0.0000, 0.0000, 0.0000, 0.0000,\n",
      "          0.0000, 0.0000, 0.0000, 0.0000],\n",
      "         [0.0000, 0.0000, 0.0000, 0.0000, 0.0000, 0.0000, 0.0000, 0.6000,\n",
      "          0.9961, 0.9961, 0.9961, 0.9961, 0.9961, 0.9961, 0.9961, 0.9961,\n",
      "          0.9961, 0.8863, 0.4863, 0.3608, 0.3608, 0.3608, 0.0431, 0.0000,\n",
      "          0.0000, 0.0000, 0.0000, 0.0000],\n",
      "         [0.0000, 0.0000, 0.0000, 0.0000, 0.0000, 0.0000, 0.0000, 0.6000,\n",
      "          0.9961, 0.9961, 0.9961, 0.9961, 0.9961, 0.9961, 0.8235, 0.9961,\n",
      "          0.9961, 0.9961, 0.9961, 0.9961, 0.9961, 0.9961, 0.8510, 0.0000,\n",
      "          0.0000, 0.0000, 0.0000, 0.0000],\n",
      "         [0.0000, 0.0000, 0.0000, 0.0000, 0.0000, 0.0000, 0.0000, 0.6392,\n",
      "          0.9961, 0.9961, 0.9961, 0.9569, 0.2627, 0.1490, 0.0392, 0.1490,\n",
      "          0.2902, 0.4510, 0.8353, 0.9961, 0.9961, 0.9961, 0.8275, 0.0000,\n",
      "          0.0000, 0.0000, 0.0000, 0.0000],\n",
      "         [0.0000, 0.0000, 0.0000, 0.0000, 0.0000, 0.0000, 0.0000, 0.9804,\n",
      "          0.9961, 0.9961, 0.9961, 0.7882, 0.0000, 0.0000, 0.0000, 0.0000,\n",
      "          0.0000, 0.1569, 0.9020, 0.9961, 0.9961, 0.9059, 0.1804, 0.0000,\n",
      "          0.0000, 0.0000, 0.0000, 0.0000],\n",
      "         [0.0000, 0.0000, 0.0000, 0.0000, 0.0000, 0.0000, 0.2902, 0.9882,\n",
      "          0.9961, 0.9961, 0.9529, 0.1451, 0.0000, 0.0000, 0.0000, 0.0000,\n",
      "          0.0000, 0.4941, 0.9961, 0.9961, 0.9961, 0.5098, 0.0000, 0.0000,\n",
      "          0.0000, 0.0000, 0.0000, 0.0000],\n",
      "         [0.0000, 0.0000, 0.0000, 0.0000, 0.0000, 0.0000, 0.7333, 0.9961,\n",
      "          0.9961, 0.9961, 0.7569, 0.0000, 0.0000, 0.0000, 0.0000, 0.0000,\n",
      "          0.0157, 0.8078, 0.9961, 0.9961, 0.9490, 0.0627, 0.0000, 0.0000,\n",
      "          0.0000, 0.0000, 0.0000, 0.0000],\n",
      "         [0.0000, 0.0000, 0.0000, 0.0000, 0.0000, 0.0392, 0.8196, 0.9961,\n",
      "          0.9961, 0.9961, 0.2902, 0.0000, 0.0000, 0.0000, 0.0000, 0.0000,\n",
      "          0.4353, 0.9961, 0.9961, 0.9961, 0.4824, 0.0000, 0.0000, 0.0000,\n",
      "          0.0000, 0.0000, 0.0000, 0.0000],\n",
      "         [0.0000, 0.0000, 0.0000, 0.0000, 0.0000, 0.1882, 0.9961, 0.9961,\n",
      "          0.9961, 0.8000, 0.0157, 0.0000, 0.0000, 0.0000, 0.0000, 0.0000,\n",
      "          0.7608, 0.9961, 0.9961, 0.9098, 0.0980, 0.0000, 0.0000, 0.0000,\n",
      "          0.0000, 0.0000, 0.0000, 0.0000],\n",
      "         [0.0000, 0.0000, 0.0000, 0.0000, 0.0000, 0.7961, 0.9961, 0.9961,\n",
      "          0.9961, 0.6549, 0.0000, 0.0000, 0.0000, 0.0000, 0.0000, 0.2706,\n",
      "          0.9804, 0.9961, 0.9961, 0.6784, 0.0000, 0.0000, 0.0000, 0.0000,\n",
      "          0.0000, 0.0000, 0.0000, 0.0000],\n",
      "         [0.0000, 0.0000, 0.0000, 0.0000, 0.0000, 0.7529, 0.9961, 0.9961,\n",
      "          0.9961, 0.5412, 0.0000, 0.0000, 0.0000, 0.0000, 0.0000, 0.6784,\n",
      "          0.9961, 0.9961, 0.9098, 0.1843, 0.0000, 0.0000, 0.0000, 0.0000,\n",
      "          0.0000, 0.0000, 0.0000, 0.0000],\n",
      "         [0.0000, 0.0000, 0.0000, 0.0000, 0.0000, 0.0392, 0.3529, 0.7333,\n",
      "          0.2706, 0.0235, 0.0000, 0.0000, 0.0000, 0.0000, 0.0314, 0.8510,\n",
      "          0.9961, 0.9961, 0.7098, 0.0000, 0.0000, 0.0000, 0.0000, 0.0000,\n",
      "          0.0000, 0.0000, 0.0000, 0.0000],\n",
      "         [0.0000, 0.0000, 0.0000, 0.0000, 0.0000, 0.0000, 0.0000, 0.0000,\n",
      "          0.0000, 0.0000, 0.0000, 0.0000, 0.0000, 0.0000, 0.3569, 0.9961,\n",
      "          0.9961, 0.9961, 0.6980, 0.0000, 0.0000, 0.0000, 0.0000, 0.0000,\n",
      "          0.0000, 0.0000, 0.0000, 0.0000],\n",
      "         [0.0000, 0.0000, 0.0000, 0.0000, 0.0000, 0.0000, 0.0000, 0.0000,\n",
      "          0.0000, 0.0000, 0.0000, 0.0000, 0.0000, 0.0000, 0.6824, 0.9961,\n",
      "          0.9961, 0.9843, 0.2431, 0.0000, 0.0000, 0.0000, 0.0000, 0.0000,\n",
      "          0.0000, 0.0000, 0.0000, 0.0000],\n",
      "         [0.0000, 0.0000, 0.0000, 0.0000, 0.0000, 0.0000, 0.0000, 0.0000,\n",
      "          0.0000, 0.0000, 0.0000, 0.0000, 0.0000, 0.0000, 0.8078, 0.9961,\n",
      "          0.9961, 0.9725, 0.1294, 0.0000, 0.0000, 0.0000, 0.0000, 0.0000,\n",
      "          0.0000, 0.0000, 0.0000, 0.0000],\n",
      "         [0.0000, 0.0000, 0.0000, 0.0000, 0.0000, 0.0000, 0.0000, 0.0000,\n",
      "          0.0000, 0.0000, 0.0000, 0.0000, 0.0000, 0.0039, 0.8118, 0.9961,\n",
      "          0.9961, 0.9569, 0.0000, 0.0000, 0.0000, 0.0000, 0.0000, 0.0000,\n",
      "          0.0000, 0.0000, 0.0000, 0.0000],\n",
      "         [0.0000, 0.0000, 0.0000, 0.0000, 0.0000, 0.0000, 0.0000, 0.0000,\n",
      "          0.0000, 0.0000, 0.0000, 0.0000, 0.0000, 0.1922, 0.9961, 0.9961,\n",
      "          0.9961, 0.8549, 0.0000, 0.0000, 0.0000, 0.0000, 0.0000, 0.0000,\n",
      "          0.0000, 0.0000, 0.0000, 0.0000],\n",
      "         [0.0000, 0.0000, 0.0000, 0.0000, 0.0000, 0.0000, 0.0000, 0.0000,\n",
      "          0.0000, 0.0000, 0.0000, 0.0000, 0.0000, 0.1647, 0.9686, 0.9961,\n",
      "          0.9961, 0.5804, 0.0000, 0.0000, 0.0000, 0.0000, 0.0000, 0.0000,\n",
      "          0.0000, 0.0000, 0.0000, 0.0000],\n",
      "         [0.0000, 0.0000, 0.0000, 0.0000, 0.0000, 0.0000, 0.0000, 0.0000,\n",
      "          0.0000, 0.0000, 0.0000, 0.0000, 0.0000, 0.0000, 0.6667, 0.9961,\n",
      "          0.9294, 0.2196, 0.0000, 0.0000, 0.0000, 0.0000, 0.0000, 0.0000,\n",
      "          0.0000, 0.0000, 0.0000, 0.0000],\n",
      "         [0.0000, 0.0000, 0.0000, 0.0000, 0.0000, 0.0000, 0.0000, 0.0000,\n",
      "          0.0000, 0.0000, 0.0000, 0.0000, 0.0000, 0.0000, 0.0000, 0.0000,\n",
      "          0.0000, 0.0000, 0.0000, 0.0000, 0.0000, 0.0000, 0.0000, 0.0000,\n",
      "          0.0000, 0.0000, 0.0000, 0.0000],\n",
      "         [0.0000, 0.0000, 0.0000, 0.0000, 0.0000, 0.0000, 0.0000, 0.0000,\n",
      "          0.0000, 0.0000, 0.0000, 0.0000, 0.0000, 0.0000, 0.0000, 0.0000,\n",
      "          0.0000, 0.0000, 0.0000, 0.0000, 0.0000, 0.0000, 0.0000, 0.0000,\n",
      "          0.0000, 0.0000, 0.0000, 0.0000]]])\n"
     ]
    }
   ],
   "source": [
    "## Plotting utility\n",
    "def plot_images(images, title):\n",
    "    plt.figure(figsize=(8, 4)) # they're inches...\n",
    "    for i in range(8):\n",
    "        plt.subplot(2, 4, i + 1)\n",
    "        plt.imshow(images[i].cpu().squeeze().numpy(), cmap='gray')\n",
    "        plt.axis('off')\n",
    "    plt.suptitle(title, y=1.05)\n",
    "    plt.tight_layout()\n",
    "\n",
    "\n",
    "## Visualize sample from dataset\n",
    "with torch.no_grad():\n",
    "    idx, (images, _) = next(enumerate(train_loader))\n",
    "    if DENOISING:\n",
    "        images_noisy = add_noise(images)\n",
    "\n",
    "plot_images(images, title=\"Original Images\")\n",
    "if DENOISING:\n",
    "    plot_images(images_noisy, title=\"Noisy Images\")\n",
    "    \n",
    "plt.show()\n",
    "print(images[0]) # grey scale in [0,1]"
   ]
  },
  {
   "cell_type": "markdown",
   "id": "633ef9f7-7fa8-4566-8bec-f4091f261838",
   "metadata": {},
   "source": [
    "## Model and Training"
   ]
  },
  {
   "cell_type": "code",
   "execution_count": 10,
   "id": "1e158d3e-88a4-4474-ad82-36312728071a",
   "metadata": {},
   "outputs": [],
   "source": [
    "## Build model\n",
    "class AE(nn.Module):\n",
    "    def __init__(self, input_dim, out_dim, latent_dim, hidden_dim=[200,50], tied_weights=False, linear=False):\n",
    "        super().__init__()\n",
    "\n",
    "        self.latent_dim = latent_dim\n",
    "        self.hidden_dim = hidden_dim\n",
    "        self.linear = linear\n",
    "\n",
    "        if linear:\n",
    "            tied_weights=True # mandatory for PCA\n",
    "        \n",
    "        ## Utilities\n",
    "        self.flatten = nn.Flatten(1,3)\n",
    "        if not linear:\n",
    "            self.activation = nn.Tanh()\n",
    "\n",
    "        ## Encoder\n",
    "        self.encoder = nn.ModuleList([])\n",
    "        self.encoder.append(nn.Linear(input_dim, hidden_dim[0]))\n",
    "        if len(hidden_dim) > 1:\n",
    "            for i in range(len(hidden_dim)-1):\n",
    "                self.encoder.append(nn.Linear(hidden_dim[i], hidden_dim[i+1]))\n",
    "                \n",
    "        self.encoder.append(nn.Linear(hidden_dim[-1], latent_dim))\n",
    "        \n",
    "        ## Decoder\n",
    "        self.decoder = nn.ModuleList([])\n",
    "        self.decoder.append(nn.Linear(latent_dim, hidden_dim[-1]))\n",
    "        \n",
    "        if len(hidden_dim) > 1:\n",
    "            for i in range(1,len(hidden_dim)):\n",
    "                self.decoder.append(nn.Linear(hidden_dim[-i], hidden_dim[-i-1]))\n",
    "\n",
    "        self.decoder.append(nn.Linear(hidden_dim[0], out_dim))\n",
    "        \n",
    "        if tied_weights:\n",
    "            for i in range(len(self.encoder)):\n",
    "                self.decoder[i].weight = nn.Parameter(self.encoder[-i-1].weight.transpose(0,1))\n",
    "\n",
    "        ## Out\n",
    "        self.sigmoid = nn.Sigmoid()\n",
    "        self.unflatten = nn.Unflatten(1, (1, 28, 28)) # for MNIST images\n",
    "\n",
    "    def encode(self, x):\n",
    "        z = self.flatten(x)\n",
    "        for layer in self.encoder:\n",
    "            z = layer(z)\n",
    "            if not self.linear:\n",
    "                z = self.activation(z)\n",
    "        \n",
    "        return z\n",
    "\n",
    "    def decode(self, z):\n",
    "\n",
    "        for i, layer in enumerate(self.decoder):\n",
    "            z = layer(z)\n",
    "            if not self.linear and i != (len(self.decoder)-1): # the last activation needs to be a sigmoid\n",
    "                z = self.activation(z)\n",
    "\n",
    "        if not self.linear:\n",
    "            z = self.sigmoid(z)\n",
    "            \n",
    "        x_rec = self.unflatten(z)\n",
    "\n",
    "        return x_rec\n",
    "\n",
    "    def forward(self, x):\n",
    "        z     = self.encode(x)\n",
    "        x_rec = self.decode(z)\n",
    "\n",
    "        return x_rec, z "
   ]
  },
  {
   "cell_type": "code",
   "execution_count": 11,
   "id": "69b30cdc-b304-4b07-ae4f-392bfc5290b8",
   "metadata": {},
   "outputs": [],
   "source": [
    "## Loss definition\n",
    "def loss(x, x_gen):\n",
    "    criterion = nn.MSELoss()\n",
    "    mse = criterion(x, x_gen)\n",
    "    \n",
    "    # L1 regularization\n",
    "    # L1 = torch.sum(torch.abs(z))\n",
    "    # return mse + lambd*L1\n",
    "    \n",
    "    return mse\n",
    "\n",
    "# Untested\n",
    "def lossKL(x, x_gen, z, rho):\n",
    "    criterion = nn.MSELoss()\n",
    "    mse = criterion(x, x_gen)\n",
    "    criterion_reg = nn.BCELoss() # corresponds to Dkl\n",
    "    # Compute average (over minibatch) activation\n",
    "    rho_hat = torch.mean(z, axis=0)\n",
    "    Dkl = criterion_reg(rho*torch.ones_like(rho_hat), rho_hat)\n",
    "\n",
    "    # volendo ci può stare 1 altro hyperparam a controllare il peso relativo...\n",
    "    return mse + Dkl"
   ]
  },
  {
   "cell_type": "code",
   "execution_count": 12,
   "id": "73ac0583-4bd4-4c10-a4a9-c5097635b820",
   "metadata": {},
   "outputs": [
    {
     "name": "stdout",
     "output_type": "stream",
     "text": [
      "<bound method Module.parameters of AE(\n",
      "  (flatten): Flatten(start_dim=1, end_dim=3)\n",
      "  (encoder): ModuleList(\n",
      "    (0): Linear(in_features=784, out_features=2, bias=True)\n",
      "    (1): Linear(in_features=2, out_features=2, bias=True)\n",
      "  )\n",
      "  (decoder): ModuleList(\n",
      "    (0): Linear(in_features=2, out_features=2, bias=True)\n",
      "    (1): Linear(in_features=2, out_features=784, bias=True)\n",
      "  )\n",
      "  (sigmoid): Sigmoid()\n",
      "  (unflatten): Unflatten(dim=1, unflattened_size=(1, 28, 28))\n",
      ")>\n"
     ]
    }
   ],
   "source": [
    "model = AE(IMAGE_DIM, IMAGE_DIM, LATENT_DIM, HIDDEN_DIM, tied_weights=TIED_WEIGHTS, linear=LINEAR)\n",
    "model = model.to(DEVICE)\n",
    "\n",
    "## Optimizer choice\n",
    "optimizer = optim.Adam(model.parameters(),\n",
    "                      lr = LR,\n",
    "                      weight_decay=WEIGHT_DECAY)\n",
    "\n",
    "## Model summary\n",
    "print(model.parameters)"
   ]
  },
  {
   "cell_type": "raw",
   "id": "3456e962-b6db-4350-b4fb-0b39e66c5d23",
   "metadata": {
    "jupyter": {
     "source_hidden": true
    }
   },
   "source": [
    "## Test cell\n",
    "my_mini_model = AE(5,5,2,[2], tied_weights=True)\n",
    "print(my_mini_model.encoder[1].weight)\n",
    "print(my_mini_model.decoder[-2].weight)\n",
    "\n",
    "with torch.no_grad():\n",
    "    my_mini_model.encoder[1].weight[0,0] = 0.2222\n",
    "    print(my_mini_model.decoder[-2].weight[0,0])"
   ]
  },
  {
   "cell_type": "markdown",
   "id": "cbbe99c7-62cc-4961-9695-69d9c5f17fd3",
   "metadata": {},
   "source": [
    "### Training"
   ]
  },
  {
   "cell_type": "code",
   "execution_count": 13,
   "id": "a153ad0e-fa43-44b1-96a7-86641d6bd736",
   "metadata": {},
   "outputs": [
    {
     "name": "stdout",
     "output_type": "stream",
     "text": [
      "Epoch:  1 -- Loss = 0.04455 -- Val loss = 0.03615\n",
      "Epoch:  2 -- Loss = 0.03488 -- Val loss = 0.03461\n",
      "Epoch:  3 -- Loss = 0.03295 -- Val loss = 0.03163\n",
      "Epoch:  4 -- Loss = 0.03154 -- Val loss = 0.03057\n",
      "Epoch:  5 -- Loss = 0.03102 -- Val loss = 0.03015\n",
      "Epoch:  6 -- Loss = 0.03065 -- Val loss = 0.02989\n",
      "Epoch:  7 -- Loss = 0.03058 -- Val loss = 0.03005\n",
      "Epoch:  8 -- Loss = 0.03062 -- Val loss = 0.02979\n",
      "Epoch:  9 -- Loss = 0.03054 -- Val loss = 0.02955\n",
      "Epoch: 10 -- Loss = 0.03061 -- Val loss = 0.02979\n",
      "Epoch: 11 -- Loss = 0.03058 -- Val loss = 0.02976\n",
      "Epoch: 12 -- Loss = 0.03062 -- Val loss = 0.03000\n",
      "Epoch: 13 -- Loss = 0.03062 -- Val loss = 0.02973\n",
      "Epoch: 14 -- Loss = 0.03060 -- Val loss = 0.02993\n",
      "Epoch: 15 -- Loss = 0.03057 -- Val loss = 0.03029\n",
      "Epoch: 16 -- Loss = 0.03062 -- Val loss = 0.02989\n",
      "Epoch: 17 -- Loss = 0.03056 -- Val loss = 0.02941\n",
      "Epoch: 18 -- Loss = 0.03057 -- Val loss = 0.02959\n",
      "Epoch: 19 -- Loss = 0.03065 -- Val loss = 0.02986\n",
      "Epoch: 20 -- Loss = 0.03058 -- Val loss = 0.03007\n",
      "Epoch: 21 -- Loss = 0.03066 -- Val loss = 0.03010\n",
      "Epoch: 22 -- Loss = 0.03065 -- Val loss = 0.02990\n",
      "Epoch: 23 -- Loss = 0.03057 -- Val loss = 0.02991\n",
      "Epoch: 24 -- Loss = 0.03086 -- Val loss = 0.02977\n",
      "Epoch: 25 -- Loss = 0.03059 -- Val loss = 0.02987\n"
     ]
    }
   ],
   "source": [
    "# train loop\n",
    "loss_train = []\n",
    "loss_val   = []\n",
    "\n",
    "for epoch in range(EPOCHS):\n",
    "    loss_epoch = 0.0\n",
    "    for x_train, _ in train_loader:\n",
    "        x_train = x_train.to(DEVICE)\n",
    "        \n",
    "        if DENOISING:\n",
    "            x_train_noisy = add_noise(x_train)\n",
    "            x_train_noisy = x_train_noisy.to(DEVICE)\n",
    "            x_gen, z = model(x_train_noisy)\n",
    "        else:\n",
    "            x_gen, z = model(x_train)\n",
    "        \n",
    "        computed_loss = loss(x_gen, x_train)\n",
    "        #computed_loss = lossKL(x_gen, x_train, z, RHO)\n",
    "        loss_epoch += computed_loss.detach()\n",
    "        \n",
    "        optimizer.zero_grad()\n",
    "        computed_loss.backward()\n",
    "        optimizer.step()\n",
    "\n",
    "    ## Loss record\n",
    "    loss_epoch /= len(train_loader)\n",
    "    loss_train.append(loss_epoch)\n",
    "\n",
    "    with torch.no_grad():\n",
    "        for x_val, _ in val_loader:\n",
    "            x_val = x_val.to(DEVICE)\n",
    "            \n",
    "            if DENOISING:\n",
    "                x_val_noisy = add_noise(x_val)\n",
    "                x_val_noisy = x_val_noisy.to(DEVICE)\n",
    "                x_gen_val, z = model(x_val_noisy)\n",
    "            else:\n",
    "                x_gen_val, z = model(x_val)\n",
    "                \n",
    "            val_computed_loss = loss(x_gen_val, x_val)\n",
    "            # val_computed_loss = lossKL(x_gen_val, x_val, z, RHO)\n",
    "            loss_val.append(val_computed_loss.detach())\n",
    "            \n",
    "    print(f\"Epoch: {epoch+1:2.0f} -- Loss = {loss_epoch:.5f} -- Val loss = {val_computed_loss:.5f}\")"
   ]
  },
  {
   "cell_type": "markdown",
   "id": "50b01afa-373b-406e-b963-8eb72e36aa43",
   "metadata": {},
   "source": [
    "### Visualization"
   ]
  },
  {
   "cell_type": "code",
   "execution_count": 14,
   "id": "b5955dd6-e8e1-4325-9c2a-e6ee083eaac9",
   "metadata": {},
   "outputs": [
    {
     "data": {
      "image/png": "[encoded data removed]",
      "text/plain": [
       "<Figure size 640x480 with 1 Axes>"
      ]
     },
     "metadata": {},
     "output_type": "display_data"
    }
   ],
   "source": [
    "## Train and validation loss curves\n",
    "plt.plot(loss_train, label = \"Train\")\n",
    "plt.plot(loss_val  , label = \"Validation\")\n",
    "\n",
    "plt.xlabel(\"Epochs\")\n",
    "plt.ylabel(\"Loss\")\n",
    "\n",
    "plt.legend()\n",
    "\n",
    "plt.show()"
   ]
  },
  {
   "cell_type": "code",
   "execution_count": 15,
   "id": "8067b26d-18c9-4871-b511-1ccf27cfbac3",
   "metadata": {},
   "outputs": [
    {
     "data": {
      "text/plain": [
       "0"
      ]
     },
     "execution_count": 15,
     "metadata": {},
     "output_type": "execute_result"
    }
   ],
   "source": [
    "# i = 0\n",
    "torch.randint(10,(1,)).item()"
   ]
  },
  {
   "cell_type": "code",
   "execution_count": 22,
   "id": "0d507bd3-f1e2-4a41-98b1-0016dc2d7f1f",
   "metadata": {},
   "outputs": [
    {
     "data": {
      "image/png": "[encoded data removed]",
      "text/plain": [
       "<Figure size 800x400 with 8 Axes>"
      ]
     },
     "metadata": {},
     "output_type": "display_data"
    },
    {
     "data": {
      "image/png": "[encoded data removed]",
      "text/plain": [
       "<Figure size 800x400 with 8 Axes>"
      ]
     },
     "metadata": {},
     "output_type": "display_data"
    }
   ],
   "source": [
    "## Compare actual figures\n",
    "i = torch.randint(100, (1,)).item()\n",
    "\n",
    "with torch.no_grad():\n",
    "    for images, _ in val_loader:\n",
    "        images = images.to(DEVICE)\n",
    "        if DENOISING:\n",
    "            images_noisy = add_noise(images)\n",
    "        images_gen, z = model(images)\n",
    "        break\n",
    "\n",
    "plot_images(images[i*8:(i+1)*8,:,:,:], title=\"Original Images\")\n",
    "if DENOISING:\n",
    "    plot_images(images_noisy[i*8:(i+1)*8,:,:,:], title=\"Noisy Images\")\n",
    "plot_images(images_gen[i*8:(i+1)*8,:,:,:], title=\"Generated Images\")\n",
    "plt.show()"
   ]
  },
  {
   "cell_type": "code",
   "execution_count": 17,
   "id": "872c24f5-5123-477a-80e9-7e0556137ffb",
   "metadata": {},
   "outputs": [],
   "source": [
    "if DENOISING:\n",
    "    ## Compare actual figures\n",
    "    i = 2\n",
    "    \n",
    "    with torch.no_grad():\n",
    "        for images, _ in val_loader:\n",
    "            images = images.to(DEVICE)\n",
    "            if DENOISING:\n",
    "                images_noisy = add_noise(images)\n",
    "            images_gen, z = model(images)\n",
    "            break\n",
    "    \n",
    "    plt.figure(figsize=(6, 4)) # they're inches...\n",
    "    for i in range(2):\n",
    "        plt.subplot(2, 3, i*3 + 1)\n",
    "        plt.imshow(images[i].cpu().squeeze().numpy(), cmap='gray')\n",
    "        plt.axis('off')\n",
    "        if i==0:\n",
    "            plt.title(\"Original\", y=1.05)\n",
    "    for i in range(2):\n",
    "        plt.subplot(2, 3, i*3 + 2)\n",
    "        plt.imshow(images_noisy[i].cpu().squeeze().numpy(), cmap='gray')\n",
    "        plt.axis('off')\n",
    "        if i==0:\n",
    "            plt.title(\"Noisy\", y=1.05)\n",
    "    for i in range(2):\n",
    "        plt.subplot(2, 3, i*3 + 3)\n",
    "        plt.imshow(images_gen[i].cpu().squeeze().numpy(), cmap='gray')\n",
    "        plt.axis('off')\n",
    "        if i==0:\n",
    "            plt.title(\"Recostructed\", y=1.05)\n",
    "    \n",
    "    plt.tight_layout()\n",
    "    \n",
    "    plt.savefig(\"./Report/Images/denoising_ae.png\")\n",
    "    plt.show()"
   ]
  },
  {
   "cell_type": "markdown",
   "id": "99315e73-1140-412b-9bf7-9a1492007adb",
   "metadata": {},
   "source": [
    "# Silhouette Score examination"
   ]
  },
  {
   "cell_type": "code",
   "execution_count": 18,
   "id": "dc7b9516-7ccd-4244-90f6-12d31755babb",
   "metadata": {},
   "outputs": [],
   "source": [
    "from sklearn.metrics import silhouette_score, silhouette_samples\n",
    "import numpy as np"
   ]
  },
  {
   "cell_type": "code",
   "execution_count": 19,
   "id": "9812d948-ec18-4e53-8935-b640b33743c8",
   "metadata": {},
   "outputs": [
    {
     "name": "stdout",
     "output_type": "stream",
     "text": [
      "0.48049998\n",
      "0.18974756\n"
     ]
    }
   ],
   "source": [
    "# Facciamolo sul validation set\n",
    "# fallo passare attrav il modello ed estrai z\n",
    "s_score = 0\n",
    "s_score_original = 0\n",
    "s_array = np.ones(len(val_loader))\n",
    "indices = [np.ones(len(val_loader)), np.ones(len(val_loader))]\n",
    "           \n",
    "with torch.no_grad():\n",
    "    for images, labels in val_loader:\n",
    "        images = images.to(DEVICE)\n",
    "        _, z = model(images)\n",
    "        \n",
    "        flatten = nn.Flatten(1,3)\n",
    "        images = flatten(images)\n",
    "        indices[0] = (labels==DIGITS[0])\n",
    "        indices[1] = (labels==DIGITS[1])\n",
    " \n",
    "        #x2 = z * z\n",
    "        #x2 = x2.sum(axis=1)\n",
    "        #z_t = torch.transpose(z, 0, 1)\n",
    "        #xx = z@z_t\n",
    "        #distances = torch.sqrt( x2 - 2*xx + x2.unsqueeze(dim=1) )\n",
    "        #s_score = silhouette_score(distances.numpy(), labels.numpy(), metric='precomputed')\n",
    "        #s_array = silhouette_samples(distances.numpy(), labels.numpy(), metric='precomputed')\n",
    "        \n",
    "        s_score_original = silhouette_score(images.numpy(), labels.numpy())\n",
    "        s_score = silhouette_score(z.numpy(), labels.numpy())\n",
    "        s_array = silhouette_samples(z.numpy(), labels.numpy())\n",
    "        break\n",
    "\n",
    "s_array = [np.sort(s_array[indices[0]]), np.sort(s_array[indices[1]])]\n",
    "\n",
    "print(s_score)\n",
    "print(s_score_original)"
   ]
  },
  {
   "cell_type": "code",
   "execution_count": 20,
   "id": "5b470f18-8d87-4683-b20a-b2c8717f25a2",
   "metadata": {},
   "outputs": [
    {
     "data": {
      "image/png": "[encoded data removed]",
      "text/plain": [
       "<Figure size 640x480 with 1 Axes>"
      ]
     },
     "metadata": {},
     "output_type": "display_data"
    }
   ],
   "source": [
    "plt.scatter(z[indices[0],0], z[indices[0],1], color='blue', label=f'Digit {DIGITS[0]}')\n",
    "plt.scatter(z[indices[1],0], z[indices[1],1], color='red', label=f'Digit {DIGITS[1]}')\n",
    "\n",
    "plt.xlabel('z_1')\n",
    "plt.ylabel('z_2')\n",
    "\n",
    "plt.legend()\n",
    "\n",
    "filename = f'./Report/Images'\n",
    "if DENOISING:\n",
    "    filename += '/Denoising'\n",
    "if LINEAR:\n",
    "    filename += '/Linear'\n",
    "filename += f'/scatter{DIGITS[0]}-{DIGITS[1]}'\n",
    "if DENOISING:\n",
    "    filename += '_denoising'\n",
    "if LINEAR:\n",
    "    filename += '_pca'\n",
    "filename += '.png'\n",
    "plt.savefig(filename)\n",
    "\n",
    "plt.show()"
   ]
  },
  {
   "cell_type": "code",
   "execution_count": 21,
   "id": "94065c3a-61c4-4af1-8304-2b56c27520f7",
   "metadata": {},
   "outputs": [
    {
     "data": {
      "text/plain": [
       "<Figure size 800x800 with 0 Axes>"
      ]
     },
     "metadata": {},
     "output_type": "display_data"
    },
    {
     "data": {
      "image/png": "[encoded data removed]",
      "text/plain": [
       "<Figure size 640x480 with 2 Axes>"
      ]
     },
     "metadata": {},
     "output_type": "display_data"
    }
   ],
   "source": [
    "plt.figure(figsize=(8,8))\n",
    "figs, axis = plt.subplots(1,2)\n",
    "for i, s_arr in enumerate(s_array):\n",
    "    axis[i].barh(list(range(len(s_arr))), s_arr, color='lightslategrey', height=1)\n",
    "    axis[i].set_title(f'Digit {DIGITS[i]}')\n",
    "    axis[i].set_xlabel('Silhouette Score')\n",
    "    axis[i].set_ylabel('Sample index')\n",
    "    axis[i].set_xlim(-1,1)\n",
    "    if i==1:\n",
    "        axis[i].yaxis.tick_right()\n",
    "        axis[i].yaxis.set_label_position('right')\n",
    "        \n",
    "\n",
    "filename = f'./Report/Images'\n",
    "if DENOISING:\n",
    "    filename += '/Denoising'\n",
    "if LINEAR:\n",
    "    filename += '/Linear'\n",
    "filename += f'/s_score{DIGITS[0]}-{DIGITS[1]}'\n",
    "if DENOISING:\n",
    "    filename += '_denoising'\n",
    "if LINEAR:\n",
    "    filename += '_pca'\n",
    "filename += '.png'\n",
    "plt.savefig(filename)\n",
    "\n",
    "plt.show()"
   ]
  },
  {
   "cell_type": "code",
   "execution_count": null,
   "id": "4ec43117-39dd-4634-9a83-92c9c1f02a26",
   "metadata": {},
   "outputs": [],
   "source": []
  }
 ],
 "metadata": {
  "kernelspec": {
   "display_name": "Python 3 (ipykernel)",
   "language": "python",
   "name": "python3"
  },
  "language_info": {
   "codemirror_mode": {
    "name": "ipython",
    "version": 3
   },
   "file_extension": ".py",
   "mimetype": "text/x-python",
   "name": "python",
   "nbconvert_exporter": "python",
   "pygments_lexer": "ipython3",
   "version": "3.12.11"
  }
 },
 "nbformat": 4,
 "nbformat_minor": 5
}
