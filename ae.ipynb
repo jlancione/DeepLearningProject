{
 "cells": [
  {
   "cell_type": "markdown",
   "id": "7715c744-1538-4246-b55c-fcebf9d7e29d",
   "metadata": {},
   "source": [
    "# Variational AutoEncoder (VAE)"
   ]
  },
  {
   "cell_type": "code",
   "execution_count": 1,
   "id": "521ed264-5cfd-468a-a7c3-92d8b4c609e6",
   "metadata": {},
   "outputs": [],
   "source": [
    "# Bisogna testare tutto passo passo\n",
    "# Train Validation Test? Intendo, ci interessa la performance su dati Mai Visti?\n",
    "# Indagare #e loss e ottimizzatori\n",
    "# Il modo in cui hanno fatto l'autoencoder al tutorato NN ha prior sl latent space..."
   ]
  },
  {
   "cell_type": "code",
   "execution_count": 2,
   "id": "6d52a816-a225-44b8-b7e5-f0ea2e702229",
   "metadata": {},
   "outputs": [],
   "source": [
    "import torch\n",
    "from torch import nn\n",
    "from torch import optim\n",
    "\n",
    "import torchvision\n",
    "import torchvision.transforms as transforms\n",
    "\n",
    "import matplotlib.pyplot as plt"
   ]
  },
  {
   "cell_type": "markdown",
   "id": "03989ba0-5406-4ff2-b95d-d31bc4bb7fba",
   "metadata": {},
   "source": [
    "## Hyperparameters"
   ]
  },
  {
   "cell_type": "code",
   "execution_count": 3,
   "id": "50c24ad1-dcef-4758-a938-8856ebf8022b",
   "metadata": {},
   "outputs": [],
   "source": [
    "BATCH_SIZE = 16\n",
    "\n",
    "## Architecture parameters\n",
    "IMAGE_DIM = 28*28\n",
    "LATENT_DIM = 2\n",
    "HIDDEN_DIM = 256\n",
    "\n",
    "## Training setup\n",
    "LR = 1e-4\n",
    "WEIGHT_DECAY = 1e-6\n",
    "EPOCHS = 5"
   ]
  },
  {
   "cell_type": "markdown",
   "id": "b505f71b-f565-4f0f-8461-7532f29efe56",
   "metadata": {},
   "source": [
    "## Dataset download and setup"
   ]
  },
  {
   "cell_type": "code",
   "execution_count": 4,
   "id": "37425c3d-3b1a-4fee-804d-742fa486f609",
   "metadata": {},
   "outputs": [
    {
     "name": "stdout",
     "output_type": "stream",
     "text": [
      "cpu\n"
     ]
    }
   ],
   "source": [
    "# work on GPUs\n",
    "DEVICE = torch.device(\"cuda:0\" if torch.cuda.is_available() else \"cpu\")\n",
    "print(DEVICE)"
   ]
  },
  {
   "cell_type": "code",
   "execution_count": 5,
   "id": "26a34a70-af27-4864-80cf-02d5e9758dcd",
   "metadata": {},
   "outputs": [
    {
     "name": "stdout",
     "output_type": "stream",
     "text": [
      "51000\n",
      "9000\n",
      "10000\n"
     ]
    }
   ],
   "source": [
    "## Import Dataset (MNIST)\n",
    "transform = transforms.Compose([\n",
    "    transforms.ToTensor(),                             \n",
    "])\n",
    "\n",
    "train_val_data = torchvision.datasets.MNIST(root='./Data', train=True, download=True, transform=transform)\n",
    "test_data = torchvision.datasets.MNIST(root='./Data', train=False, download=True, transform=transform)\n",
    "\n",
    "frac = 0.85\n",
    "train_data, val_data = torch.utils.data.random_split(train_val_data, [frac, 1-frac], generator=torch.Generator().manual_seed(42))\n",
    "print(len(train_data))\n",
    "print(len(  val_data))\n",
    "print(len( test_data))"
   ]
  },
  {
   "cell_type": "code",
   "execution_count": 6,
   "id": "114f3771-16d0-468c-ae4e-553078d0793f",
   "metadata": {},
   "outputs": [],
   "source": [
    "## Reduce train set size\n",
    "# N_TRAIN = 10000\n",
    "# train_data.data, train_data.targets = train_data.data[:N_TRAIN], train_data.targets[:N_TRAIN]\n",
    "\n",
    "train_loader = torch.utils.data.DataLoader(train_data, batch_size=BATCH_SIZE,    shuffle=True)\n",
    "val_loader   = torch.utils.data.DataLoader(val_data,   batch_size=len(val_data), shuffle=False)\n",
    "test_loader  = torch.utils.data.DataLoader(test_data,  batch_size=len(test_data),shuffle=False)"
   ]
  },
  {
   "cell_type": "markdown",
   "id": "f345c179-3dce-47f1-a170-43ac5921f9fb",
   "metadata": {},
   "source": [
    "## Dataset visualization"
   ]
  },
  {
   "cell_type": "code",
   "execution_count": 7,
   "id": "b4334014-ce7e-4c89-b01f-d08c3f866c42",
   "metadata": {
    "scrolled": true
   },
   "outputs": [
    {
     "data": {
      "image/png": "[encoded data removed]",
      "text/plain": [
       "<Figure size 800x400 with 8 Axes>"
      ]
     },
     "metadata": {},
     "output_type": "display_data"
    },
    {
     "name": "stdout",
     "output_type": "stream",
     "text": [
      "tensor([[[0.0000, 0.0000, 0.0000, 0.0000, 0.0000, 0.0000, 0.0000, 0.0000,\n",
      "          0.0000, 0.0000, 0.0000, 0.0000, 0.0000, 0.0000, 0.0000, 0.0000,\n",
      "          0.0000, 0.0000, 0.0000, 0.0000, 0.0000, 0.0000, 0.0000, 0.0000,\n",
      "          0.0000, 0.0000, 0.0000, 0.0000],\n",
      "         [0.0000, 0.0000, 0.0000, 0.0000, 0.0000, 0.0000, 0.0000, 0.0000,\n",
      "          0.0000, 0.0000, 0.0000, 0.0000, 0.0000, 0.0000, 0.0000, 0.0000,\n",
      "          0.0000, 0.0000, 0.0000, 0.0000, 0.0000, 0.0000, 0.0000, 0.0000,\n",
      "          0.0000, 0.0000, 0.0000, 0.0000],\n",
      "         [0.0000, 0.0000, 0.0000, 0.0000, 0.0000, 0.0000, 0.0000, 0.0000,\n",
      "          0.0000, 0.0000, 0.0000, 0.0000, 0.0000, 0.0000, 0.0000, 0.0000,\n",
      "          0.0000, 0.0000, 0.0000, 0.0000, 0.0000, 0.0000, 0.0000, 0.0000,\n",
      "          0.0000, 0.0000, 0.0000, 0.0000],\n",
      "         [0.0000, 0.0000, 0.0000, 0.0000, 0.0000, 0.0000, 0.0000, 0.0000,\n",
      "          0.0000, 0.0000, 0.0000, 0.0000, 0.0000, 0.0000, 0.0000, 0.0000,\n",
      "          0.0000, 0.0000, 0.0000, 0.0000, 0.0000, 0.0000, 0.0000, 0.0000,\n",
      "          0.0000, 0.0000, 0.0000, 0.0000],\n",
      "         [0.0000, 0.0000, 0.0000, 0.0000, 0.0000, 0.0000, 0.0000, 0.0000,\n",
      "          0.0000, 0.0000, 0.0000, 0.0000, 0.0000, 0.0000, 0.0000, 0.0000,\n",
      "          0.0000, 0.0000, 0.0000, 0.0000, 0.0000, 0.0000, 0.0000, 0.0000,\n",
      "          0.0000, 0.0000, 0.0000, 0.0000],\n",
      "         [0.0000, 0.0000, 0.0000, 0.0000, 0.0000, 0.0000, 0.0000, 0.0000,\n",
      "          0.0000, 0.0000, 0.0000, 0.0000, 0.0000, 0.0000, 0.0000, 0.0000,\n",
      "          0.0000, 0.0000, 0.0000, 0.0000, 0.0000, 0.0000, 0.0000, 0.0000,\n",
      "          0.0000, 0.0000, 0.0000, 0.0000],\n",
      "         [0.0000, 0.0000, 0.0000, 0.0000, 0.0000, 0.0000, 0.0000, 0.0000,\n",
      "          0.0000, 0.0000, 0.0000, 0.0000, 0.0000, 0.0000, 0.3137, 0.6392,\n",
      "          0.9725, 0.9961, 0.5843, 0.0000, 0.0000, 0.0000, 0.0000, 0.0000,\n",
      "          0.0000, 0.0000, 0.0000, 0.0000],\n",
      "         [0.0000, 0.0000, 0.0000, 0.0000, 0.0000, 0.0000, 0.0000, 0.0000,\n",
      "          0.0000, 0.0000, 0.0000, 0.0196, 0.4078, 0.7373, 0.9961, 0.9922,\n",
      "          0.7333, 0.9647, 0.9843, 0.1647, 0.0000, 0.0000, 0.0000, 0.0000,\n",
      "          0.0000, 0.0000, 0.0000, 0.0000],\n",
      "         [0.0000, 0.0000, 0.0000, 0.0000, 0.0000, 0.0000, 0.0000, 0.0000,\n",
      "          0.0000, 0.1647, 0.7373, 0.9294, 0.9922, 0.9098, 0.3059, 0.0667,\n",
      "          0.0078, 0.8902, 0.9922, 0.1686, 0.0000, 0.0000, 0.0000, 0.0000,\n",
      "          0.0000, 0.0000, 0.0000, 0.0000],\n",
      "         [0.0000, 0.0000, 0.0000, 0.0000, 0.0000, 0.0000, 0.0000, 0.0000,\n",
      "          0.0980, 0.8824, 0.9686, 0.6431, 0.1961, 0.1843, 0.0000, 0.0000,\n",
      "          0.0000, 0.8902, 0.9569, 0.1373, 0.0000, 0.0000, 0.0000, 0.0000,\n",
      "          0.0000, 0.0000, 0.0000, 0.0000],\n",
      "         [0.0000, 0.0000, 0.0000, 0.0000, 0.0000, 0.0000, 0.0000, 0.0000,\n",
      "          0.0235, 0.5843, 0.5020, 0.0000, 0.0000, 0.0000, 0.0000, 0.0000,\n",
      "          0.0431, 0.9098, 0.7608, 0.0000, 0.0000, 0.0000, 0.0000, 0.0000,\n",
      "          0.0000, 0.0000, 0.0000, 0.0000],\n",
      "         [0.0000, 0.0000, 0.0000, 0.0000, 0.0000, 0.0000, 0.0000, 0.0000,\n",
      "          0.0000, 0.0000, 0.0000, 0.0000, 0.0000, 0.0000, 0.0000, 0.0000,\n",
      "          0.4078, 0.9922, 0.3137, 0.0000, 0.0000, 0.0000, 0.0000, 0.0000,\n",
      "          0.0000, 0.0000, 0.0000, 0.0000],\n",
      "         [0.0000, 0.0000, 0.0000, 0.0000, 0.0000, 0.0000, 0.0000, 0.0000,\n",
      "          0.0000, 0.0000, 0.0000, 0.0000, 0.0000, 0.0000, 0.0000, 0.0000,\n",
      "          0.8549, 0.9686, 0.1216, 0.0000, 0.0000, 0.0000, 0.0000, 0.0000,\n",
      "          0.0000, 0.0000, 0.0000, 0.0000],\n",
      "         [0.0000, 0.0000, 0.0000, 0.0000, 0.0000, 0.0000, 0.0000, 0.0000,\n",
      "          0.0000, 0.0000, 0.0000, 0.0000, 0.0000, 0.0000, 0.0000, 0.2353,\n",
      "          0.9765, 0.6196, 0.0000, 0.0000, 0.0000, 0.0000, 0.0000, 0.0000,\n",
      "          0.0000, 0.0000, 0.0000, 0.0000],\n",
      "         [0.0000, 0.0000, 0.0000, 0.0000, 0.0000, 0.0000, 0.0000, 0.0000,\n",
      "          0.0000, 0.0000, 0.0000, 0.0000, 0.0000, 0.0000, 0.0000, 0.8667,\n",
      "          0.9843, 0.0980, 0.0000, 0.0000, 0.0000, 0.0000, 0.0000, 0.0000,\n",
      "          0.0000, 0.0000, 0.0000, 0.0000],\n",
      "         [0.0000, 0.0000, 0.0000, 0.0000, 0.0000, 0.0000, 0.0000, 0.0000,\n",
      "          0.0000, 0.0000, 0.0000, 0.0000, 0.0000, 0.0000, 0.3333, 0.9804,\n",
      "          0.6314, 0.0000, 0.0000, 0.0000, 0.0000, 0.0000, 0.0000, 0.0000,\n",
      "          0.0000, 0.0000, 0.0000, 0.0000],\n",
      "         [0.0000, 0.0000, 0.0000, 0.0000, 0.0000, 0.0000, 0.0000, 0.0000,\n",
      "          0.0000, 0.0000, 0.0000, 0.0000, 0.0000, 0.0000, 1.0000, 0.9098,\n",
      "          0.0471, 0.0000, 0.0000, 0.0000, 0.0000, 0.0000, 0.0000, 0.0000,\n",
      "          0.0000, 0.0000, 0.0000, 0.0000],\n",
      "         [0.0000, 0.0000, 0.0000, 0.0000, 0.0000, 0.0000, 0.0000, 0.0000,\n",
      "          0.0000, 0.0000, 0.0000, 0.0000, 0.0118, 0.6314, 0.9961, 0.4118,\n",
      "          0.0000, 0.0000, 0.0000, 0.0000, 0.0000, 0.0000, 0.0000, 0.0000,\n",
      "          0.0000, 0.0000, 0.0000, 0.0000],\n",
      "         [0.0000, 0.0000, 0.0000, 0.0000, 0.0000, 0.0000, 0.0000, 0.0000,\n",
      "          0.0000, 0.0000, 0.0000, 0.0000, 0.3216, 0.9922, 0.7294, 0.0157,\n",
      "          0.0000, 0.0000, 0.0000, 0.0000, 0.0000, 0.0000, 0.0000, 0.0000,\n",
      "          0.0000, 0.0000, 0.0000, 0.0000],\n",
      "         [0.0000, 0.0000, 0.0000, 0.0000, 0.0000, 0.0000, 0.0000, 0.0000,\n",
      "          0.0000, 0.0000, 0.0000, 0.1333, 0.9647, 0.9216, 0.0353, 0.0000,\n",
      "          0.0000, 0.0000, 0.0000, 0.0000, 0.0000, 0.0000, 0.0000, 0.0000,\n",
      "          0.0000, 0.0000, 0.0000, 0.0000],\n",
      "         [0.0000, 0.0000, 0.0000, 0.0000, 0.0000, 0.0000, 0.0000, 0.0000,\n",
      "          0.0000, 0.0000, 0.0549, 0.7137, 0.9843, 0.4196, 0.0000, 0.0000,\n",
      "          0.0000, 0.0000, 0.0000, 0.0000, 0.0000, 0.0000, 0.0000, 0.0000,\n",
      "          0.0000, 0.0000, 0.0000, 0.0000],\n",
      "         [0.0000, 0.0000, 0.0000, 0.0000, 0.0000, 0.0000, 0.0000, 0.0000,\n",
      "          0.0000, 0.0000, 0.1529, 0.9922, 0.7412, 0.0000, 0.0000, 0.0000,\n",
      "          0.0000, 0.0000, 0.0000, 0.0000, 0.0000, 0.0000, 0.0000, 0.0000,\n",
      "          0.0000, 0.0000, 0.0000, 0.0000],\n",
      "         [0.0000, 0.0000, 0.0000, 0.0000, 0.0000, 0.0000, 0.0000, 0.0000,\n",
      "          0.0000, 0.0627, 0.8078, 0.9608, 0.1529, 0.0000, 0.0000, 0.0000,\n",
      "          0.0000, 0.0000, 0.0000, 0.0000, 0.0000, 0.0000, 0.0000, 0.0000,\n",
      "          0.0000, 0.0000, 0.0000, 0.0000],\n",
      "         [0.0000, 0.0000, 0.0000, 0.0000, 0.0000, 0.0000, 0.0000, 0.0000,\n",
      "          0.0157, 0.5529, 0.9922, 0.7569, 0.0000, 0.0000, 0.0000, 0.0000,\n",
      "          0.0000, 0.0000, 0.0000, 0.0000, 0.0000, 0.0000, 0.0000, 0.0000,\n",
      "          0.0000, 0.0000, 0.0000, 0.0000],\n",
      "         [0.0000, 0.0000, 0.0000, 0.0000, 0.0000, 0.0000, 0.0000, 0.0000,\n",
      "          0.3059, 0.9922, 0.9059, 0.0667, 0.0000, 0.0000, 0.0000, 0.0000,\n",
      "          0.0000, 0.0000, 0.0000, 0.0000, 0.0000, 0.0000, 0.0000, 0.0000,\n",
      "          0.0000, 0.0000, 0.0000, 0.0000],\n",
      "         [0.0000, 0.0000, 0.0000, 0.0000, 0.0000, 0.0000, 0.0000, 0.0000,\n",
      "          0.2784, 0.9451, 0.3608, 0.0000, 0.0000, 0.0000, 0.0000, 0.0000,\n",
      "          0.0000, 0.0000, 0.0000, 0.0000, 0.0000, 0.0000, 0.0000, 0.0000,\n",
      "          0.0000, 0.0000, 0.0000, 0.0000],\n",
      "         [0.0000, 0.0000, 0.0000, 0.0000, 0.0000, 0.0000, 0.0000, 0.0000,\n",
      "          0.0000, 0.0000, 0.0000, 0.0000, 0.0000, 0.0000, 0.0000, 0.0000,\n",
      "          0.0000, 0.0000, 0.0000, 0.0000, 0.0000, 0.0000, 0.0000, 0.0000,\n",
      "          0.0000, 0.0000, 0.0000, 0.0000],\n",
      "         [0.0000, 0.0000, 0.0000, 0.0000, 0.0000, 0.0000, 0.0000, 0.0000,\n",
      "          0.0000, 0.0000, 0.0000, 0.0000, 0.0000, 0.0000, 0.0000, 0.0000,\n",
      "          0.0000, 0.0000, 0.0000, 0.0000, 0.0000, 0.0000, 0.0000, 0.0000,\n",
      "          0.0000, 0.0000, 0.0000, 0.0000]]])\n"
     ]
    }
   ],
   "source": [
    "## Plotting utility\n",
    "def plot_images(images, title):\n",
    "    plt.figure(figsize=(8, 4)) # they're inches...\n",
    "    for i in range(8):\n",
    "        plt.subplot(2, 4, i + 1)\n",
    "        plt.imshow(images[i].cpu().squeeze().numpy(), cmap='gray')\n",
    "        plt.axis('off')\n",
    "    plt.suptitle(title, y=1.05)\n",
    "    plt.tight_layout()\n",
    "\n",
    "\n",
    "## Visualize sample from dataset\n",
    "with torch.no_grad():\n",
    "    idx, (images, _) = next(enumerate(train_loader))\n",
    "\n",
    "plot_images(images, title=\"Original Images\")\n",
    "plt.show()\n",
    "print(images[0]) # grey scale in [0,1]"
   ]
  },
  {
   "cell_type": "markdown",
   "id": "633ef9f7-7fa8-4566-8bec-f4091f261838",
   "metadata": {},
   "source": [
    "## Model and Training"
   ]
  },
  {
   "cell_type": "code",
   "execution_count": 8,
   "id": "1e158d3e-88a4-4474-ad82-36312728071a",
   "metadata": {},
   "outputs": [],
   "source": [
    "## Build model\n",
    "class AE(nn.Module):\n",
    "    def __init__(self, input_dim, out_dim, latent_dim, hidden_dim=200):\n",
    "        super().__init__()\n",
    "\n",
    "        self.latent_dim = latent_dim\n",
    "        \n",
    "        ## Utilities\n",
    "        self.flatten = nn.Flatten(1,3)\n",
    "        self.activation = nn.ReLU()\n",
    "\n",
    "        ## Encoder\n",
    "        self.input2encoder_hid = nn.Linear(input_dim, hidden_dim)\n",
    "        self.encoder_hid2latent = nn.Linear(hidden_dim, latent_dim)\n",
    "        \n",
    "        ## Decoder\n",
    "        self.latent2decoder_hid = nn.Linear(latent_dim, hidden_dim)\n",
    "        self.decoder_hid2sigm = nn.Linear(hidden_dim, out_dim)\n",
    "\n",
    "        ## Out\n",
    "        self.sigmoid = nn.Sigmoid()\n",
    "        self.unflatten = nn.Unflatten(1, (1, 28, 28)) ## qua è rimasto 28...\n",
    "\n",
    "    def encode(self, x):\n",
    "        x = self.flatten(x)\n",
    "        x = self.input2encoder_hid(x)\n",
    "        x = self.activation(x)\n",
    "        \n",
    "        z = self.encoder_hid2latent(x)\n",
    "        \n",
    "        ## DEBUG\n",
    "        # print(latent_param.size())\n",
    "        # print(latent_param)\n",
    "        \n",
    "        return z\n",
    "\n",
    "    def decode(self, z):\n",
    "        ## Decode\n",
    "        z = self.latent2decoder_hid(z)\n",
    "        z = self.activation(z)\n",
    "        z = self.decoder_hid2sigm(z)\n",
    "        x_gen = self.sigmoid(z)\n",
    "        x_gen = self.unflatten(x_gen)\n",
    "\n",
    "        return x_gen\n",
    "\n",
    "    def forward(self, x):\n",
    "        z     = self.encode(x)\n",
    "        x_gen = self.decode(z)\n",
    "\n",
    "        return x_gen, z "
   ]
  },
  {
   "cell_type": "code",
   "execution_count": 9,
   "id": "69b30cdc-b304-4b07-ae4f-392bfc5290b8",
   "metadata": {},
   "outputs": [],
   "source": [
    "## Loss definition\n",
    "loss = nn.MSELoss()\n",
    "def lossL1(x, x_gen, z, lambd):\n",
    "    criterion = nn.MSELoss()\n",
    "    mse = criterion(x, x_gen)\n",
    "    L1 = torch.sum(torch.abs(z))\n",
    "    \n",
    "    return mse + lambd*L1\n",
    "\n",
    "def lossKL(x, x_gen, z, rho):\n",
    "    criterion = nn.MSELoss()\n",
    "    mse = criterion(x, x_gen)\n",
    "    criterion_reg = nn.BCELoss() # corresponds to Dkl\n",
    "    # Compute average (over minibatch) activation\n",
    "    rho_hat = torch.mean(z, axis=0)\n",
    "    Dkl = criterion_reg(rho*torch.ones_like(rho_hat), rho_hat)\n",
    "\n",
    "    # volendo possiamo mettere 1 altro hyperparam a controllare il peso relativo...\n",
    "    return mse + Dkl"
   ]
  },
  {
   "cell_type": "code",
   "execution_count": 10,
   "id": "96da6d1b-f863-4675-b352-7a4113f8dfcd",
   "metadata": {},
   "outputs": [
    {
     "data": {
      "text/plain": [
       "tensor(4.6667)"
      ]
     },
     "execution_count": 10,
     "metadata": {},
     "output_type": "execute_result"
    }
   ],
   "source": [
    "a = torch.Tensor([1,2,-3])\n",
    "b = torch.Tensor(1)\n",
    "criterion = nn.MSELoss()\n",
    "criterion(a,b*torch.ones_like(a))\n",
    "# torch.sum(torch.abs(a))"
   ]
  },
  {
   "cell_type": "code",
   "execution_count": 11,
   "id": "542eb16d-ce4a-449f-9024-3df5fedfd529",
   "metadata": {},
   "outputs": [
    {
     "data": {
      "text/plain": [
       "tensor([1.5000, 2.5000, 3.5000])"
      ]
     },
     "execution_count": 11,
     "metadata": {},
     "output_type": "execute_result"
    }
   ],
   "source": [
    "a = torch.Tensor([[1,2,3],\n",
    "                  [2,3,4]])\n",
    "a.mean(axis=0)"
   ]
  },
  {
   "cell_type": "code",
   "execution_count": 12,
   "id": "73ac0583-4bd4-4c10-a4a9-c5097635b820",
   "metadata": {},
   "outputs": [],
   "source": [
    "model = AE(IMAGE_DIM, IMAGE_DIM, LATENT_DIM)\n",
    "model = model.to(DEVICE)\n",
    "\n",
    "## Optimizer choice\n",
    "optimizer = optim.Adam(model.parameters(),\n",
    "                      lr = LR,\n",
    "                      weight_decay=WEIGHT_DECAY)\n",
    "\n",
    "## Model summary\n",
    "# print(model.parameters)"
   ]
  },
  {
   "cell_type": "markdown",
   "id": "cbbe99c7-62cc-4961-9695-69d9c5f17fd3",
   "metadata": {},
   "source": [
    "### Training"
   ]
  },
  {
   "cell_type": "code",
   "execution_count": 13,
   "id": "a153ad0e-fa43-44b1-96a7-86641d6bd736",
   "metadata": {},
   "outputs": [
    {
     "ename": "RuntimeError",
     "evalue": "all elements of target should be between 0 and 1",
     "output_type": "error",
     "traceback": [
      "\u001b[0;31m---------------------------------------------------------------------------\u001b[0m",
      "\u001b[0;31mRuntimeError\u001b[0m                              Traceback (most recent call last)",
      "Cell \u001b[0;32mIn[13], line 15\u001b[0m\n\u001b[1;32m     13\u001b[0m x_gen, z \u001b[38;5;241m=\u001b[39m model(x_train) \u001b[38;5;66;03m# in qlche modo qua sa che deve andare a prendere .forward()\u001b[39;00m\n\u001b[1;32m     14\u001b[0m \u001b[38;5;66;03m# computed_loss = lossL1(x_gen, x_train, z, LAMBDA)\u001b[39;00m\n\u001b[0;32m---> 15\u001b[0m computed_loss \u001b[38;5;241m=\u001b[39m \u001b[43mlossKL\u001b[49m\u001b[43m(\u001b[49m\u001b[43mx_gen\u001b[49m\u001b[43m,\u001b[49m\u001b[43m \u001b[49m\u001b[43mx_train\u001b[49m\u001b[43m,\u001b[49m\u001b[43m \u001b[49m\u001b[43mz\u001b[49m\u001b[43m,\u001b[49m\u001b[43m \u001b[49m\u001b[43mRHO\u001b[49m\u001b[43m)\u001b[49m\n\u001b[1;32m     16\u001b[0m \u001b[38;5;66;03m# computed_loss = loss(x_gen, x_train)\u001b[39;00m\n\u001b[1;32m     17\u001b[0m loss_epoch \u001b[38;5;241m+\u001b[39m\u001b[38;5;241m=\u001b[39m computed_loss\u001b[38;5;241m.\u001b[39mdetach()\n",
      "Cell \u001b[0;32mIn[9], line 16\u001b[0m, in \u001b[0;36mlossKL\u001b[0;34m(x, x_gen, z, rho)\u001b[0m\n\u001b[1;32m     14\u001b[0m \u001b[38;5;66;03m# Compute average (over minibatch) activation\u001b[39;00m\n\u001b[1;32m     15\u001b[0m rho_hat \u001b[38;5;241m=\u001b[39m torch\u001b[38;5;241m.\u001b[39mmean(z, axis\u001b[38;5;241m=\u001b[39m\u001b[38;5;241m0\u001b[39m)\n\u001b[0;32m---> 16\u001b[0m Dkl \u001b[38;5;241m=\u001b[39m \u001b[43mcriterion_reg\u001b[49m\u001b[43m(\u001b[49m\u001b[43mrho\u001b[49m\u001b[38;5;241;43m*\u001b[39;49m\u001b[43mtorch\u001b[49m\u001b[38;5;241;43m.\u001b[39;49m\u001b[43mones_like\u001b[49m\u001b[43m(\u001b[49m\u001b[43mrho_hat\u001b[49m\u001b[43m)\u001b[49m\u001b[43m,\u001b[49m\u001b[43m \u001b[49m\u001b[43mrho_hat\u001b[49m\u001b[43m)\u001b[49m\n\u001b[1;32m     18\u001b[0m \u001b[38;5;66;03m# volendo possiamo mettere 1 altro hyperparam a controllare il peso relativo...\u001b[39;00m\n\u001b[1;32m     19\u001b[0m \u001b[38;5;28;01mreturn\u001b[39;00m mse \u001b[38;5;241m+\u001b[39m Dkl\n",
      "File \u001b[0;32m~/Pyvenv/lib/python3.12/site-packages/torch/nn/modules/module.py:1751\u001b[0m, in \u001b[0;36mModule._wrapped_call_impl\u001b[0;34m(self, *args, **kwargs)\u001b[0m\n\u001b[1;32m   1749\u001b[0m     \u001b[38;5;28;01mreturn\u001b[39;00m \u001b[38;5;28mself\u001b[39m\u001b[38;5;241m.\u001b[39m_compiled_call_impl(\u001b[38;5;241m*\u001b[39margs, \u001b[38;5;241m*\u001b[39m\u001b[38;5;241m*\u001b[39mkwargs)  \u001b[38;5;66;03m# type: ignore[misc]\u001b[39;00m\n\u001b[1;32m   1750\u001b[0m \u001b[38;5;28;01melse\u001b[39;00m:\n\u001b[0;32m-> 1751\u001b[0m     \u001b[38;5;28;01mreturn\u001b[39;00m \u001b[38;5;28;43mself\u001b[39;49m\u001b[38;5;241;43m.\u001b[39;49m\u001b[43m_call_impl\u001b[49m\u001b[43m(\u001b[49m\u001b[38;5;241;43m*\u001b[39;49m\u001b[43margs\u001b[49m\u001b[43m,\u001b[49m\u001b[43m \u001b[49m\u001b[38;5;241;43m*\u001b[39;49m\u001b[38;5;241;43m*\u001b[39;49m\u001b[43mkwargs\u001b[49m\u001b[43m)\u001b[49m\n",
      "File \u001b[0;32m~/Pyvenv/lib/python3.12/site-packages/torch/nn/modules/module.py:1762\u001b[0m, in \u001b[0;36mModule._call_impl\u001b[0;34m(self, *args, **kwargs)\u001b[0m\n\u001b[1;32m   1757\u001b[0m \u001b[38;5;66;03m# If we don't have any hooks, we want to skip the rest of the logic in\u001b[39;00m\n\u001b[1;32m   1758\u001b[0m \u001b[38;5;66;03m# this function, and just call forward.\u001b[39;00m\n\u001b[1;32m   1759\u001b[0m \u001b[38;5;28;01mif\u001b[39;00m \u001b[38;5;129;01mnot\u001b[39;00m (\u001b[38;5;28mself\u001b[39m\u001b[38;5;241m.\u001b[39m_backward_hooks \u001b[38;5;129;01mor\u001b[39;00m \u001b[38;5;28mself\u001b[39m\u001b[38;5;241m.\u001b[39m_backward_pre_hooks \u001b[38;5;129;01mor\u001b[39;00m \u001b[38;5;28mself\u001b[39m\u001b[38;5;241m.\u001b[39m_forward_hooks \u001b[38;5;129;01mor\u001b[39;00m \u001b[38;5;28mself\u001b[39m\u001b[38;5;241m.\u001b[39m_forward_pre_hooks\n\u001b[1;32m   1760\u001b[0m         \u001b[38;5;129;01mor\u001b[39;00m _global_backward_pre_hooks \u001b[38;5;129;01mor\u001b[39;00m _global_backward_hooks\n\u001b[1;32m   1761\u001b[0m         \u001b[38;5;129;01mor\u001b[39;00m _global_forward_hooks \u001b[38;5;129;01mor\u001b[39;00m _global_forward_pre_hooks):\n\u001b[0;32m-> 1762\u001b[0m     \u001b[38;5;28;01mreturn\u001b[39;00m \u001b[43mforward_call\u001b[49m\u001b[43m(\u001b[49m\u001b[38;5;241;43m*\u001b[39;49m\u001b[43margs\u001b[49m\u001b[43m,\u001b[49m\u001b[43m \u001b[49m\u001b[38;5;241;43m*\u001b[39;49m\u001b[38;5;241;43m*\u001b[39;49m\u001b[43mkwargs\u001b[49m\u001b[43m)\u001b[49m\n\u001b[1;32m   1764\u001b[0m result \u001b[38;5;241m=\u001b[39m \u001b[38;5;28;01mNone\u001b[39;00m\n\u001b[1;32m   1765\u001b[0m called_always_called_hooks \u001b[38;5;241m=\u001b[39m \u001b[38;5;28mset\u001b[39m()\n",
      "File \u001b[0;32m~/Pyvenv/lib/python3.12/site-packages/torch/nn/modules/loss.py:699\u001b[0m, in \u001b[0;36mBCELoss.forward\u001b[0;34m(self, input, target)\u001b[0m\n\u001b[1;32m    698\u001b[0m \u001b[38;5;28;01mdef\u001b[39;00m \u001b[38;5;21mforward\u001b[39m(\u001b[38;5;28mself\u001b[39m, \u001b[38;5;28minput\u001b[39m: Tensor, target: Tensor) \u001b[38;5;241m-\u001b[39m\u001b[38;5;241m>\u001b[39m Tensor:\n\u001b[0;32m--> 699\u001b[0m     \u001b[38;5;28;01mreturn\u001b[39;00m \u001b[43mF\u001b[49m\u001b[38;5;241;43m.\u001b[39;49m\u001b[43mbinary_cross_entropy\u001b[49m\u001b[43m(\u001b[49m\n\u001b[1;32m    700\u001b[0m \u001b[43m        \u001b[49m\u001b[38;5;28;43minput\u001b[39;49m\u001b[43m,\u001b[49m\u001b[43m \u001b[49m\u001b[43mtarget\u001b[49m\u001b[43m,\u001b[49m\u001b[43m \u001b[49m\u001b[43mweight\u001b[49m\u001b[38;5;241;43m=\u001b[39;49m\u001b[38;5;28;43mself\u001b[39;49m\u001b[38;5;241;43m.\u001b[39;49m\u001b[43mweight\u001b[49m\u001b[43m,\u001b[49m\u001b[43m \u001b[49m\u001b[43mreduction\u001b[49m\u001b[38;5;241;43m=\u001b[39;49m\u001b[38;5;28;43mself\u001b[39;49m\u001b[38;5;241;43m.\u001b[39;49m\u001b[43mreduction\u001b[49m\n\u001b[1;32m    701\u001b[0m \u001b[43m    \u001b[49m\u001b[43m)\u001b[49m\n",
      "File \u001b[0;32m~/Pyvenv/lib/python3.12/site-packages/torch/nn/functional.py:3569\u001b[0m, in \u001b[0;36mbinary_cross_entropy\u001b[0;34m(input, target, weight, size_average, reduce, reduction)\u001b[0m\n\u001b[1;32m   3566\u001b[0m     new_size \u001b[38;5;241m=\u001b[39m _infer_size(target\u001b[38;5;241m.\u001b[39msize(), weight\u001b[38;5;241m.\u001b[39msize())\n\u001b[1;32m   3567\u001b[0m     weight \u001b[38;5;241m=\u001b[39m weight\u001b[38;5;241m.\u001b[39mexpand(new_size)\n\u001b[0;32m-> 3569\u001b[0m \u001b[38;5;28;01mreturn\u001b[39;00m \u001b[43mtorch\u001b[49m\u001b[38;5;241;43m.\u001b[39;49m\u001b[43m_C\u001b[49m\u001b[38;5;241;43m.\u001b[39;49m\u001b[43m_nn\u001b[49m\u001b[38;5;241;43m.\u001b[39;49m\u001b[43mbinary_cross_entropy\u001b[49m\u001b[43m(\u001b[49m\u001b[38;5;28;43minput\u001b[39;49m\u001b[43m,\u001b[49m\u001b[43m \u001b[49m\u001b[43mtarget\u001b[49m\u001b[43m,\u001b[49m\u001b[43m \u001b[49m\u001b[43mweight\u001b[49m\u001b[43m,\u001b[49m\u001b[43m \u001b[49m\u001b[43mreduction_enum\u001b[49m\u001b[43m)\u001b[49m\n",
      "\u001b[0;31mRuntimeError\u001b[0m: all elements of target should be between 0 and 1"
     ]
    }
   ],
   "source": [
    "LAMBDA = .02\n",
    "RHO = .02\n",
    "\n",
    "# train loop\n",
    "loss_train = []\n",
    "loss_val   = []\n",
    "\n",
    "for epoch in range(EPOCHS):\n",
    "    loss_epoch = 0.0\n",
    "    for x_train, _ in train_loader:\n",
    "        x_train = x_train.to(DEVICE)\n",
    "        \n",
    "        x_gen, z = model(x_train) # in qlche modo qua sa che deve andare a prendere .forward()\n",
    "        # computed_loss = lossL1(x_gen, x_train, z, LAMBDA)\n",
    "        computed_loss = lossKL(x_gen, x_train, z, RHO)\n",
    "        # computed_loss = loss(x_gen, x_train)\n",
    "        loss_epoch += computed_loss.detach()\n",
    "        \n",
    "        optimizer.zero_grad()\n",
    "        computed_loss.backward()\n",
    "        optimizer.step()\n",
    "\n",
    "    ## Loss record\n",
    "    loss_epoch /= len(train_loader)\n",
    "    loss_train.append(loss_epoch)\n",
    "\n",
    "    with torch.no_grad():\n",
    "        for x_val, _ in val_loader:\n",
    "            x_val = x_val.to(DEVICE)\n",
    "            \n",
    "            x_gen_val, z = model(x_val)\n",
    "            # val_computed_loss = lossL1(x_gen_val, x_val, z, LAMBDA)\n",
    "            val_computed_loss = lossKL(x_gen_val, x_val, z, RHO)\n",
    "            # val_computed_loss = loss(x_gen_val, x_val)\n",
    "            loss_val.append(val_computed_loss.detach())\n",
    "            \n",
    "    print(f\"Epoch: {epoch+1:2.0f} -- Loss = {loss_epoch:.5f} -- Val loss = {val_computed_loss:.5f}\")"
   ]
  },
  {
   "cell_type": "markdown",
   "id": "50b01afa-373b-406e-b963-8eb72e36aa43",
   "metadata": {},
   "source": [
    "### Visualization"
   ]
  },
  {
   "cell_type": "code",
   "execution_count": 14,
   "id": "b5955dd6-e8e1-4325-9c2a-e6ee083eaac9",
   "metadata": {},
   "outputs": [
    {
     "data": {
      "image/png": "[encoded data removed]",
      "text/plain": [
       "<Figure size 640x480 with 1 Axes>"
      ]
     },
     "metadata": {},
     "output_type": "display_data"
    }
   ],
   "source": [
    "## Train and validation loss curves\n",
    "plt.plot(loss_train, label = \"Train\")\n",
    "plt.plot(loss_val  , label = \"Validation\")\n",
    "\n",
    "plt.xlabel(\"Epochs\")\n",
    "plt.ylabel(\"Loss\")\n",
    "\n",
    "plt.legend()\n",
    "\n",
    "plt.show()"
   ]
  },
  {
   "cell_type": "code",
   "execution_count": 15,
   "id": "8067b26d-18c9-4871-b511-1ccf27cfbac3",
   "metadata": {},
   "outputs": [],
   "source": [
    "image_iterator = enumerate(train_loader)"
   ]
  },
  {
   "cell_type": "code",
   "execution_count": 16,
   "id": "0d507bd3-f1e2-4a41-98b1-0016dc2d7f1f",
   "metadata": {},
   "outputs": [
    {
     "data": {
      "image/png": "[encoded data removed]",
      "text/plain": [
       "<Figure size 800x400 with 8 Axes>"
      ]
     },
     "metadata": {},
     "output_type": "display_data"
    },
    {
     "data": {
      "image/png": "[encoded data removed]",
      "text/plain": [
       "<Figure size 800x400 with 8 Axes>"
      ]
     },
     "metadata": {},
     "output_type": "display_data"
    }
   ],
   "source": [
    "## Compare actual figures\n",
    "with torch.no_grad():\n",
    "    idx, (images, _) = next(image_iterator)\n",
    "    images_gen, z = model(images)\n",
    "    \n",
    "\n",
    "plot_images(images, title=\"Original Images\")\n",
    "plot_images(images_gen, title=\"Generated Images\")\n",
    "plt.show()"
   ]
  },
  {
   "cell_type": "code",
   "execution_count": 17,
   "id": "9812d948-ec18-4e53-8935-b640b33743c8",
   "metadata": {},
   "outputs": [],
   "source": [
    "## Sample from latent space\n",
    "## Generate"
   ]
  }
 ],
 "metadata": {
  "kernelspec": {
   "display_name": "Python 3 (ipykernel)",
   "language": "python",
   "name": "python3"
  },
  "language_info": {
   "codemirror_mode": {
    "name": "ipython",
    "version": 3
   },
   "file_extension": ".py",
   "mimetype": "text/x-python",
   "name": "python",
   "nbconvert_exporter": "python",
   "pygments_lexer": "ipython3",
   "version": "3.12.11"
  }
 },
 "nbformat": 4,
 "nbformat_minor": 5
}
