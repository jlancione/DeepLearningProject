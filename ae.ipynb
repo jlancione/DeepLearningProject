{
 "cells": [
  {
   "cell_type": "markdown",
   "id": "7715c744-1538-4246-b55c-fcebf9d7e29d",
   "metadata": {},
   "source": [
    "# AutoEncoder (AE)"
   ]
  },
  {
   "cell_type": "code",
   "execution_count": 1,
   "id": "6d52a816-a225-44b8-b7e5-f0ea2e702229",
   "metadata": {},
   "outputs": [],
   "source": [
    "import torch\n",
    "from torch import nn\n",
    "from torch import optim\n",
    "\n",
    "import torchvision\n",
    "import torchvision.transforms as transforms\n",
    "\n",
    "import matplotlib.pyplot as plt"
   ]
  },
  {
   "cell_type": "markdown",
   "id": "03989ba0-5406-4ff2-b95d-d31bc4bb7fba",
   "metadata": {},
   "source": [
    "## Hyperparameters"
   ]
  },
  {
   "cell_type": "code",
   "execution_count": 2,
   "id": "50c24ad1-dcef-4758-a938-8856ebf8022b",
   "metadata": {},
   "outputs": [],
   "source": [
    "BATCH_SIZE = 8\n",
    "\n",
    "DENOISING = False\n",
    "\n",
    "## Architecture parameters\n",
    "IMAGE_DIM = 28*28\n",
    "LATENT_DIM = 2\n",
    "HIDDEN_DIM = [2]\n",
    "TIED_WEIGHTS = False\n",
    "LINEAR = True\n",
    "\n",
    "## Training setup\n",
    "LR = 1e-2\n",
    "WEIGHT_DECAY = 1e-6\n",
    "EPOCHS = 20"
   ]
  },
  {
   "cell_type": "markdown",
   "id": "b505f71b-f565-4f0f-8461-7532f29efe56",
   "metadata": {},
   "source": [
    "## Dataset download and setup"
   ]
  },
  {
   "cell_type": "code",
   "execution_count": 3,
   "id": "37425c3d-3b1a-4fee-804d-742fa486f609",
   "metadata": {},
   "outputs": [
    {
     "name": "stdout",
     "output_type": "stream",
     "text": [
      "cpu\n"
     ]
    }
   ],
   "source": [
    "# work on GPUs\n",
    "DEVICE = torch.device(\"cuda:0\" if torch.cuda.is_available() else \"cpu\")\n",
    "print(DEVICE)"
   ]
  },
  {
   "cell_type": "code",
   "execution_count": 4,
   "id": "26a34a70-af27-4864-80cf-02d5e9758dcd",
   "metadata": {},
   "outputs": [
    {
     "name": "stdout",
     "output_type": "stream",
     "text": [
      "60000\n",
      "10000\n"
     ]
    }
   ],
   "source": [
    "## Import Dataset (MNIST)\n",
    "transform = transforms.Compose([\n",
    "    transforms.ToTensor(),                             \n",
    "])\n",
    "\n",
    "# train_test_data = torchvision.datasets.MNIST(root='./Data', train=True, download=True, transform=transform)\n",
    "train_data = torchvision.datasets.MNIST(root='./Data', train=True, download=True, transform=transform)\n",
    "val_data  = torchvision.datasets.MNIST(root='./Data', train=False, download=True, transform=transform)\n",
    "\n",
    "#frac = 0.98\n",
    "#train_data, test_data = torch.utils.data.random_split(train_test_data, [frac, 1-frac], generator=torch.Generator().manual_seed(42))\n",
    "print(len(train_data))\n",
    "print(len(  val_data))\n",
    "#print(len( test_data))"
   ]
  },
  {
   "cell_type": "code",
   "execution_count": 5,
   "id": "d0b6742a-d628-4286-a451-e770bfab4d12",
   "metadata": {},
   "outputs": [
    {
     "name": "stdout",
     "output_type": "stream",
     "text": [
      "Train set:  1694 samples \n",
      "Val   set:  868 samples\n"
     ]
    }
   ],
   "source": [
    "# Filter out images with labels 1 and 7 from the training dataset\n",
    "indices = (train_data.targets == 1) + (train_data.targets == 2) # this has the same length as train_data.targets, filled with 1 and 0s\n",
    "indices[8000:] = False  # Limit the number of images with labels 1 and 7\n",
    "train_data.data, train_data.targets = train_data.data[indices], train_data.targets[indices]\n",
    "\n",
    "# Same thing for the Validation dataset\n",
    "indices = (val_data.targets == 1) + (val_data.targets == 2)\n",
    "indices[4000:] = False\n",
    "val_data.data, val_data.targets = val_data.data[indices], val_data.targets[indices]\n",
    "\n",
    "# Same thing for the Test dataset\n",
    "#indices = (test_data.targets == 1) + (test_data.targets == 7)\n",
    "#indices[4000:] = False\n",
    "#test_data.data, test_data.targets = test_data.data[indices], test_data.targets[indices]\n",
    "\n",
    "print(\"Train set: \", len(train_data.targets), \"samples \\nVal   set: \", len(val_data.targets), \"samples\")\n",
    "#print(\"Train set: \", len(train_data.targets), \"samples \\nVal set: \", len(val_data.targets), \"samples \\nTest set: \", len(test_data.targets), \"samples\")"
   ]
  },
  {
   "cell_type": "code",
   "execution_count": 6,
   "id": "114f3771-16d0-468c-ae4e-553078d0793f",
   "metadata": {},
   "outputs": [],
   "source": [
    "train_loader = torch.utils.data.DataLoader(train_data, batch_size=BATCH_SIZE,    shuffle=True)\n",
    "val_loader   = torch.utils.data.DataLoader(val_data,   batch_size=len(val_data), shuffle=False)\n",
    "#test_loader  = torch.utils.data.DataLoader(test_data,  batch_size=len(test_data),shuffle=False)"
   ]
  },
  {
   "cell_type": "code",
   "execution_count": 7,
   "id": "7f9b57d5-5b16-495f-9067-68453062f445",
   "metadata": {},
   "outputs": [],
   "source": [
    "def add_noise(data, sigma = .3):\n",
    "    noise = sigma*torch.randn_like(data)\n",
    "    noisy_data = torch.clip(data + noise, 0, 1)\n",
    "    return noisy_data"
   ]
  },
  {
   "cell_type": "markdown",
   "id": "f345c179-3dce-47f1-a170-43ac5921f9fb",
   "metadata": {},
   "source": [
    "## Dataset visualization"
   ]
  },
  {
   "cell_type": "code",
   "execution_count": 8,
   "id": "b4334014-ce7e-4c89-b01f-d08c3f866c42",
   "metadata": {
    "scrolled": true
   },
   "outputs": [
    {
     "data": {
      "image/png": "[encoded data removed]",
      "text/plain": [
       "<Figure size 800x400 with 8 Axes>"
      ]
     },
     "metadata": {},
     "output_type": "display_data"
    },
    {
     "name": "stdout",
     "output_type": "stream",
     "text": [
      "tensor([[[0.0000, 0.0000, 0.0000, 0.0000, 0.0000, 0.0000, 0.0000, 0.0000,\n",
      "          0.0000, 0.0000, 0.0000, 0.0000, 0.0000, 0.0000, 0.0000, 0.0000,\n",
      "          0.0000, 0.0000, 0.0000, 0.0000, 0.0000, 0.0000, 0.0000, 0.0000,\n",
      "          0.0000, 0.0000, 0.0000, 0.0000],\n",
      "         [0.0000, 0.0000, 0.0000, 0.0000, 0.0000, 0.0000, 0.0000, 0.0000,\n",
      "          0.0000, 0.0000, 0.0000, 0.0000, 0.0000, 0.0000, 0.0000, 0.0000,\n",
      "          0.0000, 0.0000, 0.0000, 0.0000, 0.0000, 0.0000, 0.0000, 0.0000,\n",
      "          0.0000, 0.0000, 0.0000, 0.0000],\n",
      "         [0.0000, 0.0000, 0.0000, 0.0000, 0.0000, 0.0000, 0.0000, 0.0000,\n",
      "          0.0000, 0.0000, 0.0000, 0.0000, 0.0000, 0.0000, 0.0000, 0.0000,\n",
      "          0.0000, 0.0000, 0.0000, 0.0000, 0.0000, 0.0000, 0.0000, 0.0000,\n",
      "          0.0000, 0.0000, 0.0000, 0.0000],\n",
      "         [0.0000, 0.0000, 0.0000, 0.0000, 0.0000, 0.0000, 0.0000, 0.0000,\n",
      "          0.0000, 0.0000, 0.0000, 0.0000, 0.0000, 0.0000, 0.0000, 0.0000,\n",
      "          0.0000, 0.0000, 0.0000, 0.0000, 0.0000, 0.0000, 0.0000, 0.0000,\n",
      "          0.0000, 0.0000, 0.0000, 0.0000],\n",
      "         [0.0000, 0.0000, 0.0000, 0.0000, 0.0000, 0.0000, 0.0000, 0.0000,\n",
      "          0.0000, 0.0000, 0.0000, 0.0000, 0.0000, 0.0000, 0.0000, 0.0000,\n",
      "          0.0000, 0.0000, 0.0000, 0.0000, 0.0000, 0.0000, 0.0000, 0.0000,\n",
      "          0.0000, 0.0000, 0.0000, 0.0000],\n",
      "         [0.0000, 0.0000, 0.0000, 0.0000, 0.0000, 0.0000, 0.0000, 0.0549,\n",
      "          0.4549, 0.5373, 0.9843, 0.6980, 0.0588, 0.0000, 0.0000, 0.0000,\n",
      "          0.0000, 0.0000, 0.0000, 0.0000, 0.0000, 0.0000, 0.0000, 0.0000,\n",
      "          0.0000, 0.0000, 0.0000, 0.0000],\n",
      "         [0.0000, 0.0000, 0.0000, 0.0000, 0.0000, 0.0000, 0.1294, 0.8980,\n",
      "          0.9961, 0.9961, 0.9961, 0.9961, 0.8588, 0.0431, 0.0000, 0.0000,\n",
      "          0.0000, 0.0000, 0.0000, 0.0000, 0.0000, 0.0000, 0.0000, 0.0000,\n",
      "          0.0000, 0.0000, 0.0000, 0.0000],\n",
      "         [0.0000, 0.0000, 0.0000, 0.0000, 0.0000, 0.0000, 0.4314, 0.9961,\n",
      "          0.6627, 0.3255, 0.3373, 0.9059, 0.9961, 0.6627, 0.0510, 0.0000,\n",
      "          0.0000, 0.0000, 0.0000, 0.0000, 0.0000, 0.0000, 0.0000, 0.0000,\n",
      "          0.0000, 0.0000, 0.0000, 0.0000],\n",
      "         [0.0000, 0.0000, 0.0000, 0.0000, 0.0000, 0.0000, 0.0549, 0.4745,\n",
      "          0.0471, 0.0000, 0.0000, 0.4314, 0.9961, 0.9961, 0.3608, 0.0000,\n",
      "          0.0000, 0.0000, 0.0000, 0.0000, 0.0000, 0.0000, 0.0000, 0.0000,\n",
      "          0.0000, 0.0000, 0.0000, 0.0000],\n",
      "         [0.0000, 0.0000, 0.0000, 0.0000, 0.0000, 0.0000, 0.0000, 0.0000,\n",
      "          0.0000, 0.0000, 0.0000, 0.0196, 0.5333, 0.9961, 0.9412, 0.1333,\n",
      "          0.0000, 0.0000, 0.0000, 0.0000, 0.0000, 0.0000, 0.0000, 0.0000,\n",
      "          0.0000, 0.0000, 0.0000, 0.0000],\n",
      "         [0.0000, 0.0000, 0.0000, 0.0000, 0.0000, 0.0000, 0.0000, 0.0000,\n",
      "          0.0000, 0.0000, 0.0000, 0.0000, 0.1647, 0.9961, 0.9961, 0.5725,\n",
      "          0.0000, 0.0000, 0.0000, 0.0000, 0.0000, 0.0000, 0.0000, 0.0000,\n",
      "          0.0000, 0.0000, 0.0000, 0.0000],\n",
      "         [0.0000, 0.0000, 0.0000, 0.0000, 0.0000, 0.0000, 0.0000, 0.0000,\n",
      "          0.0000, 0.0000, 0.0000, 0.0000, 0.0078, 0.4863, 0.9961, 0.9804,\n",
      "          0.0863, 0.0000, 0.0000, 0.0000, 0.0000, 0.0000, 0.0000, 0.0000,\n",
      "          0.0000, 0.0000, 0.0000, 0.0000],\n",
      "         [0.0000, 0.0000, 0.0000, 0.0000, 0.0000, 0.0000, 0.0000, 0.0000,\n",
      "          0.0000, 0.0000, 0.0000, 0.0000, 0.0000, 0.1059, 0.8706, 0.9647,\n",
      "          0.0824, 0.0000, 0.0000, 0.0000, 0.0000, 0.0000, 0.0000, 0.0000,\n",
      "          0.0000, 0.0000, 0.0000, 0.0000],\n",
      "         [0.0000, 0.0000, 0.0000, 0.0000, 0.0000, 0.0000, 0.0000, 0.0000,\n",
      "          0.0000, 0.0000, 0.0000, 0.0000, 0.0000, 0.0000, 0.7686, 0.6863,\n",
      "          0.0157, 0.0000, 0.0000, 0.0000, 0.0000, 0.0000, 0.0000, 0.0000,\n",
      "          0.0000, 0.0000, 0.0000, 0.0000],\n",
      "         [0.0000, 0.0000, 0.0000, 0.0000, 0.0000, 0.0000, 0.0000, 0.0000,\n",
      "          0.0000, 0.0000, 0.0000, 0.0000, 0.0000, 0.0000, 0.4471, 1.0000,\n",
      "          0.2000, 0.0000, 0.0000, 0.0000, 0.0000, 0.0000, 0.0000, 0.0000,\n",
      "          0.0000, 0.0000, 0.0000, 0.0000],\n",
      "         [0.0000, 0.0000, 0.0000, 0.0000, 0.0000, 0.0000, 0.0000, 0.0000,\n",
      "          0.0000, 0.0000, 0.0000, 0.0000, 0.0000, 0.0000, 0.3059, 0.9961,\n",
      "          0.5529, 0.0000, 0.0000, 0.0000, 0.0000, 0.0000, 0.0000, 0.0000,\n",
      "          0.0000, 0.0000, 0.0000, 0.0000],\n",
      "         [0.0000, 0.0000, 0.0000, 0.0000, 0.0000, 0.0000, 0.0000, 0.0000,\n",
      "          0.0000, 0.0000, 0.0000, 0.0000, 0.0000, 0.0000, 0.3059, 1.0000,\n",
      "          0.5529, 0.0000, 0.0000, 0.0000, 0.0000, 0.0000, 0.0000, 0.0000,\n",
      "          0.0000, 0.0000, 0.0000, 0.0000],\n",
      "         [0.0000, 0.0000, 0.0000, 0.0000, 0.0000, 0.0000, 0.0000, 0.0000,\n",
      "          0.0000, 0.0000, 0.0000, 0.0000, 0.0000, 0.0000, 0.5098, 0.9961,\n",
      "          0.3490, 0.0000, 0.0000, 0.0000, 0.0000, 0.0000, 0.0000, 0.0000,\n",
      "          0.0000, 0.0000, 0.0000, 0.0000],\n",
      "         [0.0000, 0.0000, 0.0000, 0.0000, 0.0000, 0.0000, 0.0000, 0.0000,\n",
      "          0.0000, 0.0000, 0.0000, 0.0078, 0.3451, 0.5137, 0.8863, 0.8078,\n",
      "          0.0471, 0.0000, 0.0000, 0.0000, 0.0000, 0.0000, 0.0000, 0.0000,\n",
      "          0.0000, 0.0000, 0.0000, 0.0000],\n",
      "         [0.0000, 0.0000, 0.0000, 0.0000, 0.0000, 0.0000, 0.0000, 0.0000,\n",
      "          0.0000, 0.0000, 0.0000, 0.0863, 0.9020, 1.0000, 0.9961, 0.6667,\n",
      "          0.0118, 0.0000, 0.0000, 0.0000, 0.0000, 0.0000, 0.0000, 0.0000,\n",
      "          0.0000, 0.0000, 0.0000, 0.0000],\n",
      "         [0.0000, 0.0000, 0.0000, 0.0000, 0.0000, 0.0000, 0.0000, 0.0000,\n",
      "          0.0000, 0.0000, 0.0000, 0.0000, 0.0588, 0.7137, 0.9961, 0.9961,\n",
      "          0.6824, 0.1020, 0.0000, 0.0000, 0.0000, 0.0000, 0.0000, 0.0000,\n",
      "          0.0000, 0.0000, 0.0000, 0.0000],\n",
      "         [0.0000, 0.0000, 0.0000, 0.0000, 0.0000, 0.0000, 0.0000, 0.0000,\n",
      "          0.0000, 0.0000, 0.0000, 0.0000, 0.0000, 0.0667, 0.7137, 0.8784,\n",
      "          0.9961, 0.8353, 0.2275, 0.0000, 0.0000, 0.0000, 0.0000, 0.0000,\n",
      "          0.0000, 0.0000, 0.0000, 0.0000],\n",
      "         [0.0000, 0.0000, 0.0000, 0.0000, 0.0000, 0.0000, 0.0000, 0.0000,\n",
      "          0.0000, 0.0000, 0.0000, 0.0000, 0.0000, 0.0000, 0.0627, 0.1098,\n",
      "          0.9294, 0.9961, 0.9725, 0.7059, 0.2431, 0.0000, 0.0000, 0.0000,\n",
      "          0.0000, 0.0000, 0.0000, 0.0000],\n",
      "         [0.0000, 0.0000, 0.0000, 0.0000, 0.0000, 0.0000, 0.0000, 0.0000,\n",
      "          0.0000, 0.0000, 0.0000, 0.0000, 0.0000, 0.0000, 0.0000, 0.0000,\n",
      "          0.1255, 0.7961, 0.9961, 0.9961, 0.9647, 0.5804, 0.0000, 0.0000,\n",
      "          0.0000, 0.0000, 0.0000, 0.0000],\n",
      "         [0.0000, 0.0000, 0.0000, 0.0000, 0.0000, 0.0000, 0.0000, 0.0000,\n",
      "          0.0000, 0.0000, 0.0000, 0.0000, 0.0000, 0.0000, 0.0000, 0.0000,\n",
      "          0.0000, 0.0353, 0.1765, 0.9961, 0.9961, 0.6706, 0.0000, 0.0000,\n",
      "          0.0000, 0.0000, 0.0000, 0.0000],\n",
      "         [0.0000, 0.0000, 0.0000, 0.0000, 0.0000, 0.0000, 0.0000, 0.0000,\n",
      "          0.0000, 0.0000, 0.0000, 0.0000, 0.0000, 0.0000, 0.0000, 0.0000,\n",
      "          0.0000, 0.0000, 0.0000, 0.0000, 0.0000, 0.0000, 0.0000, 0.0000,\n",
      "          0.0000, 0.0000, 0.0000, 0.0000],\n",
      "         [0.0000, 0.0000, 0.0000, 0.0000, 0.0000, 0.0000, 0.0000, 0.0000,\n",
      "          0.0000, 0.0000, 0.0000, 0.0000, 0.0000, 0.0000, 0.0000, 0.0000,\n",
      "          0.0000, 0.0000, 0.0000, 0.0000, 0.0000, 0.0000, 0.0000, 0.0000,\n",
      "          0.0000, 0.0000, 0.0000, 0.0000],\n",
      "         [0.0000, 0.0000, 0.0000, 0.0000, 0.0000, 0.0000, 0.0000, 0.0000,\n",
      "          0.0000, 0.0000, 0.0000, 0.0000, 0.0000, 0.0000, 0.0000, 0.0000,\n",
      "          0.0000, 0.0000, 0.0000, 0.0000, 0.0000, 0.0000, 0.0000, 0.0000,\n",
      "          0.0000, 0.0000, 0.0000, 0.0000]]])\n"
     ]
    }
   ],
   "source": [
    "## Plotting utility\n",
    "def plot_images(images, title):\n",
    "    plt.figure(figsize=(8, 4)) # they're inches...\n",
    "    for i in range(8):\n",
    "        plt.subplot(2, 4, i + 1)\n",
    "        plt.imshow(images[i].cpu().squeeze().numpy(), cmap='gray')\n",
    "        plt.axis('off')\n",
    "    plt.suptitle(title, y=1.05)\n",
    "    plt.tight_layout()\n",
    "\n",
    "\n",
    "## Visualize sample from dataset\n",
    "with torch.no_grad():\n",
    "    idx, (images, _) = next(enumerate(train_loader))\n",
    "    if DENOISING:\n",
    "        images_noisy = add_noise(images)\n",
    "\n",
    "plot_images(images, title=\"Original Images\")\n",
    "if DENOISING:\n",
    "    plot_images(images_noisy, title=\"Noisy Images\")\n",
    "    \n",
    "plt.show()\n",
    "print(images[0]) # grey scale in [0,1]"
   ]
  },
  {
   "cell_type": "markdown",
   "id": "633ef9f7-7fa8-4566-8bec-f4091f261838",
   "metadata": {},
   "source": [
    "## Model and Training"
   ]
  },
  {
   "cell_type": "code",
   "execution_count": 9,
   "id": "1e158d3e-88a4-4474-ad82-36312728071a",
   "metadata": {},
   "outputs": [],
   "source": [
    "## Build model\n",
    "class AE(nn.Module):\n",
    "    def __init__(self, input_dim, out_dim, latent_dim, hidden_dim=[200,50], tied_weights=False, linear=False):\n",
    "        super().__init__()\n",
    "\n",
    "        self.latent_dim = latent_dim\n",
    "        self.hidden_dim = hidden_dim\n",
    "        self.linear = linear\n",
    "\n",
    "        if linear:\n",
    "            tied_weights=True # mandatory for PCA\n",
    "        \n",
    "        ## Utilities\n",
    "        self.flatten = nn.Flatten(1,3)\n",
    "        if not linear:\n",
    "            self.activation = nn.ReLU()\n",
    "\n",
    "        ## Encoder\n",
    "        self.encoder = nn.ModuleList([])\n",
    "        self.encoder.append(nn.Linear(input_dim, hidden_dim[0]))\n",
    "        if len(hidden_dim) > 1:\n",
    "            for i in range(len(hidden_dim)-1):\n",
    "                self.encoder.append(nn.Linear(hidden_dim[i], hidden_dim[i+1]))\n",
    "                \n",
    "        self.encoder.append(nn.Linear(hidden_dim[-1], latent_dim))\n",
    "        \n",
    "        ## Decoder\n",
    "        self.decoder = nn.ModuleList([])\n",
    "        self.decoder.append(nn.Linear(latent_dim, hidden_dim[-1]))\n",
    "        \n",
    "        if len(hidden_dim) > 1:\n",
    "            for i in range(1,len(hidden_dim)):\n",
    "                self.decoder.append(nn.Linear(hidden_dim[-i], hidden_dim[-i-1]))\n",
    "\n",
    "        self.decoder.append(nn.Linear(hidden_dim[0], out_dim))\n",
    "        \n",
    "        if tied_weights:\n",
    "            for i in range(len(self.encoder)):\n",
    "                self.decoder[i].weight = nn.Parameter(self.encoder[-i-1].weight.transpose(0,1))\n",
    "\n",
    "        ## Out\n",
    "        self.sigmoid = nn.Sigmoid()\n",
    "        self.unflatten = nn.Unflatten(1, (1, 28, 28)) # for MNIST images\n",
    "\n",
    "    def encode(self, x):\n",
    "        z = self.flatten(x)\n",
    "        for layer in self.encoder:\n",
    "            z = layer(z)\n",
    "            if not self.linear:\n",
    "                z = self.activation(z)\n",
    "        \n",
    "        return z\n",
    "\n",
    "    def decode(self, z):\n",
    "\n",
    "        for i, layer in enumerate(self.decoder):\n",
    "            z = layer(z)\n",
    "            if not self.linear and i != (len(self.decoder)-1): # the last activation needs to be a sigmoid\n",
    "                z = self.activation(z)\n",
    "\n",
    "        if not self.linear:\n",
    "            z = self.sigmoid(z)\n",
    "            \n",
    "        x_rec = self.unflatten(z)\n",
    "\n",
    "        return x_rec\n",
    "\n",
    "    def forward(self, x):\n",
    "        z     = self.encode(x)\n",
    "        x_rec = self.decode(z)\n",
    "\n",
    "        return x_rec, z "
   ]
  },
  {
   "cell_type": "code",
   "execution_count": 10,
   "id": "69b30cdc-b304-4b07-ae4f-392bfc5290b8",
   "metadata": {},
   "outputs": [],
   "source": [
    "## Loss definition\n",
    "def loss(x, x_gen):\n",
    "    criterion = nn.MSELoss()\n",
    "    mse = criterion(x, x_gen)\n",
    "    \n",
    "    # L1 regularization\n",
    "    # L1 = torch.sum(torch.abs(z))\n",
    "    # return mse + lambd*L1\n",
    "    \n",
    "    return mse\n",
    "\n",
    "# Untested\n",
    "def lossKL(x, x_gen, z, rho):\n",
    "    criterion = nn.MSELoss()\n",
    "    mse = criterion(x, x_gen)\n",
    "    criterion_reg = nn.BCELoss() # corresponds to Dkl\n",
    "    # Compute average (over minibatch) activation\n",
    "    rho_hat = torch.mean(z, axis=0)\n",
    "    Dkl = criterion_reg(rho*torch.ones_like(rho_hat), rho_hat)\n",
    "\n",
    "    # volendo ci può stare 1 altro hyperparam a controllare il peso relativo...\n",
    "    return mse + Dkl"
   ]
  },
  {
   "cell_type": "code",
   "execution_count": 11,
   "id": "96da6d1b-f863-4675-b352-7a4113f8dfcd",
   "metadata": {
    "jupyter": {
     "source_hidden": true
    }
   },
   "outputs": [
    {
     "data": {
      "text/plain": [
       "tensor(4.6667)"
      ]
     },
     "execution_count": 11,
     "metadata": {},
     "output_type": "execute_result"
    }
   ],
   "source": [
    "## Test cell\n",
    "a = torch.Tensor([1,2,-3])\n",
    "b = torch.Tensor(1)\n",
    "criterion = nn.MSELoss()\n",
    "criterion(a,b*torch.ones_like(a))\n",
    "# torch.sum(torch.abs(a))"
   ]
  },
  {
   "cell_type": "code",
   "execution_count": 12,
   "id": "73ac0583-4bd4-4c10-a4a9-c5097635b820",
   "metadata": {},
   "outputs": [
    {
     "name": "stdout",
     "output_type": "stream",
     "text": [
      "<bound method Module.parameters of AE(\n",
      "  (flatten): Flatten(start_dim=1, end_dim=3)\n",
      "  (encoder): ModuleList(\n",
      "    (0): Linear(in_features=784, out_features=2, bias=True)\n",
      "    (1): Linear(in_features=2, out_features=2, bias=True)\n",
      "  )\n",
      "  (decoder): ModuleList(\n",
      "    (0): Linear(in_features=2, out_features=2, bias=True)\n",
      "    (1): Linear(in_features=2, out_features=784, bias=True)\n",
      "  )\n",
      "  (sigmoid): Sigmoid()\n",
      "  (unflatten): Unflatten(dim=1, unflattened_size=(1, 28, 28))\n",
      ")>\n"
     ]
    }
   ],
   "source": [
    "if DENOISING:\n",
    "    denoising_model = AE(IMAGE_DIM, IMAGE_DIM, LATENT_DIM, HIDDEN_DIM)\n",
    "    denoising_model = model.to(DEVICE)\n",
    "else:\n",
    "    model = AE(IMAGE_DIM, IMAGE_DIM, LATENT_DIM, HIDDEN_DIM, tied_weights=TIED_WEIGHTS, linear=LINEAR)\n",
    "    model = model.to(DEVICE)\n",
    "\n",
    "\n",
    "## Optimizer choice\n",
    "optimizer = optim.Adam(model.parameters(),\n",
    "                      lr = LR,\n",
    "                      weight_decay=WEIGHT_DECAY)\n",
    "\n",
    "## Model summary\n",
    "if DENOISING:\n",
    "    print(denoising_model.parameters)\n",
    "else:\n",
    "    print(model.parameters)"
   ]
  },
  {
   "cell_type": "raw",
   "id": "3456e962-b6db-4350-b4fb-0b39e66c5d23",
   "metadata": {
    "jupyter": {
     "source_hidden": true
    }
   },
   "source": [
    "## Test cell\n",
    "my_mini_model = AE(5,5,2,[2], tied_weights=True)\n",
    "print(my_mini_model.encoder[1].weight)\n",
    "print(my_mini_model.decoder[-2].weight)\n",
    "\n",
    "with torch.no_grad():\n",
    "    my_mini_model.encoder[1].weight[0,0] = 0.2222\n",
    "    print(my_mini_model.decoder[-2].weight[0,0])"
   ]
  },
  {
   "cell_type": "markdown",
   "id": "cbbe99c7-62cc-4961-9695-69d9c5f17fd3",
   "metadata": {},
   "source": [
    "### Training"
   ]
  },
  {
   "cell_type": "code",
   "execution_count": 13,
   "id": "a153ad0e-fa43-44b1-96a7-86641d6bd736",
   "metadata": {},
   "outputs": [
    {
     "name": "stdout",
     "output_type": "stream",
     "text": [
      "Epoch:  1 -- Loss = 0.05421 -- Val loss = 0.04054\n",
      "Epoch:  2 -- Loss = 0.04195 -- Val loss = 0.04003\n",
      "Epoch:  3 -- Loss = 0.04085 -- Val loss = 0.03867\n",
      "Epoch:  4 -- Loss = 0.03936 -- Val loss = 0.03723\n",
      "Epoch:  5 -- Loss = 0.03815 -- Val loss = 0.03734\n",
      "Epoch:  6 -- Loss = 0.03738 -- Val loss = 0.03612\n",
      "Epoch:  7 -- Loss = 0.03700 -- Val loss = 0.03658\n",
      "Epoch:  8 -- Loss = 0.03687 -- Val loss = 0.03664\n",
      "Epoch:  9 -- Loss = 0.03686 -- Val loss = 0.03608\n",
      "Epoch: 10 -- Loss = 0.03679 -- Val loss = 0.03640\n",
      "Epoch: 11 -- Loss = 0.03683 -- Val loss = 0.03586\n",
      "Epoch: 12 -- Loss = 0.03681 -- Val loss = 0.03631\n",
      "Epoch: 13 -- Loss = 0.03675 -- Val loss = 0.03616\n",
      "Epoch: 14 -- Loss = 0.03674 -- Val loss = 0.03569\n",
      "Epoch: 15 -- Loss = 0.03701 -- Val loss = 0.03630\n",
      "Epoch: 16 -- Loss = 0.03682 -- Val loss = 0.03662\n",
      "Epoch: 17 -- Loss = 0.03682 -- Val loss = 0.03583\n",
      "Epoch: 18 -- Loss = 0.03703 -- Val loss = 0.03676\n",
      "Epoch: 19 -- Loss = 0.03689 -- Val loss = 0.03627\n",
      "Epoch: 20 -- Loss = 0.03679 -- Val loss = 0.03555\n"
     ]
    }
   ],
   "source": [
    "# train loop\n",
    "loss_train = []\n",
    "loss_val   = []\n",
    "\n",
    "for epoch in range(EPOCHS):\n",
    "    loss_epoch = 0.0\n",
    "    for x_train, _ in train_loader:\n",
    "        x_train = x_train.to(DEVICE)\n",
    "        \n",
    "        if DENOISING:\n",
    "            x_train_noisy = add_noise(x_train)\n",
    "            x_train_noisy = x_train_noisy.to(DEVICE)\n",
    "            x_gen, z = denoising_model(x_train_noisy)\n",
    "        else:\n",
    "            x_gen, z = model(x_train)\n",
    "        \n",
    "        computed_loss = loss(x_gen, x_train)\n",
    "        #computed_loss = lossKL(x_gen, x_train, z, RHO)\n",
    "        loss_epoch += computed_loss.detach()\n",
    "        \n",
    "        optimizer.zero_grad()\n",
    "        computed_loss.backward()\n",
    "        optimizer.step()\n",
    "\n",
    "    ## Loss record\n",
    "    loss_epoch /= len(train_loader)\n",
    "    loss_train.append(loss_epoch)\n",
    "\n",
    "    with torch.no_grad():\n",
    "        for x_val, _ in val_loader:\n",
    "            x_val = x_val.to(DEVICE)\n",
    "            \n",
    "            if DENOISING:\n",
    "                x_val_noisy = add_noise(x_val)\n",
    "                x_val_noisy = x_val_noisy.to(DEVICE)\n",
    "                x_gen_val, z = denoising_model(x_val_noisy)\n",
    "            else:\n",
    "                x_gen_val, z = model(x_val)\n",
    "                \n",
    "            val_computed_loss = loss(x_gen_val, x_val)\n",
    "            # val_computed_loss = lossKL(x_gen_val, x_val, z, RHO)\n",
    "            loss_val.append(val_computed_loss.detach())\n",
    "            \n",
    "    print(f\"Epoch: {epoch+1:2.0f} -- Loss = {loss_epoch:.5f} -- Val loss = {val_computed_loss:.5f}\")"
   ]
  },
  {
   "cell_type": "markdown",
   "id": "50b01afa-373b-406e-b963-8eb72e36aa43",
   "metadata": {},
   "source": [
    "### Visualization"
   ]
  },
  {
   "cell_type": "code",
   "execution_count": 14,
   "id": "b5955dd6-e8e1-4325-9c2a-e6ee083eaac9",
   "metadata": {},
   "outputs": [
    {
     "data": {
      "image/png": "[encoded data removed]",
      "text/plain": [
       "<Figure size 640x480 with 1 Axes>"
      ]
     },
     "metadata": {},
     "output_type": "display_data"
    }
   ],
   "source": [
    "## Train and validation loss curves\n",
    "plt.plot(loss_train, label = \"Train\")\n",
    "plt.plot(loss_val  , label = \"Validation\")\n",
    "\n",
    "plt.xlabel(\"Epochs\")\n",
    "plt.ylabel(\"Loss\")\n",
    "\n",
    "plt.legend()\n",
    "\n",
    "plt.show()"
   ]
  },
  {
   "cell_type": "code",
   "execution_count": 15,
   "id": "8067b26d-18c9-4871-b511-1ccf27cfbac3",
   "metadata": {},
   "outputs": [
    {
     "data": {
      "text/plain": [
       "9"
      ]
     },
     "execution_count": 15,
     "metadata": {},
     "output_type": "execute_result"
    }
   ],
   "source": [
    "# i = 0\n",
    "torch.randint(10,(1,)).item()"
   ]
  },
  {
   "cell_type": "code",
   "execution_count": 16,
   "id": "0d507bd3-f1e2-4a41-98b1-0016dc2d7f1f",
   "metadata": {},
   "outputs": [
    {
     "data": {
      "image/png": "[encoded data removed]",
      "text/plain": [
       "<Figure size 800x400 with 8 Axes>"
      ]
     },
     "metadata": {},
     "output_type": "display_data"
    },
    {
     "data": {
      "image/png": "[encoded data removed]",
      "text/plain": [
       "<Figure size 800x400 with 8 Axes>"
      ]
     },
     "metadata": {},
     "output_type": "display_data"
    }
   ],
   "source": [
    "## Compare actual figures\n",
    "i = torch.randint(100, (1,)).item()\n",
    "\n",
    "with torch.no_grad():\n",
    "    for images, _ in val_loader:\n",
    "        images = images.to(DEVICE)\n",
    "        if DENOISING:\n",
    "            images_noisy = add_noise(images)\n",
    "        images_gen, z = model(images)\n",
    "        break\n",
    "\n",
    "plot_images(images[i*8:(i+1)*8,:,:,:], title=\"Original Images\")\n",
    "if DENOISING:\n",
    "    plot_images(images_noisy, title=\"Noisy Images\")\n",
    "plot_images(images_gen[i*8:(i+1)*8,:,:,:], title=\"Generated Images\")\n",
    "plt.show()"
   ]
  },
  {
   "cell_type": "code",
   "execution_count": 17,
   "id": "9812d948-ec18-4e53-8935-b640b33743c8",
   "metadata": {},
   "outputs": [],
   "source": [
    "## Sample from latent space\n",
    "## Generate"
   ]
  }
 ],
 "metadata": {
  "kernelspec": {
   "display_name": "Python 3 (ipykernel)",
   "language": "python",
   "name": "python3"
  },
  "language_info": {
   "codemirror_mode": {
    "name": "ipython",
    "version": 3
   },
   "file_extension": ".py",
   "mimetype": "text/x-python",
   "name": "python",
   "nbconvert_exporter": "python",
   "pygments_lexer": "ipython3",
   "version": "3.12.11"
  }
 },
 "nbformat": 4,
 "nbformat_minor": 5
}
